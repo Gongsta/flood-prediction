{
 "cells": [
  {
   "cell_type": "code",
   "execution_count": 1,
   "metadata": {
    "ExecuteTime": {
     "end_time": "2020-02-19T17:35:45.581450Z",
     "start_time": "2020-02-19T17:35:43.693498Z"
    }
   },
   "outputs": [],
   "source": [
    "import xarray as xr"
   ]
  },
  {
   "cell_type": "code",
   "execution_count": 2,
   "metadata": {
    "ExecuteTime": {
     "end_time": "2020-02-19T17:35:46.769109Z",
     "start_time": "2020-02-19T17:35:46.697561Z"
    }
   },
   "outputs": [],
   "source": [
    "glofas = xr.open_dataset('/tmp/flood_prediction/pipeline/data_download:upload/reshaped_glofas_2019.nc')"
   ]
  },
  {
   "cell_type": "code",
   "execution_count": null,
   "metadata": {
    "ExecuteTime": {
     "start_time": "2020-02-19T17:35:58.804Z"
    }
   },
   "outputs": [],
   "source": [
    "glofas_mask = glofas['dis24'] > 100\n",
    "\n",
    "glofas = glofas.where(glofas_mask, drop=True)"
   ]
  },
  {
   "cell_type": "code",
   "execution_count": null,
   "metadata": {
    "ExecuteTime": {
     "start_time": "2020-02-19T17:36:36.850Z"
    }
   },
   "outputs": [],
   "source": [
    "glofas['dis24'].isel(time=200).plot(vmin=0, vmax=5000, figsize=(15,5))"
   ]
  },
  {
   "cell_type": "code",
   "execution_count": null,
   "metadata": {
    "ExecuteTime": {
     "end_time": "2020-02-18T04:03:42.082817Z",
     "start_time": "2020-02-18T03:56:33.977Z"
    }
   },
   "outputs": [],
   "source": [
    "glofas['dis24'].isel(time=400).plot(vmin=0, vmax=5000, figsize=(15,5))"
   ]
  },
  {
   "cell_type": "code",
   "execution_count": null,
   "metadata": {},
   "outputs": [],
   "source": []
  }
 ],
 "metadata": {
  "kernelspec": {
   "display_name": "Python 3",
   "language": "python",
   "name": "python3"
  },
  "language_info": {
   "codemirror_mode": {
    "name": "ipython",
    "version": 3
   },
   "file_extension": ".py",
   "mimetype": "text/x-python",
   "name": "python",
   "nbconvert_exporter": "python",
   "pygments_lexer": "ipython3",
   "version": "3.6.10"
  },
  "toc": {
   "base_numbering": 1,
   "nav_menu": {},
   "number_sections": true,
   "sideBar": true,
   "skip_h1_title": false,
   "title_cell": "Table of Contents",
   "title_sidebar": "Contents",
   "toc_cell": false,
   "toc_position": {},
   "toc_section_display": true,
   "toc_window_display": false
  }
 },
 "nbformat": 4,
 "nbformat_minor": 2
}
