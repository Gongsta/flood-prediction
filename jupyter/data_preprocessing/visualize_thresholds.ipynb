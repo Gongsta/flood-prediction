{
 "cells": [
  {
   "cell_type": "code",
   "execution_count": 1,
   "metadata": {},
   "outputs": [],
   "source": [
    "import xarray as xr\n",
    "import sys\n",
    "sys.path.append(\"../../\")"
   ]
  },
  {
   "cell_type": "code",
   "execution_count": 22,
   "metadata": {},
   "outputs": [],
   "source": [
    "eps = xr.open_dataset('/Volumes/portableHardDisk/data/thresholds/20year.nc')"
   ]
  },
  {
   "cell_type": "code",
   "execution_count": 23,
   "metadata": {},
   "outputs": [
    {
     "data": {
      "text/html": [
       "<pre>&lt;xarray.Dataset&gt;\n",
       "Dimensions:    (latitude: 1500, longitude: 3600)\n",
       "Coordinates:\n",
       "  * latitude   (latitude) float64 -59.95 -59.85 -59.75 ... 89.75 89.85 89.95\n",
       "  * longitude  (longitude) float64 -179.9 -179.8 -179.8 ... 179.8 179.9 180.0\n",
       "Data variables:\n",
       "    Band1      (latitude, longitude) float32 ...\n",
       "Attributes:\n",
       "    GDAL_PCRASTER_VALUESCALE:  VS_SCALAR\n",
       "    Conventions:               CF-1.5\n",
       "    GDAL:                      GDAL 2.3.3, released 2018/12/14\n",
       "    history:                   Tue Mar 03 11:41:40 2020: GDAL CreateCopy( 20y...</pre>"
      ],
      "text/plain": [
       "<xarray.Dataset>\n",
       "Dimensions:    (latitude: 1500, longitude: 3600)\n",
       "Coordinates:\n",
       "  * latitude   (latitude) float64 -59.95 -59.85 -59.75 ... 89.75 89.85 89.95\n",
       "  * longitude  (longitude) float64 -179.9 -179.8 -179.8 ... 179.8 179.9 180.0\n",
       "Data variables:\n",
       "    Band1      (latitude, longitude) float32 ...\n",
       "Attributes:\n",
       "    GDAL_PCRASTER_VALUESCALE:  VS_SCALAR\n",
       "    Conventions:               CF-1.5\n",
       "    GDAL:                      GDAL 2.3.3, released 2018/12/14\n",
       "    history:                   Tue Mar 03 11:41:40 2020: GDAL CreateCopy( 20y..."
      ]
     },
     "execution_count": 23,
     "metadata": {},
     "output_type": "execute_result"
    }
   ],
   "source": [
    "eps = eps.rename({'lat': 'latitude'})\n",
    "eps = eps.rename({'lon': 'longitude'})\n",
    "\n",
    "eps"
   ]
  },
  {
   "cell_type": "code",
   "execution_count": 24,
   "metadata": {},
   "outputs": [
    {
     "data": {
      "text/plain": [
       "<matplotlib.collections.QuadMesh at 0x11ac5a4d0>"
      ]
     },
     "execution_count": 24,
     "metadata": {},
     "output_type": "execute_result"
    },
    {
     "data": {
      "image/png": "[encoded data removed]",
      "text/plain": [
       "<Figure size 432x288 with 2 Axes>"
      ]
     },
     "metadata": {
      "needs_background": "light"
     },
     "output_type": "display_data"
    }
   ],
   "source": [
    "eps['Band1'].plot()"
   ]
  },
  {
   "cell_type": "code",
   "execution_count": 15,
   "metadata": {},
   "outputs": [],
   "source": [
    "from functions.floodmodel_utils import get_basin_mask, get_river_mask\n",
    "elbe_basin_mask = get_basin_mask(eps.isel(time=0, ensemble=0)['dis'], 'Elbe')"
   ]
  },
  {
   "cell_type": "code",
   "execution_count": 16,
   "metadata": {},
   "outputs": [
    {
     "data": {
      "text/html": [
       "<pre>&lt;xarray.Dataset&gt;\n",
       "Dimensions:    (ensemble: 51, latitude: 54, longitude: 71, time: 31)\n",
       "Coordinates:\n",
       "  * time       (time) datetime64[ns] 2019-11-05 2019-11-06 ... 2019-12-05\n",
       "  * longitude  (longitude) float32 9.25 9.35 9.45 9.55 ... 16.05 16.15 16.25\n",
       "  * latitude   (latitude) float32 53.85 53.75 53.65 53.55 ... 48.75 48.65 48.55\n",
       "  * ensemble   (ensemble) float64 0.0 1.0 2.0 3.0 4.0 ... 47.0 48.0 49.0 50.0\n",
       "Data variables:\n",
       "    ups        (latitude, longitude) float32 nan nan nan nan ... nan nan nan nan\n",
       "    ldd        (latitude, longitude) float32 nan nan nan nan ... nan nan nan nan\n",
       "    rl2        (latitude, longitude) float32 nan nan nan nan ... nan nan nan nan\n",
       "    rl5        (latitude, longitude) float32 nan nan nan nan ... nan nan nan nan\n",
       "    rl20       (latitude, longitude) float32 nan nan nan nan ... nan nan nan nan\n",
       "    dis        (time, ensemble, latitude, longitude) float32 nan nan ... nan nan\n",
       "Attributes:\n",
       "    CDI:          Climate Data Interface version 1.9.6 (http://mpimet.mpg.de/...\n",
       "    history:      Sun Feb 16 23:26:52 2020: cdo -f nc4 -z zip copy tmp.nc /vo...\n",
       "    Conventions:  CF-1.6\n",
       "    CDO:          Climate Data Operators version 1.9.6 (http://mpimet.mpg.de/...</pre>"
      ],
      "text/plain": [
       "<xarray.Dataset>\n",
       "Dimensions:    (ensemble: 51, latitude: 54, longitude: 71, time: 31)\n",
       "Coordinates:\n",
       "  * time       (time) datetime64[ns] 2019-11-05 2019-11-06 ... 2019-12-05\n",
       "  * longitude  (longitude) float32 9.25 9.35 9.45 9.55 ... 16.05 16.15 16.25\n",
       "  * latitude   (latitude) float32 53.85 53.75 53.65 53.55 ... 48.75 48.65 48.55\n",
       "  * ensemble   (ensemble) float64 0.0 1.0 2.0 3.0 4.0 ... 47.0 48.0 49.0 50.0\n",
       "Data variables:\n",
       "    ups        (latitude, longitude) float32 nan nan nan nan ... nan nan nan nan\n",
       "    ldd        (latitude, longitude) float32 nan nan nan nan ... nan nan nan nan\n",
       "    rl2        (latitude, longitude) float32 nan nan nan nan ... nan nan nan nan\n",
       "    rl5        (latitude, longitude) float32 nan nan nan nan ... nan nan nan nan\n",
       "    rl20       (latitude, longitude) float32 nan nan nan nan ... nan nan nan nan\n",
       "    dis        (time, ensemble, latitude, longitude) float32 nan nan ... nan nan\n",
       "Attributes:\n",
       "    CDI:          Climate Data Interface version 1.9.6 (http://mpimet.mpg.de/...\n",
       "    history:      Sun Feb 16 23:26:52 2020: cdo -f nc4 -z zip copy tmp.nc /vo...\n",
       "    Conventions:  CF-1.6\n",
       "    CDO:          Climate Data Operators version 1.9.6 (http://mpimet.mpg.de/..."
      ]
     },
     "execution_count": 16,
     "metadata": {},
     "output_type": "execute_result"
    }
   ],
   "source": [
    "eps_masked = eps.where(elbe_basin_mask, drop=True)\n",
    "eps_masked"
   ]
  },
  {
   "cell_type": "code",
   "execution_count": 17,
   "metadata": {},
   "outputs": [
    {
     "data": {
      "text/html": [
       "<pre>&lt;xarray.Dataset&gt;\n",
       "Dimensions:    (ensemble: 51, latitude: 54, longitude: 71, time: 31)\n",
       "Coordinates:\n",
       "  * time       (time) datetime64[ns] 2019-11-05 2019-11-06 ... 2019-12-05\n",
       "  * longitude  (longitude) float32 9.25 9.35 9.45 9.55 ... 16.05 16.15 16.25\n",
       "  * latitude   (latitude) float32 53.85 53.75 53.65 53.55 ... 48.75 48.65 48.55\n",
       "  * ensemble   (ensemble) float64 0.0 1.0 2.0 3.0 4.0 ... 47.0 48.0 49.0 50.0\n",
       "Data variables:\n",
       "    ups        (latitude, longitude) float32 nan nan nan nan ... nan nan nan nan\n",
       "    ldd        (latitude, longitude) float32 nan nan nan nan ... nan nan nan nan\n",
       "    rl2        (latitude, longitude) float32 nan nan nan nan ... nan nan nan nan\n",
       "    rl5        (latitude, longitude) float32 nan nan nan nan ... nan nan nan nan\n",
       "    rl20       (latitude, longitude) float32 nan nan nan nan ... nan nan nan nan\n",
       "    dis        (time, ensemble, latitude, longitude) float32 nan nan ... nan nan\n",
       "Attributes:\n",
       "    CDI:          Climate Data Interface version 1.9.6 (http://mpimet.mpg.de/...\n",
       "    history:      Sun Feb 16 23:26:52 2020: cdo -f nc4 -z zip copy tmp.nc /vo...\n",
       "    Conventions:  CF-1.6\n",
       "    CDO:          Climate Data Operators version 1.9.6 (http://mpimet.mpg.de/...</pre>"
      ],
      "text/plain": [
       "<xarray.Dataset>\n",
       "Dimensions:    (ensemble: 51, latitude: 54, longitude: 71, time: 31)\n",
       "Coordinates:\n",
       "  * time       (time) datetime64[ns] 2019-11-05 2019-11-06 ... 2019-12-05\n",
       "  * longitude  (longitude) float32 9.25 9.35 9.45 9.55 ... 16.05 16.15 16.25\n",
       "  * latitude   (latitude) float32 53.85 53.75 53.65 53.55 ... 48.75 48.65 48.55\n",
       "  * ensemble   (ensemble) float64 0.0 1.0 2.0 3.0 4.0 ... 47.0 48.0 49.0 50.0\n",
       "Data variables:\n",
       "    ups        (latitude, longitude) float32 nan nan nan nan ... nan nan nan nan\n",
       "    ldd        (latitude, longitude) float32 nan nan nan nan ... nan nan nan nan\n",
       "    rl2        (latitude, longitude) float32 nan nan nan nan ... nan nan nan nan\n",
       "    rl5        (latitude, longitude) float32 nan nan nan nan ... nan nan nan nan\n",
       "    rl20       (latitude, longitude) float32 nan nan nan nan ... nan nan nan nan\n",
       "    dis        (time, ensemble, latitude, longitude) float32 nan nan ... nan nan\n",
       "Attributes:\n",
       "    CDI:          Climate Data Interface version 1.9.6 (http://mpimet.mpg.de/...\n",
       "    history:      Sun Feb 16 23:26:52 2020: cdo -f nc4 -z zip copy tmp.nc /vo...\n",
       "    Conventions:  CF-1.6\n",
       "    CDO:          Climate Data Operators version 1.9.6 (http://mpimet.mpg.de/..."
      ]
     },
     "execution_count": 17,
     "metadata": {},
     "output_type": "execute_result"
    }
   ],
   "source": [
    "eps_masked"
   ]
  },
  {
   "cell_type": "code",
   "execution_count": 18,
   "metadata": {},
   "outputs": [
    {
     "data": {
      "text/html": [
       "<pre>&lt;xarray.Dataset&gt;\n",
       "Dimensions:   (ensemble: 51, time: 31)\n",
       "Coordinates:\n",
       "  * time      (time) datetime64[ns] 2019-11-05 2019-11-06 ... 2019-12-05\n",
       "  * ensemble  (ensemble) float64 0.0 1.0 2.0 3.0 4.0 ... 47.0 48.0 49.0 50.0\n",
       "Data variables:\n",
       "    ups       float32 25365.314\n",
       "    ldd       float32 5.9570956\n",
       "    rl2       float32 255.74088\n",
       "    rl5       float32 393.31653\n",
       "    rl20      float32 571.7765\n",
       "    dis       (time, ensemble) float32 23.731056 23.731056 ... 22.562214</pre>"
      ],
      "text/plain": [
       "<xarray.Dataset>\n",
       "Dimensions:   (ensemble: 51, time: 31)\n",
       "Coordinates:\n",
       "  * time      (time) datetime64[ns] 2019-11-05 2019-11-06 ... 2019-12-05\n",
       "  * ensemble  (ensemble) float64 0.0 1.0 2.0 3.0 4.0 ... 47.0 48.0 49.0 50.0\n",
       "Data variables:\n",
       "    ups       float32 25365.314\n",
       "    ldd       float32 5.9570956\n",
       "    rl2       float32 255.74088\n",
       "    rl5       float32 393.31653\n",
       "    rl20      float32 571.7765\n",
       "    dis       (time, ensemble) float32 23.731056 23.731056 ... 22.562214"
      ]
     },
     "execution_count": 18,
     "metadata": {},
     "output_type": "execute_result"
    }
   ],
   "source": [
    "mean_eps_masked = eps_masked.mean(['latitude', 'longitude'])\n",
    "mean_eps_masked"
   ]
  },
  {
   "cell_type": "code",
   "execution_count": null,
   "metadata": {},
   "outputs": [],
   "source": []
  }
 ],
 "metadata": {
  "kernelspec": {
   "display_name": "Python [conda env:flood_prediction]",
   "language": "python",
   "name": "conda-env-flood_prediction-py"
  },
  "language_info": {
   "codemirror_mode": {
    "name": "ipython",
    "version": 3
   },
   "file_extension": ".py",
   "mimetype": "text/x-python",
   "name": "python",
   "nbconvert_exporter": "python",
   "pygments_lexer": "ipython3",
   "version": "3.7.6"
  }
 },
 "nbformat": 4,
 "nbformat_minor": 4
}
