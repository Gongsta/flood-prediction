{
 "cells": [
  {
   "cell_type": "code",
   "execution_count": 3,
   "metadata": {
    "ExecuteTime": {
     "end_time": "2020-02-18T04:44:26.516846Z",
     "start_time": "2020-02-18T04:44:23.925634Z"
    }
   },
   "outputs": [
    {
     "name": "stderr",
     "output_type": "stream",
     "text": [
      "Using TensorFlow backend.\n"
     ]
    },
    {
     "ename": "NameError",
     "evalue": "name 'y_case_fin' is not defined",
     "output_type": "error",
     "traceback": [
      "\u001b[0;31m---------------------------------------------------------------------------\u001b[0m",
      "\u001b[0;31mNameError\u001b[0m                                 Traceback (most recent call last)",
      "\u001b[0;32m<ipython-input-3-e122d881f17d>\u001b[0m in \u001b[0;36m<module>\u001b[0;34m\u001b[0m\n\u001b[1;32m     18\u001b[0m \u001b[0mcolor_scheme\u001b[0m \u001b[0;34m=\u001b[0m \u001b[0;34m[\u001b[0m\u001b[0;34m'g'\u001b[0m\u001b[0;34m,\u001b[0m \u001b[0;34m'cyan'\u001b[0m\u001b[0;34m,\u001b[0m \u001b[0;34m'magenta'\u001b[0m\u001b[0;34m,\u001b[0m \u001b[0;34m'k'\u001b[0m\u001b[0;34m]\u001b[0m\u001b[0;34m\u001b[0m\u001b[0;34m\u001b[0m\u001b[0m\n\u001b[1;32m     19\u001b[0m \u001b[0;34m\u001b[0m\u001b[0m\n\u001b[0;32m---> 20\u001b[0;31m \u001b[0my_case_fin\u001b[0m\u001b[0;34m.\u001b[0m\u001b[0mto_pandas\u001b[0m\u001b[0;34m(\u001b[0m\u001b[0;34m)\u001b[0m\u001b[0;34m.\u001b[0m\u001b[0mplot\u001b[0m\u001b[0;34m(\u001b[0m\u001b[0max\u001b[0m\u001b[0;34m=\u001b[0m\u001b[0max\u001b[0m\u001b[0;34m,\u001b[0m \u001b[0mlabel\u001b[0m\u001b[0;34m=\u001b[0m\u001b[0;34m'reanalysis'\u001b[0m\u001b[0;34m,\u001b[0m \u001b[0mlw\u001b[0m\u001b[0;34m=\u001b[0m\u001b[0;36m4\u001b[0m\u001b[0;34m)\u001b[0m\u001b[0;34m\u001b[0m\u001b[0;34m\u001b[0m\u001b[0m\n\u001b[0m\u001b[1;32m     21\u001b[0m \u001b[0mrun\u001b[0m \u001b[0;34m=\u001b[0m \u001b[0;36m0\u001b[0m\u001b[0;34m\u001b[0m\u001b[0;34m\u001b[0m\u001b[0m\n\u001b[1;32m     22\u001b[0m \u001b[0;32mfor\u001b[0m \u001b[0mi\u001b[0m \u001b[0;32min\u001b[0m \u001b[0mX_multifr_fin\u001b[0m\u001b[0;34m.\u001b[0m\u001b[0mnum_of_forecast\u001b[0m\u001b[0;34m:\u001b[0m\u001b[0;34m\u001b[0m\u001b[0;34m\u001b[0m\u001b[0m\n",
      "\u001b[0;31mNameError\u001b[0m: name 'y_case_fin' is not defined"
     ]
    },
    {
     "data": {
      "image/png": "[encoded data removed]",
      "text/plain": [
       "<Figure size 1080x360 with 1 Axes>"
      ]
     },
     "metadata": {
      "needs_background": "light"
     },
     "output_type": "display_data"
    }
   ],
   "source": [
    "import sys\n",
    "sys.path.append(\"../../\")\n",
    "import numpy as np\n",
    "import datetime as dt\n",
    "\n",
    "import matplotlib as mpl\n",
    "import matplotlib.pyplot as plt\n",
    "from pandas.plotting import register_matplotlib_converters\n",
    "register_matplotlib_converters()\n",
    "import pandas as pd\n",
    "import xarray as xr\n",
    "import keras\n",
    "\n",
    "# from python.aux.utils_floodmodel import add_time, generate_prediction_array, remove_outlier, multi_forecast_case_study\n",
    "# from python.aux.plot import plot_multif_prediction\n",
    "\n",
    "fig, ax = plt.subplots(figsize=(15, 5))\n",
    "color_scheme = ['g', 'cyan', 'magenta', 'k']\n",
    "\n",
    "y_case_fin.to_pandas().plot(ax=ax, label='reanalysis', lw=4)\n",
    "run = 0\n",
    "for i in X_multifr_fin.num_of_forecast:\n",
    "    X_multif_fin.sel(num_of_forecast=i).to_pandas().T.plot(ax=ax, \n",
    "                                                           label='forecast', \n",
    "                                                           linewidth=2,\n",
    "                                                           color='firebrick')\n",
    "    X_multifr_fin.sel(num_of_forecast=i).to_pandas().T.plot(ax=ax, \n",
    "                                                            label='frerun', \n",
    "                                                            linewidth=0.9,\n",
    "                                                            linestyle='--', \n",
    "                                                            color=color_scheme[run])\n",
    "    run += 1\n",
    "ax.set_ylabel('river discharge [m$^3$/s]')\n",
    "\n",
    "from matplotlib.lines import Line2D\n",
    "custom_lines = [Line2D([0], [0], color='b', lw=4),\n",
    "                Line2D([0], [0], color='firebrick', lw=2),\n",
    "                Line2D([0], [0], color='g', linestyle='--'),\n",
    "                Line2D([0], [0], color='cyan', linestyle='--'),\n",
    "                Line2D([0], [0], color='magenta', linestyle='--'),\n",
    "                Line2D([0], [0], color='k', linestyle='--')]\n",
    "                \n",
    "legendlabels = ['reanalysis', 'neural net', 'EFAS 05-18', 'EFAS 05-22', 'EFAS 05-25', 'EFAS 05-29']\n",
    "ax.legend(custom_lines, legendlabels, fontsize=11)\n",
    "\n",
    "plt.title('Setting: Time-Delay Neural Net: 64 hidden nodes, dropout 0.25');"
   ]
  },
  {
   "cell_type": "code",
   "execution_count": 4,
   "metadata": {
    "ExecuteTime": {
     "end_time": "2020-02-18T14:05:06.002781Z",
     "start_time": "2020-02-18T14:05:05.999535Z"
    }
   },
   "outputs": [],
   "source": [
    "import xarray as xr"
   ]
  },
  {
   "cell_type": "code",
   "execution_count": 7,
   "metadata": {
    "ExecuteTime": {
     "end_time": "2020-02-18T14:05:37.301644Z",
     "start_time": "2020-02-18T14:05:37.278190Z"
    }
   },
   "outputs": [
    {
     "data": {
      "text/html": [
       "<pre>&lt;xarray.Dataset&gt;\n",
       "Dimensions:                                 (features: 1, points: 48, time: 2557)\n",
       "Coordinates:\n",
       "  * features                                (features) object &#x27;dis24&#x27;\n",
       "  * time                                    (time) datetime64[ns] 1999-01-01 ... 2005-12-31\n",
       "    latitude                                (points) float64 ...\n",
       "    longitude                               (points) float64 ...\n",
       "Dimensions without coordinates: points\n",
       "Data variables:\n",
       "    stack-348bd7b6f7979e8eb8fcc3912e42613a  (points, time, features) float32 ...</pre>"
      ],
      "text/plain": [
       "<xarray.Dataset>\n",
       "Dimensions:                                 (features: 1, points: 48, time: 2557)\n",
       "Coordinates:\n",
       "  * features                                (features) object 'dis24'\n",
       "  * time                                    (time) datetime64[ns] 1999-01-01 ... 2005-12-31\n",
       "    latitude                                (points) float64 ...\n",
       "    longitude                               (points) float64 ...\n",
       "Dimensions without coordinates: points\n",
       "Data variables:\n",
       "    stack-348bd7b6f7979e8eb8fcc3912e42613a  (points, time, features) float32 ..."
      ]
     },
     "execution_count": 7,
     "metadata": {},
     "output_type": "execute_result"
    }
   ],
   "source": [
    "xr.open_dataset('./elbeglofas.nc')"
   ]
  },
  {
   "cell_type": "code",
   "execution_count": null,
   "metadata": {},
   "outputs": [],
   "source": []
  }
 ],
 "metadata": {
  "kernelspec": {
   "display_name": "Python 3",
   "language": "python",
   "name": "python3"
  },
  "language_info": {
   "codemirror_mode": {
    "name": "ipython",
    "version": 3
   },
   "file_extension": ".py",
   "mimetype": "text/x-python",
   "name": "python",
   "nbconvert_exporter": "python",
   "pygments_lexer": "ipython3",
   "version": "3.6.10"
  },
  "toc": {
   "base_numbering": 1,
   "nav_menu": {},
   "number_sections": true,
   "sideBar": true,
   "skip_h1_title": false,
   "title_cell": "Table of Contents",
   "title_sidebar": "Contents",
   "toc_cell": false,
   "toc_position": {},
   "toc_section_display": true,
   "toc_window_display": false
  }
 },
 "nbformat": 4,
 "nbformat_minor": 2
}
