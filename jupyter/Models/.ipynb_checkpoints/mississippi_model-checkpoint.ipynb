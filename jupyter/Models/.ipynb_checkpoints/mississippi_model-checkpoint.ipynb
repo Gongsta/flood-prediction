{
 "cells": [
  {
   "cell_type": "code",
   "execution_count": 1,
   "metadata": {},
   "outputs": [],
   "source": [
    "import sys\n",
    "sys.path.append(\"../../\")"
   ]
  },
  {
   "cell_type": "code",
   "execution_count": 2,
   "metadata": {},
   "outputs": [],
   "source": [
    "from functions.floodmodel_utils import get_basin_mask, get_river_mask\n",
    "from functions.floodmodels import reshape_scalar_predictand, shift_input\n",
    "import xarray as xr\n",
    "#Creating a Dask local cluster for parallel computing (making the computations later on much faster)\n",
    "from dask.distributed import Client, LocalCluster\n"
   ]
  },
  {
   "cell_type": "code",
   "execution_count": 3,
   "metadata": {},
   "outputs": [
    {
     "name": "stderr",
     "output_type": "stream",
     "text": [
      "/opt/miniconda3/envs/flood_prediction/lib/python3.7/site-packages/distributed/dashboard/core.py:72: UserWarning: \n",
      "Port 8787 is already in use. \n",
      "Perhaps you already have a cluster running?\n",
      "Hosting the diagnostics dashboard on a random port instead.\n",
      "  warnings.warn(\"\\n\" + msg)\n"
     ]
    }
   ],
   "source": [
    "#HYPERPARAMETERS\n",
    "days_intake_length = 180\n",
    "forecast_day = 30\n",
    "\n",
    "\n",
    "#LIBRARY IMPORTS\n",
    "import xarray as xr\n",
    "import matplotlib.pyplot as plt\n",
    "import numpy as np\n",
    "from dask.distributed import Client, LocalCluster\n",
    "\n",
    "\n",
    "#Connecting to a cluster to be able to run the code locally/on the cloud\n",
    "#cluster = LocalCluster()  # n_workers=10, threads_per_worker=1,\n",
    "client = Client(processes=False)\n"
   ]
  },
  {
   "cell_type": "code",
   "execution_count": 4,
   "metadata": {},
   "outputs": [
    {
     "name": "stdout",
     "output_type": "stream",
     "text": [
      "{'dashboard': 64404}\n"
     ]
    }
   ],
   "source": [
    "#This will tell you where you dashboard will be so you can visualize your model being run\n",
    "print(client.scheduler_info()['services'])"
   ]
  },
  {
   "cell_type": "code",
   "execution_count": 5,
   "metadata": {},
   "outputs": [
    {
     "name": "stderr",
     "output_type": "stream",
     "text": [
      "/opt/miniconda3/envs/flood_prediction/lib/python3.7/site-packages/ipykernel_launcher.py:2: FutureWarning: In xarray version 0.15 the default behaviour of `open_mfdataset`\n",
      "will change. To retain the existing behavior, pass\n",
      "combine='nested'. To use future default behavior, pass\n",
      "combine='by_coords'. See\n",
      "http://xarray.pydata.org/en/stable/combining.html#combining-multi\n",
      "\n",
      "  \n",
      "/opt/miniconda3/envs/flood_prediction/lib/python3.7/site-packages/xarray/backends/api.py:933: FutureWarning: The datasets supplied have global dimension coordinates. You may want\n",
      "to use the new `combine_by_coords` function (or the\n",
      "`combine='by_coords'` option to `open_mfdataset`) to order the datasets\n",
      "before concatenation. Alternatively, to continue concatenating based\n",
      "on the order the datasets are supplied in future, please use the new\n",
      "`combine_nested` function (or the `combine='nested'` option to\n",
      "open_mfdataset).\n",
      "  from_openmfds=True,\n"
     ]
    }
   ],
   "source": [
    "#Loading the transformed dataset\n",
    "glofas_loaded = xr.open_mfdataset(\"/Volumes/portableHardDisk/data/glofas_region/Danube/glofas_masked_danube_*.nc\")"
   ]
  },
  {
   "cell_type": "code",
   "execution_count": 6,
   "metadata": {},
   "outputs": [],
   "source": [
    "era5_loaded = xr.open_mfdataset(\"/Volumes/portableHardDisk/data/Europe/reanalysis-era5-single-levels_convective_precipitation,land_sea_mask,large_scale_precipitation,runoff,slope_of_sub_gridscale_orography,soil_type,total_column_water_vapour,volumetric_soil_water_layer_1,volumetric_soil_water_layer_2_*.nc\", combine=\"by_coords\")"
   ]
  },
  {
   "cell_type": "code",
   "execution_count": 7,
   "metadata": {},
   "outputs": [],
   "source": [
    "y_orig = glofas_loaded\n",
    "#Making a copy because y will be transformed to represent the variation of discharge. The model will be predicting the variation of discharge, not the quantity of discharge itself\n",
    "y = y_orig"
   ]
  },
  {
   "cell_type": "code",
   "execution_count": 35,
   "metadata": {},
   "outputs": [],
   "source": [
    "period_train = dict(time=slice('1999', '2012'))\n",
    "period_test = dict(time=slice('2012', '2016'))\n",
    "entire_period = dict(time=slice(None, '2018'))"
   ]
  },
  {
   "cell_type": "code",
   "execution_count": 10,
   "metadata": {},
   "outputs": [],
   "source": [
    "danube_basin_mask = get_basin_mask(glofas_loaded['dis24'].isel(time=0), 'Danube')"
   ]
  },
  {
   "cell_type": "code",
   "execution_count": 11,
   "metadata": {},
   "outputs": [],
   "source": [
    "#Reshape to align in coordinates\n",
    "era5_masked = era5_loaded.interp(latitude=y.latitude, longitude=y.longitude).where(danube_basin_mask, drop=True)\n",
    "X = era5_masked\n",
    "\n",
    "\n",
    "#Downsampling our time from hourly to daily\n",
    "X = X.resample(time='1D').mean()\n"
   ]
  },
  {
   "cell_type": "code",
   "execution_count": 12,
   "metadata": {},
   "outputs": [
    {
     "data": {
      "text/html": [
       "<pre>&lt;xarray.Dataset&gt;\n",
       "Dimensions:    (latitude: 83, longitude: 221, time: 7610)\n",
       "Coordinates:\n",
       "  * latitude   (latitude) float64 50.45 50.35 50.25 50.15 ... 42.45 42.35 42.25\n",
       "  * longitude  (longitude) float64 8.05 8.15 8.25 8.35 ... 29.85 29.95 30.05\n",
       "  * time       (time) datetime64[ns] 1999-01-01 1999-01-02 ... 2019-11-01\n",
       "Data variables:\n",
       "    dis24      (time, latitude, longitude) float32 dask.array&lt;chunksize=(5114, 83, 221), meta=np.ndarray&gt;\n",
       "Attributes:\n",
       "    CDI:                       Climate Data Interface version 1.9.6 (http://m...\n",
       "    Conventions:               CF-1.6\n",
       "    history:                   Thu Oct 10 12:28:51 2019: cdo -seldate,1999-01...\n",
       "    cdo_openmp_thread_number:  8\n",
       "    NCO:                       netCDF Operators version 4.7.8 (Homepage = htt...\n",
       "    CDO:                       Climate Data Operators version 1.9.6 (http://m...</pre>"
      ],
      "text/plain": [
       "<xarray.Dataset>\n",
       "Dimensions:    (latitude: 83, longitude: 221, time: 7610)\n",
       "Coordinates:\n",
       "  * latitude   (latitude) float64 50.45 50.35 50.25 50.15 ... 42.45 42.35 42.25\n",
       "  * longitude  (longitude) float64 8.05 8.15 8.25 8.35 ... 29.85 29.95 30.05\n",
       "  * time       (time) datetime64[ns] 1999-01-01 1999-01-02 ... 2019-11-01\n",
       "Data variables:\n",
       "    dis24      (time, latitude, longitude) float32 dask.array<chunksize=(5114, 83, 221), meta=np.ndarray>\n",
       "Attributes:\n",
       "    CDI:                       Climate Data Interface version 1.9.6 (http://m...\n",
       "    Conventions:               CF-1.6\n",
       "    history:                   Thu Oct 10 12:28:51 2019: cdo -seldate,1999-01...\n",
       "    cdo_openmp_thread_number:  8\n",
       "    NCO:                       netCDF Operators version 4.7.8 (Homepage = htt...\n",
       "    CDO:                       Climate Data Operators version 1.9.6 (http://m..."
      ]
     },
     "execution_count": 12,
     "metadata": {},
     "output_type": "execute_result"
    }
   ],
   "source": [
    "y"
   ]
  },
  {
   "cell_type": "code",
   "execution_count": 13,
   "metadata": {},
   "outputs": [
    {
     "data": {
      "text/html": [
       "<pre>&lt;xarray.DataArray &#x27;dis24&#x27; (time: 7610)&gt;\n",
       "dask.array&lt;getitem, shape=(7610,), dtype=float32, chunksize=(5114,), chunktype=numpy.ndarray&gt;\n",
       "Coordinates:\n",
       "    latitude   float64 44.95\n",
       "    longitude  float64 21.05\n",
       "  * time       (time) datetime64[ns] 1999-01-01 1999-01-02 ... 2019-11-01\n",
       "Attributes:\n",
       "    long_name:  mean discharge in the last 24 hours\n",
       "    units:      m3/s</pre>"
      ],
      "text/plain": [
       "<xarray.DataArray 'dis24' (time: 7610)>\n",
       "dask.array<getitem, shape=(7610,), dtype=float32, chunksize=(5114,), chunktype=numpy.ndarray>\n",
       "Coordinates:\n",
       "    latitude   float64 44.95\n",
       "    longitude  float64 21.05\n",
       "  * time       (time) datetime64[ns] 1999-01-01 1999-01-02 ... 2019-11-01\n",
       "Attributes:\n",
       "    long_name:  mean discharge in the last 24 hours\n",
       "    units:      m3/s"
      ]
     },
     "execution_count": 13,
     "metadata": {},
     "output_type": "execute_result"
    }
   ],
   "source": [
    "y.isel(latitude=55, longitude=130)['dis24']"
   ]
  },
  {
   "cell_type": "code",
   "execution_count": 14,
   "metadata": {},
   "outputs": [
    {
     "name": "stderr",
     "output_type": "stream",
     "text": [
      "/opt/miniconda3/envs/flood_prediction/lib/python3.7/site-packages/pandas/plotting/_matplotlib/converter.py:103: FutureWarning: Using an implicitly registered datetime converter for a matplotlib plotting method. The converter was registered by pandas on import. Future versions of pandas will require you to explicitly register matplotlib converters.\n",
      "\n",
      "To register the converters:\n",
      "\t>>> from pandas.plotting import register_matplotlib_converters\n",
      "\t>>> register_matplotlib_converters()\n",
      "  warnings.warn(msg, FutureWarning)\n"
     ]
    },
    {
     "data": {
      "text/plain": [
       "[<matplotlib.lines.Line2D at 0x125893190>]"
      ]
     },
     "execution_count": 14,
     "metadata": {},
     "output_type": "execute_result"
    },
    {
     "data": {
      "image/png": "[encoded data removed]",
      "text/plain": [
       "<Figure size 432x288 with 1 Axes>"
      ]
     },
     "metadata": {
      "needs_background": "light"
     },
     "output_type": "display_data"
    }
   ],
   "source": [
    "y.loc[period_test].isel(latitude=57, longitude=134)['dis24'].plot()"
   ]
  },
  {
   "cell_type": "code",
   "execution_count": 15,
   "metadata": {},
   "outputs": [
    {
     "data": {
      "text/plain": [
       "<matplotlib.collections.QuadMesh at 0x126eb7510>"
      ]
     },
     "execution_count": 15,
     "metadata": {},
     "output_type": "execute_result"
    },
    {
     "data": {
      "image/png": "[encoded data removed]",
      "text/plain": [
       "<Figure size 432x288 with 2 Axes>"
      ]
     },
     "metadata": {
      "needs_background": "light"
     },
     "output_type": "display_data"
    }
   ],
   "source": [
    "y['dis24'].isel(time=5280).plot()"
   ]
  },
  {
   "cell_type": "code",
   "execution_count": 16,
   "metadata": {},
   "outputs": [
    {
     "name": "stderr",
     "output_type": "stream",
     "text": [
      "/opt/miniconda3/envs/flood_prediction/lib/python3.7/site-packages/dask/array/numpy_compat.py:40: RuntimeWarning: invalid value encountered in true_divide\n",
      "  x = np.divide(x1, x2, out)\n"
     ]
    },
    {
     "data": {
      "text/plain": [
       "<matplotlib.collections.QuadMesh at 0x130ef12d0>"
      ]
     },
     "execution_count": 16,
     "metadata": {},
     "output_type": "execute_result"
    },
    {
     "data": {
      "image/png": "[encoded data removed]",
      "text/plain": [
       "<Figure size 432x288 with 2 Axes>"
      ]
     },
     "metadata": {
      "needs_background": "light"
     },
     "output_type": "display_data"
    }
   ],
   "source": [
    "X['lsp'].isel(time=0).plot()"
   ]
  },
  {
   "cell_type": "code",
   "execution_count": 17,
   "metadata": {},
   "outputs": [],
   "source": [
    "X_point = X.isel(latitude=57, longitude=134)"
   ]
  },
  {
   "cell_type": "code",
   "execution_count": 18,
   "metadata": {},
   "outputs": [],
   "source": [
    "y_point = y.isel(latitude=57, longitude=134)"
   ]
  },
  {
   "cell_type": "code",
   "execution_count": 19,
   "metadata": {},
   "outputs": [],
   "source": [
    "X_point = X_point.drop(['latitude','longitude'])\n",
    "y_point = y_point.drop(['latitude','longitude'])"
   ]
  },
  {
   "cell_type": "code",
   "execution_count": 22,
   "metadata": {},
   "outputs": [],
   "source": [
    "X_point = X_point.loc[entire_period]\n",
    "y_point = y_point.loc[entire_period]"
   ]
  },
  {
   "cell_type": "code",
   "execution_count": 23,
   "metadata": {},
   "outputs": [],
   "source": [
    "Xda = X_point.to_array(dim='features').T"
   ]
  },
  {
   "cell_type": "code",
   "execution_count": 24,
   "metadata": {},
   "outputs": [
    {
     "data": {
      "text/plain": [
       "(13879, 9)"
      ]
     },
     "execution_count": 24,
     "metadata": {},
     "output_type": "execute_result"
    }
   ],
   "source": [
    "Xda.shape"
   ]
  },
  {
   "cell_type": "code",
   "execution_count": 25,
   "metadata": {},
   "outputs": [],
   "source": [
    "yda = y_point['dis24']"
   ]
  },
  {
   "cell_type": "code",
   "execution_count": 26,
   "metadata": {},
   "outputs": [
    {
     "data": {
      "text/html": [
       "<pre>&lt;xarray.DataArray &#x27;dis24&#x27; (time: 7305)&gt;\n",
       "dask.array&lt;getitem, shape=(7305,), dtype=float32, chunksize=(5114,), chunktype=numpy.ndarray&gt;\n",
       "Coordinates:\n",
       "  * time     (time) datetime64[ns] 1999-01-01 1999-01-02 ... 2018-12-31\n",
       "Attributes:\n",
       "    long_name:  mean discharge in the last 24 hours\n",
       "    units:      m3/s</pre>"
      ],
      "text/plain": [
       "<xarray.DataArray 'dis24' (time: 7305)>\n",
       "dask.array<getitem, shape=(7305,), dtype=float32, chunksize=(5114,), chunktype=numpy.ndarray>\n",
       "Coordinates:\n",
       "  * time     (time) datetime64[ns] 1999-01-01 1999-01-02 ... 2018-12-31\n",
       "Attributes:\n",
       "    long_name:  mean discharge in the last 24 hours\n",
       "    units:      m3/s"
      ]
     },
     "execution_count": 26,
     "metadata": {},
     "output_type": "execute_result"
    }
   ],
   "source": [
    "yda"
   ]
  },
  {
   "cell_type": "code",
   "execution_count": 36,
   "metadata": {},
   "outputs": [],
   "source": [
    "X_train, y_train = Xda.loc[period_train], yda.loc[period_train]\n",
    "X_test, y_test = Xda.loc[period_test], yda.loc[period_test]"
   ]
  },
  {
   "cell_type": "code",
   "execution_count": 28,
   "metadata": {},
   "outputs": [
    {
     "name": "stderr",
     "output_type": "stream",
     "text": [
      "distributed.utils_perf - WARNING - full garbage collections took 33% CPU time recently (threshold: 10%)\n",
      "/opt/miniconda3/envs/flood_prediction/lib/python3.7/site-packages/dask/array/numpy_compat.py:40: RuntimeWarning: invalid value encountered in true_divide\n",
      "  x = np.divide(x1, x2, out)\n",
      "distributed.utils_perf - WARNING - full garbage collections took 18% CPU time recently (threshold: 10%)\n",
      "distributed.utils_perf - WARNING - full garbage collections took 11% CPU time recently (threshold: 10%)\n",
      "distributed.utils_perf - WARNING - full garbage collections took 11% CPU time recently (threshold: 10%)\n",
      "distributed.utils_perf - WARNING - full garbage collections took 11% CPU time recently (threshold: 10%)\n",
      "distributed.utils_perf - WARNING - full garbage collections took 11% CPU time recently (threshold: 10%)\n",
      "distributed.utils_perf - WARNING - full garbage collections took 11% CPU time recently (threshold: 10%)\n",
      "distributed.utils_perf - WARNING - full garbage collections took 11% CPU time recently (threshold: 10%)\n",
      "distributed.utils_perf - WARNING - full garbage collections took 11% CPU time recently (threshold: 10%)\n",
      "distributed.utils_perf - WARNING - full garbage collections took 11% CPU time recently (threshold: 10%)\n",
      "/opt/miniconda3/envs/flood_prediction/lib/python3.7/site-packages/dask/array/numpy_compat.py:40: RuntimeWarning: invalid value encountered in true_divide\n",
      "  x = np.divide(x1, x2, out)\n",
      "/opt/miniconda3/envs/flood_prediction/lib/python3.7/site-packages/dask/array/numpy_compat.py:40: RuntimeWarning: invalid value encountered in true_divide\n",
      "  x = np.divide(x1, x2, out)\n"
     ]
    }
   ],
   "source": [
    "import numpy as np\n",
    "\n",
    "#Applying feature scaling\n",
    "from sklearn.preprocessing import MinMaxScaler\n",
    "sc = MinMaxScaler(feature_range=(0,1))\n",
    "X_train_scaled = sc.fit_transform(X_train)\n",
    "sc2 = MinMaxScaler(feature_range=(0,1))\n",
    "y_train_scaled = sc2.fit_transform(y_train.values.reshape(-1,1))"
   ]
  },
  {
   "cell_type": "code",
   "execution_count": 29,
   "metadata": {},
   "outputs": [],
   "source": [
    "X_train_final, y_train_final = shift_input(X_train_scaled, y_train_scaled, days_intake_length, 1)"
   ]
  },
  {
   "cell_type": "code",
   "execution_count": 30,
   "metadata": {},
   "outputs": [],
   "source": [
    "y_train_final = y_train_final.reshape(-1)"
   ]
  },
  {
   "cell_type": "code",
   "execution_count": 37,
   "metadata": {},
   "outputs": [
    {
     "name": "stderr",
     "output_type": "stream",
     "text": [
      "/opt/miniconda3/envs/flood_prediction/lib/python3.7/site-packages/dask/array/numpy_compat.py:40: RuntimeWarning: invalid value encountered in true_divide\n",
      "  x = np.divide(x1, x2, out)\n",
      "/opt/miniconda3/envs/flood_prediction/lib/python3.7/site-packages/dask/array/numpy_compat.py:40: RuntimeWarning: invalid value encountered in true_divide\n",
      "  x = np.divide(x1, x2, out)\n",
      "/opt/miniconda3/envs/flood_prediction/lib/python3.7/site-packages/dask/array/numpy_compat.py:40: RuntimeWarning: invalid value encountered in true_divide\n",
      "  x = np.divide(x1, x2, out)\n"
     ]
    }
   ],
   "source": [
    "import numpy as np\n",
    "\n",
    "#Applying feature scaling\n",
    "from sklearn.preprocessing import MinMaxScaler\n",
    "\n",
    "X_test_scaled = sc.fit_transform(X_test)\n",
    "sc2 = MinMaxScaler(feature_range=(0,1))\n",
    "y_test_scaled = sc2.fit_transform(y_test.values.reshape(-1,1))"
   ]
  },
  {
   "cell_type": "code",
   "execution_count": 38,
   "metadata": {},
   "outputs": [],
   "source": [
    "X_test_final, y_test_final = shift_input(X_test_scaled, y_test_scaled, days_intake_length, 1)"
   ]
  },
  {
   "cell_type": "code",
   "execution_count": 39,
   "metadata": {},
   "outputs": [],
   "source": [
    "y_test_final = y_test_final.reshape(-1)"
   ]
  },
  {
   "cell_type": "code",
   "execution_count": 40,
   "metadata": {},
   "outputs": [],
   "source": [
    "#LSTM MODEL\n",
    "from keras.models import Sequential\n",
    "from keras.layers import Dense, LSTM\n",
    "from keras.layers.core import Dropout\n",
    "\n",
    "\n",
    "regressor = Sequential()\n",
    "\n",
    "regressor.add(LSTM(units=150, return_sequences= True, input_shape=(X_train_final.shape[1], X_train_final.shape[2]))) #(n_timesteps, n_features)#(n_sample, n_timesteps, n_features)\n",
    "regressor.add(Dropout(0.1))\n",
    "\n",
    "regressor.add(LSTM(units=150, return_sequences= True))\n",
    "regressor.add(Dropout(0.1))\n",
    "\n",
    "regressor.add(LSTM(units=150, return_sequences= True))\n",
    "regressor.add(Dropout(0.1))\n",
    "\n",
    "regressor.add(LSTM(units=150))\n",
    "regressor.add(Dropout(0.1))\n",
    "\n",
    "regressor.add(Dense(units=1))\n",
    "\n",
    "regressor.compile(optimizer='adam', loss='mean_squared_error')"
   ]
  },
  {
   "cell_type": "code",
   "execution_count": 116,
   "metadata": {},
   "outputs": [
    {
     "data": {
      "text/plain": [
       "[<matplotlib.lines.Line2D at 0x188324110>]"
      ]
     },
     "execution_count": 116,
     "metadata": {},
     "output_type": "execute_result"
    },
    {
     "data": {
      "image/png": "[encoded data removed]",
      "text/plain": [
       "<Figure size 432x288 with 1 Axes>"
      ]
     },
     "metadata": {
      "needs_background": "light"
     },
     "output_type": "display_data"
    }
   ],
   "source": [
    "plt.plot(y_train_final)"
   ]
  },
  {
   "cell_type": "code",
   "execution_count": 46,
   "metadata": {},
   "outputs": [
    {
     "name": "stdout",
     "output_type": "stream",
     "text": [
      "Epoch 1/250\n",
      "1736/1736 [==============================] - 11s 6ms/step - loss: 0.0262\n",
      "Epoch 2/250\n",
      "1736/1736 [==============================] - 11s 7ms/step - loss: 0.0244\n",
      "Epoch 3/250\n",
      "1736/1736 [==============================] - 12s 7ms/step - loss: 0.0244\n",
      "Epoch 4/250\n",
      "1736/1736 [==============================] - 11s 6ms/step - loss: 0.0239\n",
      "Epoch 5/250\n",
      "1736/1736 [==============================] - 11s 6ms/step - loss: 0.0239\n",
      "Epoch 6/250\n",
      "1736/1736 [==============================] - 10s 6ms/step - loss: 0.0237\n",
      "Epoch 7/250\n",
      "1736/1736 [==============================] - 16s 9ms/step - loss: 0.0237\n",
      "Epoch 8/250\n",
      "1736/1736 [==============================] - 17s 10ms/step - loss: 0.0241\n",
      "Epoch 9/250\n",
      "1736/1736 [==============================] - 19s 11ms/step - loss: 0.0239\n",
      "Epoch 10/250\n",
      "1736/1736 [==============================] - 19s 11ms/step - loss: 0.0235\n",
      "Epoch 11/250\n",
      "1736/1736 [==============================] - 22s 13ms/step - loss: 0.0237\n",
      "Epoch 12/250\n",
      "1736/1736 [==============================] - 17s 10ms/step - loss: 0.0236\n",
      "Epoch 13/250\n",
      "1736/1736 [==============================] - 16s 9ms/step - loss: 0.0233\n",
      "Epoch 14/250\n",
      "1736/1736 [==============================] - 18s 10ms/step - loss: 0.0236\n",
      "Epoch 15/250\n",
      "1736/1736 [==============================] - 21s 12ms/step - loss: 0.0236\n",
      "Epoch 16/250\n",
      "1736/1736 [==============================] - 17s 10ms/step - loss: 0.0232\n",
      "Epoch 17/250\n",
      "1736/1736 [==============================] - 16s 9ms/step - loss: 0.0229\n",
      "Epoch 18/250\n",
      "1736/1736 [==============================] - 14s 8ms/step - loss: 0.0235\n",
      "Epoch 19/250\n",
      "1736/1736 [==============================] - 14s 8ms/step - loss: 0.0233\n",
      "Epoch 20/250\n",
      "1736/1736 [==============================] - 14s 8ms/step - loss: 0.0228\n",
      "Epoch 21/250\n",
      "1736/1736 [==============================] - 14s 8ms/step - loss: 0.0231\n",
      "Epoch 22/250\n",
      "1736/1736 [==============================] - 14s 8ms/step - loss: 0.0229\n",
      "Epoch 23/250\n",
      "1736/1736 [==============================] - 14s 8ms/step - loss: 0.0230\n",
      "Epoch 24/250\n",
      "1736/1736 [==============================] - 11s 6ms/step - loss: 0.0228\n",
      "Epoch 25/250\n",
      "1736/1736 [==============================] - 11s 6ms/step - loss: 0.0227\n",
      "Epoch 26/250\n",
      "1736/1736 [==============================] - 10s 6ms/step - loss: 0.0224\n",
      "Epoch 27/250\n",
      "1736/1736 [==============================] - 12s 7ms/step - loss: 0.0223\n",
      "Epoch 28/250\n",
      "1736/1736 [==============================] - 14s 8ms/step - loss: 0.0223\n",
      "Epoch 29/250\n",
      "1736/1736 [==============================] - 14s 8ms/step - loss: 0.0226\n",
      "Epoch 30/250\n",
      "1736/1736 [==============================] - 14s 8ms/step - loss: 0.0225\n",
      "Epoch 31/250\n",
      "1736/1736 [==============================] - 14s 8ms/step - loss: 0.0222\n",
      "Epoch 32/250\n",
      "1736/1736 [==============================] - 14s 8ms/step - loss: 0.0220\n",
      "Epoch 33/250\n",
      "1736/1736 [==============================] - 14s 8ms/step - loss: 0.0232\n",
      "Epoch 34/250\n",
      "1736/1736 [==============================] - 14s 8ms/step - loss: 0.0225\n",
      "Epoch 35/250\n",
      "1736/1736 [==============================] - 14s 8ms/step - loss: 0.0223\n",
      "Epoch 36/250\n",
      "1736/1736 [==============================] - 14s 8ms/step - loss: 0.0227\n",
      "Epoch 37/250\n",
      "1736/1736 [==============================] - 14s 8ms/step - loss: 0.0223\n",
      "Epoch 38/250\n",
      "1736/1736 [==============================] - 14s 8ms/step - loss: 0.0229\n",
      "Epoch 39/250\n",
      "1736/1736 [==============================] - 15s 9ms/step - loss: 0.0227\n",
      "Epoch 40/250\n",
      "1736/1736 [==============================] - 14s 8ms/step - loss: 0.0221\n",
      "Epoch 41/250\n",
      "1736/1736 [==============================] - 15s 8ms/step - loss: 0.0218\n",
      "Epoch 42/250\n",
      "1736/1736 [==============================] - 15s 8ms/step - loss: 0.0223\n",
      "Epoch 43/250\n",
      "1736/1736 [==============================] - 16s 9ms/step - loss: 0.0217\n",
      "Epoch 44/250\n",
      "1736/1736 [==============================] - 18s 10ms/step - loss: 0.0219\n",
      "Epoch 45/250\n",
      "1736/1736 [==============================] - 15s 8ms/step - loss: 0.0217\n",
      "Epoch 46/250\n",
      "1736/1736 [==============================] - 15s 8ms/step - loss: 0.0217\n",
      "Epoch 47/250\n",
      "1736/1736 [==============================] - 14s 8ms/step - loss: 0.0213\n",
      "Epoch 48/250\n",
      "1736/1736 [==============================] - 15s 8ms/step - loss: 0.0214\n",
      "Epoch 49/250\n",
      "1736/1736 [==============================] - 15s 8ms/step - loss: 0.0215\n",
      "Epoch 50/250\n",
      "1736/1736 [==============================] - 14s 8ms/step - loss: 0.0221\n",
      "Epoch 51/250\n",
      "1736/1736 [==============================] - 15s 8ms/step - loss: 0.0220\n",
      "Epoch 52/250\n",
      "1736/1736 [==============================] - 14s 8ms/step - loss: 0.0212\n",
      "Epoch 53/250\n",
      "1736/1736 [==============================] - 15s 9ms/step - loss: 0.0216\n",
      "Epoch 54/250\n",
      "1736/1736 [==============================] - 15s 8ms/step - loss: 0.0214\n",
      "Epoch 55/250\n",
      "1736/1736 [==============================] - 14s 8ms/step - loss: 0.0213\n",
      "Epoch 56/250\n",
      "1736/1736 [==============================] - 14s 8ms/step - loss: 0.0210\n",
      "Epoch 57/250\n",
      "1736/1736 [==============================] - 15s 8ms/step - loss: 0.0213\n",
      "Epoch 58/250\n",
      "1736/1736 [==============================] - 15s 8ms/step - loss: 0.0213\n",
      "Epoch 59/250\n",
      "1736/1736 [==============================] - 15s 9ms/step - loss: 0.0210\n",
      "Epoch 60/250\n",
      "1736/1736 [==============================] - 15s 9ms/step - loss: 0.0213\n",
      "Epoch 61/250\n",
      "1736/1736 [==============================] - 14s 8ms/step - loss: 0.0210\n",
      "Epoch 62/250\n",
      "1736/1736 [==============================] - 16s 9ms/step - loss: 0.0206\n",
      "Epoch 63/250\n",
      "1736/1736 [==============================] - 15s 8ms/step - loss: 0.0220\n",
      "Epoch 64/250\n",
      "1736/1736 [==============================] - 15s 8ms/step - loss: 0.0219\n",
      "Epoch 65/250\n",
      "1736/1736 [==============================] - 15s 9ms/step - loss: 0.0215\n",
      "Epoch 66/250\n",
      "1736/1736 [==============================] - 15s 8ms/step - loss: 0.0210\n",
      "Epoch 67/250\n",
      "1736/1736 [==============================] - 16s 9ms/step - loss: 0.0208\n",
      "Epoch 68/250\n",
      "1736/1736 [==============================] - 15s 8ms/step - loss: 0.0204\n",
      "Epoch 69/250\n",
      "1736/1736 [==============================] - 14s 8ms/step - loss: 0.0205\n",
      "Epoch 70/250\n",
      "1736/1736 [==============================] - 15s 8ms/step - loss: 0.0207\n",
      "Epoch 71/250\n",
      "1736/1736 [==============================] - 14s 8ms/step - loss: 0.0210\n",
      "Epoch 72/250\n",
      "1736/1736 [==============================] - 15s 9ms/step - loss: 0.0214\n",
      "Epoch 73/250\n",
      "1736/1736 [==============================] - 15s 8ms/step - loss: 0.0211\n",
      "Epoch 74/250\n",
      "1736/1736 [==============================] - 15s 8ms/step - loss: 0.0207\n",
      "Epoch 75/250\n",
      "1736/1736 [==============================] - 14s 8ms/step - loss: 0.0205\n",
      "Epoch 76/250\n",
      "1736/1736 [==============================] - 14s 8ms/step - loss: 0.0207\n",
      "Epoch 77/250\n",
      "1736/1736 [==============================] - 15s 8ms/step - loss: 0.0211\n",
      "Epoch 78/250\n",
      "1736/1736 [==============================] - 15s 8ms/step - loss: 0.0204\n",
      "Epoch 79/250\n",
      "1736/1736 [==============================] - 15s 8ms/step - loss: 0.0196\n",
      "Epoch 80/250\n",
      "1736/1736 [==============================] - 14s 8ms/step - loss: 0.0206\n",
      "Epoch 81/250\n",
      "1736/1736 [==============================] - 15s 8ms/step - loss: 0.0202\n",
      "Epoch 82/250\n",
      "1736/1736 [==============================] - 15s 8ms/step - loss: 0.0204\n",
      "Epoch 83/250\n",
      "1736/1736 [==============================] - 14s 8ms/step - loss: 0.0191\n",
      "Epoch 84/250\n",
      "1736/1736 [==============================] - 15s 8ms/step - loss: 0.0191\n",
      "Epoch 85/250\n",
      "1736/1736 [==============================] - 15s 9ms/step - loss: 0.0188\n",
      "Epoch 86/250\n",
      "1736/1736 [==============================] - 16s 9ms/step - loss: 0.0193\n",
      "Epoch 87/250\n",
      "1736/1736 [==============================] - 16s 9ms/step - loss: 0.0187\n",
      "Epoch 88/250\n",
      "1736/1736 [==============================] - 15s 9ms/step - loss: 0.0184\n",
      "Epoch 89/250\n",
      "1736/1736 [==============================] - 15s 9ms/step - loss: 0.0237\n",
      "Epoch 90/250\n",
      "1736/1736 [==============================] - 15s 9ms/step - loss: 0.0232\n",
      "Epoch 91/250\n",
      "1736/1736 [==============================] - 15s 9ms/step - loss: 0.0209\n",
      "Epoch 92/250\n",
      "1736/1736 [==============================] - 15s 9ms/step - loss: 0.0193\n",
      "Epoch 93/250\n",
      "1736/1736 [==============================] - 15s 9ms/step - loss: 0.0206\n",
      "Epoch 94/250\n",
      "1736/1736 [==============================] - 16s 9ms/step - loss: 0.0189\n",
      "Epoch 95/250\n",
      "1736/1736 [==============================] - 15s 9ms/step - loss: 0.0181\n",
      "Epoch 96/250\n"
     ]
    },
    {
     "name": "stdout",
     "output_type": "stream",
     "text": [
      "1736/1736 [==============================] - 16s 9ms/step - loss: 0.0178\n",
      "Epoch 97/250\n",
      "1736/1736 [==============================] - 16s 9ms/step - loss: 0.0191\n",
      "Epoch 98/250\n",
      "1736/1736 [==============================] - 17s 10ms/step - loss: 0.0178\n",
      "Epoch 99/250\n",
      "1736/1736 [==============================] - 16s 9ms/step - loss: 0.0184\n",
      "Epoch 100/250\n",
      "1736/1736 [==============================] - 15s 9ms/step - loss: 0.0185\n",
      "Epoch 101/250\n",
      "1736/1736 [==============================] - 16s 9ms/step - loss: 0.0180\n",
      "Epoch 102/250\n",
      "1736/1736 [==============================] - 15s 9ms/step - loss: 0.0184\n",
      "Epoch 103/250\n",
      "1736/1736 [==============================] - 16s 9ms/step - loss: 0.0172\n",
      "Epoch 104/250\n",
      "1736/1736 [==============================] - 15s 9ms/step - loss: 0.0201\n",
      "Epoch 105/250\n",
      "1736/1736 [==============================] - 16s 9ms/step - loss: 0.0202\n",
      "Epoch 106/250\n",
      "1736/1736 [==============================] - 16s 9ms/step - loss: 0.0179\n",
      "Epoch 107/250\n",
      "1736/1736 [==============================] - 17s 10ms/step - loss: 0.0176\n",
      "Epoch 108/250\n",
      "1736/1736 [==============================] - 16s 9ms/step - loss: 0.0168\n",
      "Epoch 109/250\n",
      "1736/1736 [==============================] - 16s 9ms/step - loss: 0.0187\n",
      "Epoch 110/250\n",
      "1736/1736 [==============================] - 16s 9ms/step - loss: 0.0170\n",
      "Epoch 111/250\n",
      "1736/1736 [==============================] - 16s 9ms/step - loss: 0.0160\n",
      "Epoch 112/250\n",
      "1736/1736 [==============================] - 16s 9ms/step - loss: 0.0189\n",
      "Epoch 113/250\n",
      "1736/1736 [==============================] - 16s 9ms/step - loss: 0.0169\n",
      "Epoch 114/250\n",
      "1736/1736 [==============================] - 16s 9ms/step - loss: 0.0169\n",
      "Epoch 115/250\n",
      "1736/1736 [==============================] - 16s 9ms/step - loss: 0.0174\n",
      "Epoch 116/250\n",
      "1736/1736 [==============================] - 16s 9ms/step - loss: 0.0166\n",
      "Epoch 117/250\n",
      "1736/1736 [==============================] - 16s 9ms/step - loss: 0.0159\n",
      "Epoch 118/250\n",
      "1736/1736 [==============================] - 16s 9ms/step - loss: 0.0152\n",
      "Epoch 119/250\n",
      "1736/1736 [==============================] - 16s 9ms/step - loss: 0.0160\n",
      "Epoch 120/250\n",
      "1736/1736 [==============================] - 16s 9ms/step - loss: 0.0151\n",
      "Epoch 121/250\n",
      "1736/1736 [==============================] - 16s 9ms/step - loss: 0.0152\n",
      "Epoch 122/250\n",
      "1736/1736 [==============================] - 16s 9ms/step - loss: 0.0156\n",
      "Epoch 123/250\n",
      "1736/1736 [==============================] - 16s 9ms/step - loss: 0.0145\n",
      "Epoch 124/250\n",
      "1736/1736 [==============================] - 16s 9ms/step - loss: 0.0143\n",
      "Epoch 125/250\n",
      "1736/1736 [==============================] - 17s 10ms/step - loss: 0.0139\n",
      "Epoch 126/250\n",
      "1736/1736 [==============================] - 16s 9ms/step - loss: 0.0134\n",
      "Epoch 127/250\n",
      "1736/1736 [==============================] - 16s 9ms/step - loss: 0.0135\n",
      "Epoch 128/250\n",
      "1736/1736 [==============================] - 17s 10ms/step - loss: 0.0135\n",
      "Epoch 129/250\n",
      "1736/1736 [==============================] - 16s 9ms/step - loss: 0.0141\n",
      "Epoch 130/250\n",
      "1736/1736 [==============================] - 16s 9ms/step - loss: 0.0136\n",
      "Epoch 131/250\n",
      "1736/1736 [==============================] - 16s 9ms/step - loss: 0.0132\n",
      "Epoch 132/250\n",
      "1736/1736 [==============================] - 16s 9ms/step - loss: 0.0142\n",
      "Epoch 133/250\n",
      "1736/1736 [==============================] - 16s 9ms/step - loss: 0.0128\n",
      "Epoch 134/250\n",
      "1736/1736 [==============================] - 16s 9ms/step - loss: 0.0124\n",
      "Epoch 135/250\n",
      "1736/1736 [==============================] - 16s 9ms/step - loss: 0.0128\n",
      "Epoch 136/250\n",
      "1736/1736 [==============================] - 16s 9ms/step - loss: 0.0128\n",
      "Epoch 137/250\n",
      "1736/1736 [==============================] - 16s 9ms/step - loss: 0.0127\n",
      "Epoch 138/250\n",
      "1736/1736 [==============================] - 16s 9ms/step - loss: 0.0129\n",
      "Epoch 139/250\n",
      "1736/1736 [==============================] - 16s 9ms/step - loss: 0.0156\n",
      "Epoch 140/250\n",
      "1736/1736 [==============================] - 16s 9ms/step - loss: 0.0157\n",
      "Epoch 141/250\n",
      "1736/1736 [==============================] - 16s 9ms/step - loss: 0.0133\n",
      "Epoch 142/250\n",
      "1736/1736 [==============================] - 16s 9ms/step - loss: 0.0129\n",
      "Epoch 143/250\n",
      "1736/1736 [==============================] - 16s 9ms/step - loss: 0.0128\n",
      "Epoch 144/250\n",
      "1736/1736 [==============================] - 18s 10ms/step - loss: 0.0125\n",
      "Epoch 145/250\n",
      "1736/1736 [==============================] - 16s 9ms/step - loss: 0.0128\n",
      "Epoch 146/250\n",
      "1736/1736 [==============================] - 16s 9ms/step - loss: 0.0122\n",
      "Epoch 147/250\n",
      "1736/1736 [==============================] - 16s 9ms/step - loss: 0.0128\n",
      "Epoch 148/250\n",
      "1736/1736 [==============================] - 16s 9ms/step - loss: 0.0122\n",
      "Epoch 149/250\n",
      "1736/1736 [==============================] - 17s 10ms/step - loss: 0.0121\n",
      "Epoch 150/250\n",
      "1736/1736 [==============================] - 17s 10ms/step - loss: 0.0118\n",
      "Epoch 151/250\n",
      "1736/1736 [==============================] - 16s 9ms/step - loss: 0.0119\n",
      "Epoch 152/250\n",
      "1736/1736 [==============================] - 16s 9ms/step - loss: 0.0114\n",
      "Epoch 153/250\n",
      "1736/1736 [==============================] - 16s 9ms/step - loss: 0.0112\n",
      "Epoch 154/250\n",
      "1736/1736 [==============================] - 17s 10ms/step - loss: 0.0115\n",
      "Epoch 155/250\n",
      "1736/1736 [==============================] - 16s 9ms/step - loss: 0.0112\n",
      "Epoch 156/250\n",
      "1736/1736 [==============================] - 17s 10ms/step - loss: 0.0115\n",
      "Epoch 157/250\n",
      "1736/1736 [==============================] - 17s 10ms/step - loss: 0.0121\n",
      "Epoch 158/250\n",
      "1736/1736 [==============================] - 16s 9ms/step - loss: 0.0123\n",
      "Epoch 159/250\n",
      "1736/1736 [==============================] - 17s 10ms/step - loss: 0.0119\n",
      "Epoch 160/250\n",
      "1736/1736 [==============================] - 16s 9ms/step - loss: 0.0155\n",
      "Epoch 161/250\n",
      "1736/1736 [==============================] - 17s 10ms/step - loss: 0.0134\n",
      "Epoch 162/250\n",
      "1736/1736 [==============================] - 17s 10ms/step - loss: 0.0129\n",
      "Epoch 163/250\n",
      "1736/1736 [==============================] - 17s 10ms/step - loss: 0.0128\n",
      "Epoch 164/250\n",
      "1736/1736 [==============================] - 17s 10ms/step - loss: 0.0130\n",
      "Epoch 165/250\n",
      "1736/1736 [==============================] - 17s 10ms/step - loss: 0.0118\n",
      "Epoch 166/250\n",
      "1736/1736 [==============================] - 17s 10ms/step - loss: 0.0111\n",
      "Epoch 167/250\n",
      "1736/1736 [==============================] - 17s 10ms/step - loss: 0.0111\n",
      "Epoch 168/250\n",
      "1736/1736 [==============================] - 17s 10ms/step - loss: 0.0116\n",
      "Epoch 169/250\n",
      "1736/1736 [==============================] - 17s 10ms/step - loss: 0.0117\n",
      "Epoch 170/250\n",
      "1736/1736 [==============================] - 18s 10ms/step - loss: 0.0117\n",
      "Epoch 171/250\n",
      "1736/1736 [==============================] - 17s 10ms/step - loss: 0.0109\n",
      "Epoch 172/250\n",
      "1736/1736 [==============================] - 17s 10ms/step - loss: 0.0106\n",
      "Epoch 173/250\n",
      "1736/1736 [==============================] - 17s 10ms/step - loss: 0.0108\n",
      "Epoch 174/250\n",
      "1736/1736 [==============================] - 17s 10ms/step - loss: 0.0116\n",
      "Epoch 175/250\n",
      "1736/1736 [==============================] - 17s 10ms/step - loss: 0.0111\n",
      "Epoch 176/250\n",
      "1736/1736 [==============================] - 16s 9ms/step - loss: 0.0108\n",
      "Epoch 177/250\n",
      "1736/1736 [==============================] - 17s 10ms/step - loss: 0.0109\n",
      "Epoch 178/250\n",
      "1736/1736 [==============================] - 16s 9ms/step - loss: 0.0107\n",
      "Epoch 179/250\n",
      "1736/1736 [==============================] - 17s 10ms/step - loss: 0.0110\n",
      "Epoch 180/250\n",
      "1736/1736 [==============================] - 17s 10ms/step - loss: 0.0115\n",
      "Epoch 181/250\n",
      "1736/1736 [==============================] - 17s 10ms/step - loss: 0.0109\n",
      "Epoch 182/250\n",
      "1736/1736 [==============================] - 17s 10ms/step - loss: 0.0109\n",
      "Epoch 183/250\n",
      "1736/1736 [==============================] - 17s 10ms/step - loss: 0.0108\n",
      "Epoch 184/250\n",
      "1736/1736 [==============================] - 17s 10ms/step - loss: 0.0108\n",
      "Epoch 185/250\n",
      "1736/1736 [==============================] - 17s 10ms/step - loss: 0.0108\n",
      "Epoch 186/250\n",
      "1736/1736 [==============================] - 17s 10ms/step - loss: 0.0107\n",
      "Epoch 187/250\n",
      "1736/1736 [==============================] - 17s 10ms/step - loss: 0.0103\n",
      "Epoch 188/250\n",
      "1736/1736 [==============================] - 17s 10ms/step - loss: 0.0104\n",
      "Epoch 189/250\n"
     ]
    },
    {
     "name": "stdout",
     "output_type": "stream",
     "text": [
      "1736/1736 [==============================] - 17s 10ms/step - loss: 0.0103\n",
      "Epoch 190/250\n",
      "1736/1736 [==============================] - 17s 10ms/step - loss: 0.0102\n",
      "Epoch 191/250\n",
      "1736/1736 [==============================] - 17s 10ms/step - loss: 0.0101\n",
      "Epoch 192/250\n",
      "1736/1736 [==============================] - 17s 10ms/step - loss: 0.0101\n",
      "Epoch 193/250\n",
      "1736/1736 [==============================] - 17s 10ms/step - loss: 0.0100\n",
      "Epoch 194/250\n",
      "1736/1736 [==============================] - 17s 10ms/step - loss: 0.0099\n",
      "Epoch 195/250\n",
      "1736/1736 [==============================] - 17s 10ms/step - loss: 0.0099\n",
      "Epoch 196/250\n",
      "1736/1736 [==============================] - 17s 10ms/step - loss: 0.0099\n",
      "Epoch 197/250\n",
      "1736/1736 [==============================] - 17s 10ms/step - loss: 0.0115\n",
      "Epoch 198/250\n",
      "1736/1736 [==============================] - 17s 10ms/step - loss: 0.0130\n",
      "Epoch 199/250\n",
      "1736/1736 [==============================] - 17s 10ms/step - loss: 0.0133\n",
      "Epoch 200/250\n",
      "1736/1736 [==============================] - 17s 10ms/step - loss: 0.0137\n",
      "Epoch 201/250\n",
      "1736/1736 [==============================] - 17s 10ms/step - loss: 0.0140\n",
      "Epoch 202/250\n",
      "1736/1736 [==============================] - 17s 10ms/step - loss: 0.0135\n",
      "Epoch 203/250\n",
      "1736/1736 [==============================] - 17s 10ms/step - loss: 0.0116\n",
      "Epoch 204/250\n",
      "1736/1736 [==============================] - 17s 10ms/step - loss: 0.0106\n",
      "Epoch 205/250\n",
      "1736/1736 [==============================] - 17s 10ms/step - loss: 0.0105\n",
      "Epoch 206/250\n",
      "1736/1736 [==============================] - 17s 10ms/step - loss: 0.0112\n",
      "Epoch 207/250\n",
      "1736/1736 [==============================] - 17s 10ms/step - loss: 0.0139\n",
      "Epoch 208/250\n",
      "1736/1736 [==============================] - 17s 10ms/step - loss: 0.0122\n",
      "Epoch 209/250\n",
      "1736/1736 [==============================] - 17s 10ms/step - loss: 0.0109\n",
      "Epoch 210/250\n",
      "1736/1736 [==============================] - 17s 10ms/step - loss: 0.0113\n",
      "Epoch 211/250\n",
      "1736/1736 [==============================] - 17s 10ms/step - loss: 0.0112\n",
      "Epoch 212/250\n",
      "1736/1736 [==============================] - 18s 10ms/step - loss: 0.0107\n",
      "Epoch 213/250\n",
      "1736/1736 [==============================] - 17s 10ms/step - loss: 0.0107\n",
      "Epoch 214/250\n",
      "1736/1736 [==============================] - 17s 10ms/step - loss: 0.0100\n",
      "Epoch 215/250\n",
      "1736/1736 [==============================] - 18s 10ms/step - loss: 0.0105\n",
      "Epoch 216/250\n",
      "1736/1736 [==============================] - 20s 11ms/step - loss: 0.0102\n",
      "Epoch 217/250\n",
      "1736/1736 [==============================] - 17s 10ms/step - loss: 0.0100\n",
      "Epoch 218/250\n",
      "1736/1736 [==============================] - 17s 10ms/step - loss: 0.0099\n",
      "Epoch 219/250\n",
      "1736/1736 [==============================] - 17s 10ms/step - loss: 0.0099\n",
      "Epoch 220/250\n",
      "1736/1736 [==============================] - 16s 10ms/step - loss: 0.0101\n",
      "Epoch 221/250\n",
      "1736/1736 [==============================] - 17s 10ms/step - loss: 0.0103\n",
      "Epoch 222/250\n",
      "1736/1736 [==============================] - 17s 10ms/step - loss: 0.0113\n",
      "Epoch 223/250\n",
      "1736/1736 [==============================] - 17s 10ms/step - loss: 0.0121\n",
      "Epoch 224/250\n",
      "1736/1736 [==============================] - 17s 10ms/step - loss: 0.0116\n",
      "Epoch 225/250\n",
      "1736/1736 [==============================] - 17s 10ms/step - loss: 0.0117\n",
      "Epoch 226/250\n",
      "1736/1736 [==============================] - 16s 9ms/step - loss: 0.0143\n",
      "Epoch 227/250\n",
      "1736/1736 [==============================] - 17s 10ms/step - loss: 0.0120\n",
      "Epoch 228/250\n",
      "1736/1736 [==============================] - 17s 10ms/step - loss: 0.0114\n",
      "Epoch 229/250\n",
      "1736/1736 [==============================] - 17s 10ms/step - loss: 0.0112\n",
      "Epoch 230/250\n",
      "1736/1736 [==============================] - 17s 10ms/step - loss: 0.0109\n",
      "Epoch 231/250\n",
      "1736/1736 [==============================] - 17s 10ms/step - loss: 0.0110\n",
      "Epoch 232/250\n",
      "1736/1736 [==============================] - 17s 10ms/step - loss: 0.0106\n",
      "Epoch 233/250\n",
      "1736/1736 [==============================] - 17s 10ms/step - loss: 0.0101\n",
      "Epoch 234/250\n",
      "1736/1736 [==============================] - 18s 10ms/step - loss: 0.0102\n",
      "Epoch 235/250\n",
      "1736/1736 [==============================] - 17s 10ms/step - loss: 0.0103\n",
      "Epoch 236/250\n",
      "1736/1736 [==============================] - 20s 12ms/step - loss: 0.0100\n",
      "Epoch 237/250\n",
      "1736/1736 [==============================] - 21s 12ms/step - loss: 0.0105\n",
      "Epoch 238/250\n",
      "1736/1736 [==============================] - 23s 13ms/step - loss: 0.0108\n",
      "Epoch 239/250\n",
      "1736/1736 [==============================] - 17s 10ms/step - loss: 0.0099\n",
      "Epoch 240/250\n",
      "1736/1736 [==============================] - 17s 10ms/step - loss: 0.0097\n",
      "Epoch 241/250\n",
      "1736/1736 [==============================] - 17s 10ms/step - loss: 0.0097\n",
      "Epoch 242/250\n",
      "1736/1736 [==============================] - 18s 10ms/step - loss: 0.0096\n",
      "Epoch 243/250\n",
      "1736/1736 [==============================] - 17s 10ms/step - loss: 0.0096\n",
      "Epoch 244/250\n",
      "1736/1736 [==============================] - 17s 10ms/step - loss: 0.0113\n",
      "Epoch 245/250\n",
      "1736/1736 [==============================] - 17s 10ms/step - loss: 0.0104\n",
      "Epoch 246/250\n",
      "1736/1736 [==============================] - 17s 10ms/step - loss: 0.0111\n",
      "Epoch 247/250\n",
      "1736/1736 [==============================] - 17s 10ms/step - loss: 0.0129\n",
      "Epoch 248/250\n",
      "1736/1736 [==============================] - 17s 10ms/step - loss: 0.0117\n",
      "Epoch 249/250\n",
      "1736/1736 [==============================] - 17s 10ms/step - loss: 0.0111\n",
      "Epoch 250/250\n",
      "1736/1736 [==============================] - 17s 10ms/step - loss: 0.0106\n"
     ]
    }
   ],
   "source": [
    "training_history = regressor.fit(X_test_final, y_test_final, epochs=250, batch_size=42)"
   ]
  },
  {
   "cell_type": "code",
   "execution_count": 47,
   "metadata": {},
   "outputs": [],
   "source": [
    "#SAVING THE MODEL\n",
    "# serialize model to YML\n",
    "regressor_yaml = regressor.to_yaml()\n",
    "with open(\"../../models/Danube/danube_model.yaml\", \"w\") as yaml_file:\n",
    "    yaml_file.write(regressor_yaml)\n",
    "# serialize weights to HDF5\n",
    "regressor.save_weights(\"../../models/Danube/danube_model.h5\")\n",
    "#Seialize feature scaling weights"
   ]
  },
  {
   "cell_type": "code",
   "execution_count": 48,
   "metadata": {},
   "outputs": [
    {
     "data": {
      "text/plain": [
       "[<matplotlib.lines.Line2D at 0x1510f9dd0>]"
      ]
     },
     "execution_count": 48,
     "metadata": {},
     "output_type": "execute_result"
    },
    {
     "data": {
      "image/png": "[encoded data removed]",
      "text/plain": [
       "<Figure size 432x288 with 1 Axes>"
      ]
     },
     "metadata": {
      "needs_background": "light"
     },
     "output_type": "display_data"
    }
   ],
   "source": [
    "plt.plot(regressor.predict(X_test_final))"
   ]
  },
  {
   "cell_type": "code",
   "execution_count": 49,
   "metadata": {},
   "outputs": [
    {
     "data": {
      "text/plain": [
       "[<matplotlib.lines.Line2D at 0x139795c90>]"
      ]
     },
     "execution_count": 49,
     "metadata": {},
     "output_type": "execute_result"
    },
    {
     "data": {
      "image/png": "[encoded data removed]",
      "text/plain": [
       "<Figure size 432x288 with 1 Axes>"
      ]
     },
     "metadata": {
      "needs_background": "light"
     },
     "output_type": "display_data"
    }
   ],
   "source": [
    "plt.plot(y_test_final)"
   ]
  },
  {
   "cell_type": "code",
   "execution_count": null,
   "metadata": {},
   "outputs": [],
   "source": []
  }
 ],
 "metadata": {
  "kernelspec": {
   "display_name": "Python [conda env:flood_prediction]",
   "language": "python",
   "name": "conda-env-flood_prediction-py"
  },
  "language_info": {
   "codemirror_mode": {
    "name": "ipython",
    "version": 3
   },
   "file_extension": ".py",
   "mimetype": "text/x-python",
   "name": "python",
   "nbconvert_exporter": "python",
   "pygments_lexer": "ipython3",
   "version": "3.7.6"
  }
 },
 "nbformat": 4,
 "nbformat_minor": 4
}
