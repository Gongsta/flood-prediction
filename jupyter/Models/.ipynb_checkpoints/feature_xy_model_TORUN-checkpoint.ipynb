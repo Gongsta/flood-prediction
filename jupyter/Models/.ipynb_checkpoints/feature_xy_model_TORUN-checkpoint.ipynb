{
 "cells": [
  {
   "cell_type": "code",
   "execution_count": 1,
   "metadata": {},
   "outputs": [],
   "source": [
    "#THIS TRAINS A HYDROLOGICAL MODEL LOCALLY, USING ERA5 AND GLOFAS DATA TO PREDICT GLOFAS DATA\n",
    "import sys\n",
    "sys.path.append(\"../../\")\n",
    "\n",
    "#HYPERPARAMETERS\n",
    "days_intake_length = 180\n",
    "forecast_day = 30\n"
   ]
  },
  {
   "cell_type": "code",
   "execution_count": 2,
   "metadata": {},
   "outputs": [],
   "source": [
    "#LIBRARY IMPORTS\n",
    "from functions.floodmodels import shift_input, shift_test_inputs, reshape_scalar_predictand\n",
    "import xarray as xr\n",
    "import matplotlib.pyplot as plt\n",
    "import numpy as np\n",
    "from dask.distributed import Client, LocalCluster\n",
    "\n",
    "\n",
    "#Connecting to a cluster to be able to run the code locally/on the cloud\n",
    "client = Client()\n",
    "#Use this line of code if you want to run the code on the cluster\n",
    "# client = Client(\"tcp://169.45.50.121:8786\")\n",
    "\n"
   ]
  },
  {
   "cell_type": "code",
   "execution_count": 3,
   "metadata": {},
   "outputs": [
    {
     "name": "stdout",
     "output_type": "stream",
     "text": [
      "{'dashboard': 8787}\n"
     ]
    }
   ],
   "source": [
    "print(client.scheduler_info()['services'])\n"
   ]
  },
  {
   "cell_type": "code",
   "execution_count": 4,
   "metadata": {},
   "outputs": [],
   "source": [
    "ds = xr.open_dataset('../../data/features_xy.nc')\n"
   ]
  },
  {
   "cell_type": "code",
   "execution_count": 7,
   "metadata": {},
   "outputs": [
    {
     "data": {
      "text/html": [
       "<pre>&lt;xarray.Dataset&gt;\n",
       "Dimensions:     (time: 13514)\n",
       "Coordinates:\n",
       "  * time        (time) datetime64[ns] 1981-01-01 1981-01-02 ... 2017-12-31\n",
       "Data variables:\n",
       "    cp          (time) float32 0.0027969202 0.0010736011 ... 6.3911815e-05\n",
       "    lsp         (time) float32 0.0030839704 0.01112505 ... 0.0028783886\n",
       "    swvl1       (time) float32 0.36975124 0.36971572 ... 0.37917453 0.3986332\n",
       "    ro          (time) float32 4.0711366e-05 4.0798546e-05 ... 6.1603096e-05\n",
       "    sd          (time) float32 0.050891068 0.06464155 0.061856583 ... nan nan\n",
       "    sd_diff     (time) float32 nan 0.013750497 -0.0027849725 ... nan nan nan\n",
       "    lsp-4-11    (time) float32 nan nan nan ... 0.0021004332 0.0024646148\n",
       "    lsp-12-25   (time) float32 nan nan nan ... 0.003055691 0.00295202\n",
       "    lsp-26-55   (time) float32 nan nan nan ... 0.003511974 0.0031857586\n",
       "    lsp-56-180  (time) float32 nan nan nan ... 0.0020519472 0.0021398212\n",
       "    lsp-1       (time) float32 nan 0.0030839704 ... 0.0012526653 0.006716862\n",
       "    lsp-2       (time) float32 nan nan 0.0030839704 ... 0.010335923 0.0012526653\n",
       "    lsp-3       (time) float32 nan nan nan ... 0.0041955533 0.010335923\n",
       "    cp-1        (time) float32 nan 0.0027969202 ... 0.00060784887 0.0015134838\n",
       "    cp-2        (time) float32 nan nan ... 0.00068914227 0.00060784887\n",
       "    cp-3        (time) float32 nan nan nan ... 0.00018165565 0.00068914227\n",
       "    dis         (time) float64 ...\n",
       "    dis_diff    (time) float64 ...</pre>"
      ],
      "text/plain": [
       "<xarray.Dataset>\n",
       "Dimensions:     (time: 13514)\n",
       "Coordinates:\n",
       "  * time        (time) datetime64[ns] 1981-01-01 1981-01-02 ... 2017-12-31\n",
       "Data variables:\n",
       "    cp          (time) float32 0.0027969202 0.0010736011 ... 6.3911815e-05\n",
       "    lsp         (time) float32 0.0030839704 0.01112505 ... 0.0028783886\n",
       "    swvl1       (time) float32 0.36975124 0.36971572 ... 0.37917453 0.3986332\n",
       "    ro          (time) float32 4.0711366e-05 4.0798546e-05 ... 6.1603096e-05\n",
       "    sd          (time) float32 0.050891068 0.06464155 0.061856583 ... nan nan\n",
       "    sd_diff     (time) float32 nan 0.013750497 -0.0027849725 ... nan nan nan\n",
       "    lsp-4-11    (time) float32 nan nan nan ... 0.0021004332 0.0024646148\n",
       "    lsp-12-25   (time) float32 nan nan nan ... 0.003055691 0.00295202\n",
       "    lsp-26-55   (time) float32 nan nan nan ... 0.003511974 0.0031857586\n",
       "    lsp-56-180  (time) float32 nan nan nan ... 0.0020519472 0.0021398212\n",
       "    lsp-1       (time) float32 nan 0.0030839704 ... 0.0012526653 0.006716862\n",
       "    lsp-2       (time) float32 nan nan 0.0030839704 ... 0.010335923 0.0012526653\n",
       "    lsp-3       (time) float32 nan nan nan ... 0.0041955533 0.010335923\n",
       "    cp-1        (time) float32 nan 0.0027969202 ... 0.00060784887 0.0015134838\n",
       "    cp-2        (time) float32 nan nan ... 0.00068914227 0.00060784887\n",
       "    cp-3        (time) float32 nan nan nan ... 0.00018165565 0.00068914227\n",
       "    dis         (time) float64 ...\n",
       "    dis_diff    (time) float64 ..."
      ]
     },
     "execution_count": 7,
     "metadata": {},
     "output_type": "execute_result"
    }
   ],
   "source": [
    "ds"
   ]
  },
  {
   "cell_type": "code",
   "execution_count": 10,
   "metadata": {},
   "outputs": [],
   "source": [
    "#Selecting our X and y values from the dataset. Y has the river discharge values\n",
    "y_orig = ds['dis']\n",
    "y = y_orig.copy()\n",
    "X = ds.drop([ 'dis_diff','lsp-4-11','lsp-26-55', 'lsp-12-25','lsp-56-180','cp-1','cp-2','cp-3','sd_diff', 'lsp-1','lsp-2','lsp-3'])\n",
    "\n",
    "\n",
    "#Xda, yda = X.to_array(dim='features').T, y\n",
    "Xda, yda = reshape_scalar_predictand(X, y)\n"
   ]
  },
  {
   "cell_type": "code",
   "execution_count": 11,
   "metadata": {},
   "outputs": [
    {
     "data": {
      "text/html": [
       "<pre>&lt;xarray.Dataset&gt;\n",
       "Dimensions:  (time: 13514)\n",
       "Coordinates:\n",
       "  * time     (time) datetime64[ns] 1981-01-01 1981-01-02 ... 2017-12-31\n",
       "Data variables:\n",
       "    cp       (time) float32 0.0027969202 0.0010736011 ... 6.3911815e-05\n",
       "    lsp      (time) float32 0.0030839704 0.01112505 ... 0.006716862 0.0028783886\n",
       "    swvl1    (time) float32 0.36975124 0.36971572 ... 0.37917453 0.3986332\n",
       "    ro       (time) float32 4.0711366e-05 4.0798546e-05 ... 6.1603096e-05\n",
       "    sd       (time) float32 0.050891068 0.06464155 0.061856583 ... nan nan nan\n",
       "    dis      (time) float64 798.4 792.2 796.7 814.2 ... 728.3 723.6 720.8 741.5</pre>"
      ],
      "text/plain": [
       "<xarray.Dataset>\n",
       "Dimensions:  (time: 13514)\n",
       "Coordinates:\n",
       "  * time     (time) datetime64[ns] 1981-01-01 1981-01-02 ... 2017-12-31\n",
       "Data variables:\n",
       "    cp       (time) float32 0.0027969202 0.0010736011 ... 6.3911815e-05\n",
       "    lsp      (time) float32 0.0030839704 0.01112505 ... 0.006716862 0.0028783886\n",
       "    swvl1    (time) float32 0.36975124 0.36971572 ... 0.37917453 0.3986332\n",
       "    ro       (time) float32 4.0711366e-05 4.0798546e-05 ... 6.1603096e-05\n",
       "    sd       (time) float32 0.050891068 0.06464155 0.061856583 ... nan nan nan\n",
       "    dis      (time) float64 798.4 792.2 796.7 814.2 ... 728.3 723.6 720.8 741.5"
      ]
     },
     "execution_count": 11,
     "metadata": {},
     "output_type": "execute_result"
    }
   ],
   "source": [
    "X"
   ]
  },
  {
   "cell_type": "code",
   "execution_count": 12,
   "metadata": {},
   "outputs": [],
   "source": [
    "period_train = dict(time=slice(None, '2005'))\n",
    "period_valid = dict(time=slice('2006', '2011'))\n",
    "period_test = dict(time=slice('2012', '2016'))\n",
    "\n",
    "\n",
    "X_train, y_train = Xda.loc[period_train], yda.loc[period_train]\n",
    "X_valid, y_valid = Xda.loc[period_valid], yda.loc[period_valid]\n",
    "X_test, y_test = Xda.loc[period_test], yda.loc[period_test]"
   ]
  },
  {
   "cell_type": "code",
   "execution_count": 14,
   "metadata": {},
   "outputs": [],
   "source": [
    "import numpy as np\n",
    "\n",
    "#Applying feature scaling\n",
    "from sklearn.preprocessing import MinMaxScaler\n",
    "sc = MinMaxScaler(feature_range=(0,1))\n",
    "X_train_scaled = sc.fit_transform(X_train)\n",
    "sc2 = MinMaxScaler(feature_range=(0,1))\n",
    "y_train_scaled = sc2.fit_transform(y_train.values.reshape(-1,1))\n",
    "\n",
    "X_train_final, y_train_final = shift_input(X_train_scaled, y_train_scaled, days_intake_length, 1)"
   ]
  },
  {
   "cell_type": "code",
   "execution_count": 20,
   "metadata": {},
   "outputs": [],
   "source": [
    "y_train_final = y_train_final.reshape(-1)"
   ]
  },
  {
   "cell_type": "code",
   "execution_count": 21,
   "metadata": {},
   "outputs": [
    {
     "name": "stderr",
     "output_type": "stream",
     "text": [
      "Using TensorFlow backend.\n",
      "/opt/miniconda3/envs/flood_prediction/lib/python3.7/site-packages/tensorflow/python/framework/dtypes.py:526: FutureWarning: Passing (type, 1) or '1type' as a synonym of type is deprecated; in a future version of numpy, it will be understood as (type, (1,)) / '(1,)type'.\n",
      "  _np_qint8 = np.dtype([(\"qint8\", np.int8, 1)])\n",
      "/opt/miniconda3/envs/flood_prediction/lib/python3.7/site-packages/tensorflow/python/framework/dtypes.py:527: FutureWarning: Passing (type, 1) or '1type' as a synonym of type is deprecated; in a future version of numpy, it will be understood as (type, (1,)) / '(1,)type'.\n",
      "  _np_quint8 = np.dtype([(\"quint8\", np.uint8, 1)])\n",
      "/opt/miniconda3/envs/flood_prediction/lib/python3.7/site-packages/tensorflow/python/framework/dtypes.py:528: FutureWarning: Passing (type, 1) or '1type' as a synonym of type is deprecated; in a future version of numpy, it will be understood as (type, (1,)) / '(1,)type'.\n",
      "  _np_qint16 = np.dtype([(\"qint16\", np.int16, 1)])\n",
      "/opt/miniconda3/envs/flood_prediction/lib/python3.7/site-packages/tensorflow/python/framework/dtypes.py:529: FutureWarning: Passing (type, 1) or '1type' as a synonym of type is deprecated; in a future version of numpy, it will be understood as (type, (1,)) / '(1,)type'.\n",
      "  _np_quint16 = np.dtype([(\"quint16\", np.uint16, 1)])\n",
      "/opt/miniconda3/envs/flood_prediction/lib/python3.7/site-packages/tensorflow/python/framework/dtypes.py:530: FutureWarning: Passing (type, 1) or '1type' as a synonym of type is deprecated; in a future version of numpy, it will be understood as (type, (1,)) / '(1,)type'.\n",
      "  _np_qint32 = np.dtype([(\"qint32\", np.int32, 1)])\n",
      "/opt/miniconda3/envs/flood_prediction/lib/python3.7/site-packages/tensorflow/python/framework/dtypes.py:535: FutureWarning: Passing (type, 1) or '1type' as a synonym of type is deprecated; in a future version of numpy, it will be understood as (type, (1,)) / '(1,)type'.\n",
      "  np_resource = np.dtype([(\"resource\", np.ubyte, 1)])\n"
     ]
    },
    {
     "name": "stdout",
     "output_type": "stream",
     "text": [
      "WARNING:tensorflow:From /opt/miniconda3/envs/flood_prediction/lib/python3.7/site-packages/tensorflow/python/ops/resource_variable_ops.py:435: colocate_with (from tensorflow.python.framework.ops) is deprecated and will be removed in a future version.\n",
      "Instructions for updating:\n",
      "Colocations handled automatically by placer.\n"
     ]
    }
   ],
   "source": [
    "#Returns NaN values if you don't choose to use reshape_scalar_predictand\n",
    "\n",
    "import keras\n",
    "from keras.models import Sequential\n",
    "from keras.layers import Dense, LSTM\n",
    "from keras.layers.core import Dropout\n",
    "\n",
    "\n",
    "regressor = Sequential()\n",
    "\n",
    "regressor.add(LSTM(units=100, return_sequences= True, input_shape=(X_train_final.shape[1], X_train_final.shape[2])))\n",
    "regressor.add(Dropout(0.1))\n",
    "\n",
    "regressor.add(LSTM(units=100, return_sequences= True))\n",
    "regressor.add(Dropout(0.1))\n",
    "\n",
    "regressor.add(LSTM(units=100, return_sequences= True))\n",
    "regressor.add(Dropout(0.1))\n",
    "\n",
    "regressor.add(LSTM(units=100))\n",
    "regressor.add(Dropout(0.1))\n",
    "\n",
    "regressor.add(Dense(units=1))\n",
    "\n",
    "regressor.compile(optimizer='adam', loss='mean_squared_error')"
   ]
  },
  {
   "cell_type": "code",
   "execution_count": null,
   "metadata": {},
   "outputs": [],
   "source": [
    "history = regressor.fit(X_train_final, y_train_final, epochs=50, batch_size=32)"
   ]
  },
  {
   "cell_type": "code",
   "execution_count": null,
   "metadata": {},
   "outputs": [],
   "source": [
    "import matplotlib.pyplot as plt\n",
    "plt.plot(regressor.predict(X_train))"
   ]
  },
  {
   "cell_type": "code",
   "execution_count": null,
   "metadata": {},
   "outputs": [],
   "source": [
    "plt.plot(y_train_final)"
   ]
  },
  {
   "cell_type": "code",
   "execution_count": null,
   "metadata": {},
   "outputs": [],
   "source": [
    "regressor_yaml = regressor.to_yaml()\n",
    "with open(\"../../models/sample-analysis/final-lstm.yaml\", \"w\") as yaml_file:\n",
    "    yaml_file.write(regressor_yaml)\n",
    "# serialize weights to HDF5\n",
    "regressor.save_weights(\"../../models/sample-analysis/final-lstm.h5\")\n",
    "#Seialize feature scaling weights"
   ]
  }
 ],
 "metadata": {
  "kernelspec": {
   "display_name": "Python [conda env:flood_prediction]",
   "language": "python",
   "name": "conda-env-flood_prediction-py"
  },
  "language_info": {
   "codemirror_mode": {
    "name": "ipython",
    "version": 3
   },
   "file_extension": ".py",
   "mimetype": "text/x-python",
   "name": "python",
   "nbconvert_exporter": "python",
   "pygments_lexer": "ipython3",
   "version": "3.7.6"
  }
 },
 "nbformat": 4,
 "nbformat_minor": 4
}
