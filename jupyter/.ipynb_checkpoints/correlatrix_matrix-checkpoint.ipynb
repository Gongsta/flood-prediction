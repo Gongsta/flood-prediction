{
 "cells": [
  {
   "cell_type": "code",
   "execution_count": 4,
   "metadata": {},
   "outputs": [
    {
     "data": {
      "text/html": [
       "<pre>&lt;xarray.Dataset&gt;\n",
       "Dimensions:  (time: 12)\n",
       "Coordinates:\n",
       "  * time     (time) datetime64[ns] 2007-01-01T15:00:00 ... 2007-12-01T15:00:00\n",
       "Data variables:\n",
       "    u10      (time) float32 -0.4070495 -0.2925199 ... 0.12079258 -0.4829636\n",
       "    v10      (time) float32 0.25785714 0.057965204 ... 0.026509 0.12820405\n",
       "    d2m      (time) float32 261.26633 259.90594 ... 261.73145 260.33456\n",
       "    t2m      (time) float32 267.3434 266.68658 263.2509 ... 268.81427 266.83777\n",
       "    evabs    (time) float32 -0.00019360804 -0.00021901717 ... -0.00022632013\n",
       "    evaow    (time) float32 -7.479581e-05 -8.55991e-05 ... -7.459494e-05\n",
       "    evatc    (time) float32 -0.000104809675 -8.0719125e-05 ... -9.0559224e-05\n",
       "    evavt    (time) float32 -1.7772794e-05 -1.9151033e-05 ... -2.5483192e-05\n",
       "    e        (time) float32 -0.0004101315 -0.00042118857 ... -0.0004345986\n",
       "    fal      (time) float32 0.5172822 0.5185272 ... 0.47306833 0.50762355\n",
       "    lblt     (time) float32 280.33356 280.19052 ... 281.07205 280.48077\n",
       "    licd     (time) float32 1.2173018 1.2871974 ... 1.3655628 1.3655434\n",
       "    lict     (time) float32 230.92409 230.92409 230.92409 ... 230.9242 230.92409\n",
       "    lmld     (time) float32 22.758982 22.758982 ... 22.758982 22.758982\n",
       "    lmlt     (time) float32 291.11545 291.11545 291.1156 ... 291.11545 291.11545\n",
       "    lshf     (time) float32 0.6365507 0.6365517 ... 0.6365508 0.6365507\n",
       "    ltlt     (time) float32 288.96753 288.96762 ... 288.96744 288.96948\n",
       "    pev      (time) float32 -0.03257908 -0.03257908 ... -0.03257908 -0.03257908\n",
       "    ro       (time) float32 0.122771926 0.122771926 ... 0.12277193 0.122771926\n",
       "    src      (time) float32 0.00064407894 0.00064407894 ... 0.00064407894\n",
       "    skt      (time) float32 268.6097 268.6097 268.6097 ... 268.6097 268.6097\n",
       "    asn      (time) float32 0.6999934 0.6999934 ... 0.6999934 0.6999934\n",
       "    snowc    (time) float32 49.999313 49.999313 ... 49.999313 49.999313\n",
       "    rsn      (time) float32 274.9988 274.9988 274.9988 ... 274.9988 274.9988\n",
       "    sde      (time) float32 16.666315 16.666315 ... 16.666315 16.666315\n",
       "    sd       (time) float32 4.9999485 4.9999485 ... 4.9999485 4.9999485\n",
       "    es       (time) float32 -0.0015015943 -0.0015015943 ... -0.0015015943\n",
       "    sf       (time) float32 0.027137367 0.027137367 ... 0.027137367 0.027137367\n",
       "    smlt     (time) float32 0.022039738 0.022039736 ... 0.022039738 0.022039738\n",
       "    stl1     (time) float32 275.1039 275.1039 275.1039 ... 275.1039 275.1039\n",
       "    stl2     (time) float32 264.64432 264.64432 ... 264.64432 264.64432\n",
       "    stl3     (time) float32 262.87778 262.87778 ... 262.87778 262.87778\n",
       "    stl4     (time) float32 262.19507 262.19507 ... 262.19507 262.19507\n",
       "    ssro     (time) float32 0.056522496 0.056522496 ... 0.056522496 0.056522496\n",
       "    slhf     (time) float32 -15632065.0 -15632065.0 ... -15632065.0 -15632065.0\n",
       "    ssr      (time) float32 15133603.0 15133603.0 ... 15133603.0 15133603.0\n",
       "    str      (time) float32 -5515186.0 -5515186.0 ... -5515186.0 -5515186.0\n",
       "    sp       (time) float32 76272.89 76272.89 76272.89 ... 76272.89 76272.89\n",
       "    sro      (time) float32 0.10657804 0.10657804 ... 0.10657804 0.10657804\n",
       "    sshf     (time) float32 8474667.0 8474667.0 ... 8474667.0 8474667.0\n",
       "    ssrd     (time) float32 17044312.0 17044312.0 ... 17044312.0 17044312.0\n",
       "    strd     (time) float32 14515802.0 14515802.0 ... 14515802.0 14515802.0\n",
       "    tsn      (time) float32 234.81099 234.81099 ... 234.81099 234.81099\n",
       "    tp       (time) float32 0.12879875 0.12879875 ... 0.12879875 0.12879875\n",
       "    swvl1    (time) float32 0.3829997 0.3829997 ... 0.3829997 0.3829997\n",
       "    swvl2    (time) float32 0.3829997 0.3829997 ... 0.3829997 0.3829997\n",
       "    swvl3    (time) float32 0.3829997 0.3829997 ... 0.3829997 0.3829997\n",
       "    swvl4    (time) float32 0.3829997 0.3829997 ... 0.3829997 0.3829997</pre>"
      ],
      "text/plain": [
       "<xarray.Dataset>\n",
       "Dimensions:  (time: 12)\n",
       "Coordinates:\n",
       "  * time     (time) datetime64[ns] 2007-01-01T15:00:00 ... 2007-12-01T15:00:00\n",
       "Data variables:\n",
       "    u10      (time) float32 -0.4070495 -0.2925199 ... 0.12079258 -0.4829636\n",
       "    v10      (time) float32 0.25785714 0.057965204 ... 0.026509 0.12820405\n",
       "    d2m      (time) float32 261.26633 259.90594 ... 261.73145 260.33456\n",
       "    t2m      (time) float32 267.3434 266.68658 263.2509 ... 268.81427 266.83777\n",
       "    evabs    (time) float32 -0.00019360804 -0.00021901717 ... -0.00022632013\n",
       "    evaow    (time) float32 -7.479581e-05 -8.55991e-05 ... -7.459494e-05\n",
       "    evatc    (time) float32 -0.000104809675 -8.0719125e-05 ... -9.0559224e-05\n",
       "    evavt    (time) float32 -1.7772794e-05 -1.9151033e-05 ... -2.5483192e-05\n",
       "    e        (time) float32 -0.0004101315 -0.00042118857 ... -0.0004345986\n",
       "    fal      (time) float32 0.5172822 0.5185272 ... 0.47306833 0.50762355\n",
       "    lblt     (time) float32 280.33356 280.19052 ... 281.07205 280.48077\n",
       "    licd     (time) float32 1.2173018 1.2871974 ... 1.3655628 1.3655434\n",
       "    lict     (time) float32 230.92409 230.92409 230.92409 ... 230.9242 230.92409\n",
       "    lmld     (time) float32 22.758982 22.758982 ... 22.758982 22.758982\n",
       "    lmlt     (time) float32 291.11545 291.11545 291.1156 ... 291.11545 291.11545\n",
       "    lshf     (time) float32 0.6365507 0.6365517 ... 0.6365508 0.6365507\n",
       "    ltlt     (time) float32 288.96753 288.96762 ... 288.96744 288.96948\n",
       "    pev      (time) float32 -0.03257908 -0.03257908 ... -0.03257908 -0.03257908\n",
       "    ro       (time) float32 0.122771926 0.122771926 ... 0.12277193 0.122771926\n",
       "    src      (time) float32 0.00064407894 0.00064407894 ... 0.00064407894\n",
       "    skt      (time) float32 268.6097 268.6097 268.6097 ... 268.6097 268.6097\n",
       "    asn      (time) float32 0.6999934 0.6999934 ... 0.6999934 0.6999934\n",
       "    snowc    (time) float32 49.999313 49.999313 ... 49.999313 49.999313\n",
       "    rsn      (time) float32 274.9988 274.9988 274.9988 ... 274.9988 274.9988\n",
       "    sde      (time) float32 16.666315 16.666315 ... 16.666315 16.666315\n",
       "    sd       (time) float32 4.9999485 4.9999485 ... 4.9999485 4.9999485\n",
       "    es       (time) float32 -0.0015015943 -0.0015015943 ... -0.0015015943\n",
       "    sf       (time) float32 0.027137367 0.027137367 ... 0.027137367 0.027137367\n",
       "    smlt     (time) float32 0.022039738 0.022039736 ... 0.022039738 0.022039738\n",
       "    stl1     (time) float32 275.1039 275.1039 275.1039 ... 275.1039 275.1039\n",
       "    stl2     (time) float32 264.64432 264.64432 ... 264.64432 264.64432\n",
       "    stl3     (time) float32 262.87778 262.87778 ... 262.87778 262.87778\n",
       "    stl4     (time) float32 262.19507 262.19507 ... 262.19507 262.19507\n",
       "    ssro     (time) float32 0.056522496 0.056522496 ... 0.056522496 0.056522496\n",
       "    slhf     (time) float32 -15632065.0 -15632065.0 ... -15632065.0 -15632065.0\n",
       "    ssr      (time) float32 15133603.0 15133603.0 ... 15133603.0 15133603.0\n",
       "    str      (time) float32 -5515186.0 -5515186.0 ... -5515186.0 -5515186.0\n",
       "    sp       (time) float32 76272.89 76272.89 76272.89 ... 76272.89 76272.89\n",
       "    sro      (time) float32 0.10657804 0.10657804 ... 0.10657804 0.10657804\n",
       "    sshf     (time) float32 8474667.0 8474667.0 ... 8474667.0 8474667.0\n",
       "    ssrd     (time) float32 17044312.0 17044312.0 ... 17044312.0 17044312.0\n",
       "    strd     (time) float32 14515802.0 14515802.0 ... 14515802.0 14515802.0\n",
       "    tsn      (time) float32 234.81099 234.81099 ... 234.81099 234.81099\n",
       "    tp       (time) float32 0.12879875 0.12879875 ... 0.12879875 0.12879875\n",
       "    swvl1    (time) float32 0.3829997 0.3829997 ... 0.3829997 0.3829997\n",
       "    swvl2    (time) float32 0.3829997 0.3829997 ... 0.3829997 0.3829997\n",
       "    swvl3    (time) float32 0.3829997 0.3829997 ... 0.3829997 0.3829997\n",
       "    swvl4    (time) float32 0.3829997 0.3829997 ... 0.3829997 0.3829997"
      ]
     },
     "execution_count": 4,
     "metadata": {},
     "output_type": "execute_result"
    }
   ],
   "source": [
    "import xarray as xr\n",
    "era5_variables = xr.open_dataset('../download.nc')\n",
    "era5_variables.mean(['latitude', 'longitude'])\n"
   ]
  },
  {
   "cell_type": "code",
   "execution_count": 5,
   "metadata": {},
   "outputs": [
    {
     "name": "stderr",
     "output_type": "stream",
     "text": [
      "/opt/miniconda3/envs/flood_prediction/lib/python3.7/site-packages/ipykernel_launcher.py:1: FutureWarning: In xarray version 0.15 the default behaviour of `open_mfdataset`\n",
      "will change. To retain the existing behavior, pass\n",
      "combine='nested'. To use future default behavior, pass\n",
      "combine='by_coords'. See\n",
      "http://xarray.pydata.org/en/stable/combining.html#combining-multi\n",
      "\n",
      "  \"\"\"Entry point for launching an IPython kernel.\n",
      "/opt/miniconda3/envs/flood_prediction/lib/python3.7/site-packages/xarray/backends/api.py:933: FutureWarning: The datasets supplied have global dimension coordinates. You may want\n",
      "to use the new `combine_by_coords` function (or the\n",
      "`combine='by_coords'` option to `open_mfdataset`) to order the datasets\n",
      "before concatenation. Alternatively, to continue concatenating based\n",
      "on the order the datasets are supplied in future, please use the new\n",
      "`combine_nested` function (or the `combine='nested'` option to\n",
      "open_mfdataset).\n",
      "  from_openmfds=True,\n"
     ]
    },
    {
     "data": {
      "text/html": [
       "<pre>&lt;xarray.Dataset&gt;\n",
       "Dimensions:  (time: 12)\n",
       "Coordinates:\n",
       "  * time     (time) datetime64[ns] 2007-01-01 2007-01-02 ... 2007-01-12\n",
       "Data variables:\n",
       "    dis24    (time) float32 dask.array&lt;chunksize=(1,), meta=np.ndarray&gt;</pre>"
      ],
      "text/plain": [
       "<xarray.Dataset>\n",
       "Dimensions:  (time: 12)\n",
       "Coordinates:\n",
       "  * time     (time) datetime64[ns] 2007-01-01 2007-01-02 ... 2007-01-12\n",
       "Data variables:\n",
       "    dis24    (time) float32 dask.array<chunksize=(1,), meta=np.ndarray>"
      ]
     },
     "execution_count": 5,
     "metadata": {},
     "output_type": "execute_result"
    }
   ],
   "source": [
    "glofas_variable = xr.open_mfdataset('../glofas_sample/*.nc')\n",
    "glofas_variable.mean(['lat','lon'])"
   ]
  },
  {
   "cell_type": "code",
   "execution_count": null,
   "metadata": {},
   "outputs": [],
   "source": [
    "variables_visualization = all_variables.to_array(dim='features').T\n"
   ]
  },
  {
   "cell_type": "code",
   "execution_count": null,
   "metadata": {},
   "outputs": [],
   "source": [
    "def generate_heatmap(X, y, descr='description'):\n",
    "    df = pd.DataFrame(data=X.values, columns=X.features.values, index=X.time.values)\n",
    "    df['predictand'] = y\n",
    "    plt.figure(figsize=(25,25))\n",
    "    cor = df.corr()\n",
    "    sns.heatmap(cor, annot=True, cmap=plt.cm.Reds)\n",
    "    plt.show()\n",
    "    cor_predictand = abs(cor['predictand'])\n",
    "    feature_importance = cor_predictand[cor_predictand > 0.2]\n",
    "    print(descr)\n",
    "    print(feature_importance)\n",
    "    return feature_importance"
   ]
  },
  {
   "cell_type": "code",
   "execution_count": null,
   "metadata": {},
   "outputs": [],
   "source": [
    "important_features = []\n",
    "\n",
    "timeinit, timeend = '1980', '1984'\n",
    "\n",
    "ft = generate_heatmap(X=X, y=y, descr=f'{timeinit}-{timeend}; |rho|; only days with precip > 1mm')\n",
    "important_features.append(ft)\n"
   ]
  }
 ],
 "metadata": {
  "kernelspec": {
   "display_name": "Python [conda env:flood_prediction]",
   "language": "python",
   "name": "conda-env-flood_prediction-py"
  },
  "language_info": {
   "codemirror_mode": {
    "name": "ipython",
    "version": 3
   },
   "file_extension": ".py",
   "mimetype": "text/x-python",
   "name": "python",
   "nbconvert_exporter": "python",
   "pygments_lexer": "ipython3",
   "version": "3.7.6"
  }
 },
 "nbformat": 4,
 "nbformat_minor": 4
}
