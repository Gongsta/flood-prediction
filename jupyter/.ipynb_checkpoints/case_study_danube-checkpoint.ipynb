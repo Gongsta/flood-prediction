{
 "cells": [
  {
   "cell_type": "code",
   "execution_count": 1,
   "metadata": {
    "ExecuteTime": {
     "end_time": "2020-02-19T16:10:25.461717Z",
     "start_time": "2020-02-19T16:10:23.596943Z"
    }
   },
   "outputs": [],
   "source": [
    "import xarray as xr\n",
    "import sys\n",
    "sys.path.append(\"../\")"
   ]
  },
  {
   "cell_type": "code",
   "execution_count": 3,
   "metadata": {
    "ExecuteTime": {
     "end_time": "2020-02-19T16:12:02.299189Z",
     "start_time": "2020-02-19T16:12:02.252619Z"
    }
   },
   "outputs": [
    {
     "data": {
      "text/html": [
       "<pre>&lt;xarray.Dataset&gt;\n",
       "Dimensions:    (latitude: 83, longitude: 221, time: 1827)\n",
       "Coordinates:\n",
       "  * latitude   (latitude) float64 50.45 50.35 50.25 50.15 ... 42.45 42.35 42.25\n",
       "  * longitude  (longitude) float64 8.05 8.15 8.25 8.35 ... 29.85 29.95 30.05\n",
       "  * time       (time) datetime64[ns] 2012-01-01 2012-01-02 ... 2016-12-31\n",
       "Data variables:\n",
       "    dis24      (time, latitude, longitude) float32 ...\n",
       "Attributes:\n",
       "    CDI:                       Climate Data Interface version 1.9.6 (http://m...\n",
       "    Conventions:               CF-1.6\n",
       "    history:                   Thu Oct 10 12:28:51 2019: cdo -seldate,1999-01...\n",
       "    cdo_openmp_thread_number:  8\n",
       "    NCO:                       netCDF Operators version 4.7.8 (Homepage = htt...\n",
       "    CDO:                       Climate Data Operators version 1.9.6 (http://m...</pre>"
      ],
      "text/plain": [
       "<xarray.Dataset>\n",
       "Dimensions:    (latitude: 83, longitude: 221, time: 1827)\n",
       "Coordinates:\n",
       "  * latitude   (latitude) float64 50.45 50.35 50.25 50.15 ... 42.45 42.35 42.25\n",
       "  * longitude  (longitude) float64 8.05 8.15 8.25 8.35 ... 29.85 29.95 30.05\n",
       "  * time       (time) datetime64[ns] 2012-01-01 2012-01-02 ... 2016-12-31\n",
       "Data variables:\n",
       "    dis24      (time, latitude, longitude) float32 ...\n",
       "Attributes:\n",
       "    CDI:                       Climate Data Interface version 1.9.6 (http://m...\n",
       "    Conventions:               CF-1.6\n",
       "    history:                   Thu Oct 10 12:28:51 2019: cdo -seldate,1999-01...\n",
       "    cdo_openmp_thread_number:  8\n",
       "    NCO:                       netCDF Operators version 4.7.8 (Homepage = htt...\n",
       "    CDO:                       Climate Data Operators version 1.9.6 (http://m..."
      ]
     },
     "execution_count": 3,
     "metadata": {},
     "output_type": "execute_result"
    }
   ],
   "source": [
    "#Case study needs fixing \n",
    "glofas = xr.open_dataset('./glofas_masked_danube_2012-2016.nc')\n",
    "\n",
    "glofas"
   ]
  },
  {
   "cell_type": "code",
   "execution_count": 4,
   "metadata": {
    "ExecuteTime": {
     "end_time": "2020-02-19T16:12:10.211296Z",
     "start_time": "2020-02-19T16:12:09.350199Z"
    }
   },
   "outputs": [],
   "source": [
    "from functions.floodmodel_utils import get_basin_mask, get_river_mask"
   ]
  },
  {
   "cell_type": "code",
   "execution_count": 5,
   "metadata": {
    "ExecuteTime": {
     "end_time": "2020-02-19T16:12:13.633231Z",
     "start_time": "2020-02-19T16:12:13.594600Z"
    }
   },
   "outputs": [],
   "source": [
    "#eps = xr.open_mfdataset('/tmp/flood_prediction/pipeline/glofas2.1_2018_areagrid_for_StevenGong_in_Europe_*.nc', combine=\"nested\", concat_dim='time')\n",
    "eps = xr.open_dataset('/tmp/flood_prediction/pipeline/glofas2.1_2018_areagrid_for_StevenGong_in_Europe_2013051400.nc')"
   ]
  },
  {
   "cell_type": "code",
   "execution_count": 6,
   "metadata": {
    "ExecuteTime": {
     "end_time": "2020-02-19T16:12:18.180717Z",
     "start_time": "2020-02-19T16:12:18.126163Z"
    }
   },
   "outputs": [
    {
     "data": {
      "text/html": [
       "<pre>&lt;xarray.Dataset&gt;\n",
       "Dimensions:    (ensemble: 11, latitude: 450, longitude: 750, time: 31)\n",
       "Coordinates:\n",
       "  * time       (time) datetime64[ns] 2013-05-14 2013-05-15 ... 2013-06-13\n",
       "  * longitude  (longitude) float32 -24.95 -24.85 -24.75 ... 49.75 49.85 49.95\n",
       "  * latitude   (latitude) float32 74.95 74.85 74.75 74.65 ... 30.25 30.15 30.05\n",
       "  * ensemble   (ensemble) float64 0.0 1.0 2.0 3.0 4.0 5.0 6.0 7.0 8.0 9.0 10.0\n",
       "Data variables:\n",
       "    ups        (latitude, longitude) float32 ...\n",
       "    ldd        (latitude, longitude) float32 ...\n",
       "    rl2        (latitude, longitude) float32 ...\n",
       "    rl5        (latitude, longitude) float32 ...\n",
       "    rl20       (latitude, longitude) float32 ...\n",
       "    dis        (time, ensemble, latitude, longitude) float32 ...\n",
       "Attributes:\n",
       "    CDI:          Climate Data Interface version 1.9.6 (http://mpimet.mpg.de/...\n",
       "    history:      Fri Feb 14 21:35:09 2020: cdo -f nc4 -z zip copy tmp.nc /vo...\n",
       "    Conventions:  CF-1.6\n",
       "    CDO:          Climate Data Operators version 1.9.6 (http://mpimet.mpg.de/...</pre>"
      ],
      "text/plain": [
       "<xarray.Dataset>\n",
       "Dimensions:    (ensemble: 11, latitude: 450, longitude: 750, time: 31)\n",
       "Coordinates:\n",
       "  * time       (time) datetime64[ns] 2013-05-14 2013-05-15 ... 2013-06-13\n",
       "  * longitude  (longitude) float32 -24.95 -24.85 -24.75 ... 49.75 49.85 49.95\n",
       "  * latitude   (latitude) float32 74.95 74.85 74.75 74.65 ... 30.25 30.15 30.05\n",
       "  * ensemble   (ensemble) float64 0.0 1.0 2.0 3.0 4.0 5.0 6.0 7.0 8.0 9.0 10.0\n",
       "Data variables:\n",
       "    ups        (latitude, longitude) float32 ...\n",
       "    ldd        (latitude, longitude) float32 ...\n",
       "    rl2        (latitude, longitude) float32 ...\n",
       "    rl5        (latitude, longitude) float32 ...\n",
       "    rl20       (latitude, longitude) float32 ...\n",
       "    dis        (time, ensemble, latitude, longitude) float32 ...\n",
       "Attributes:\n",
       "    CDI:          Climate Data Interface version 1.9.6 (http://mpimet.mpg.de/...\n",
       "    history:      Fri Feb 14 21:35:09 2020: cdo -f nc4 -z zip copy tmp.nc /vo...\n",
       "    Conventions:  CF-1.6\n",
       "    CDO:          Climate Data Operators version 1.9.6 (http://mpimet.mpg.de/..."
      ]
     },
     "execution_count": 6,
     "metadata": {},
     "output_type": "execute_result"
    }
   ],
   "source": [
    "eps = eps.rename({'lat': 'latitude'})\n",
    "eps = eps.rename({'lon': 'longitude'})\n",
    "\n",
    "eps"
   ]
  },
  {
   "cell_type": "code",
   "execution_count": 7,
   "metadata": {
    "ExecuteTime": {
     "end_time": "2020-02-19T16:12:30.308898Z",
     "start_time": "2020-02-19T16:12:30.018114Z"
    }
   },
   "outputs": [],
   "source": [
    "elbe_basin_mask = get_basin_mask(eps.isel(time=0, ensemble=0)['dis'], 'Danube')"
   ]
  },
  {
   "cell_type": "code",
   "execution_count": 8,
   "metadata": {
    "ExecuteTime": {
     "end_time": "2020-02-19T16:12:41.164503Z",
     "start_time": "2020-02-19T16:12:34.917199Z"
    }
   },
   "outputs": [
    {
     "data": {
      "text/html": [
       "<pre>&lt;xarray.Dataset&gt;\n",
       "Dimensions:    (ensemble: 11, latitude: 83, longitude: 221, time: 31)\n",
       "Coordinates:\n",
       "  * time       (time) datetime64[ns] 2013-05-14 2013-05-15 ... 2013-06-13\n",
       "  * longitude  (longitude) float32 8.05 8.15 8.25 8.35 ... 29.85 29.95 30.05\n",
       "  * latitude   (latitude) float32 50.45 50.35 50.25 50.15 ... 42.45 42.35 42.25\n",
       "  * ensemble   (ensemble) float64 0.0 1.0 2.0 3.0 4.0 5.0 6.0 7.0 8.0 9.0 10.0\n",
       "Data variables:\n",
       "    ups        (latitude, longitude) float32 nan nan nan nan ... nan nan nan nan\n",
       "    ldd        (latitude, longitude) float32 nan nan nan nan ... nan nan nan nan\n",
       "    rl2        (latitude, longitude) float32 nan nan nan nan ... nan nan nan nan\n",
       "    rl5        (latitude, longitude) float32 nan nan nan nan ... nan nan nan nan\n",
       "    rl20       (latitude, longitude) float32 nan nan nan nan ... nan nan nan nan\n",
       "    dis        (time, ensemble, latitude, longitude) float32 nan nan ... nan nan\n",
       "Attributes:\n",
       "    CDI:          Climate Data Interface version 1.9.6 (http://mpimet.mpg.de/...\n",
       "    history:      Fri Feb 14 21:35:09 2020: cdo -f nc4 -z zip copy tmp.nc /vo...\n",
       "    Conventions:  CF-1.6\n",
       "    CDO:          Climate Data Operators version 1.9.6 (http://mpimet.mpg.de/...</pre>"
      ],
      "text/plain": [
       "<xarray.Dataset>\n",
       "Dimensions:    (ensemble: 11, latitude: 83, longitude: 221, time: 31)\n",
       "Coordinates:\n",
       "  * time       (time) datetime64[ns] 2013-05-14 2013-05-15 ... 2013-06-13\n",
       "  * longitude  (longitude) float32 8.05 8.15 8.25 8.35 ... 29.85 29.95 30.05\n",
       "  * latitude   (latitude) float32 50.45 50.35 50.25 50.15 ... 42.45 42.35 42.25\n",
       "  * ensemble   (ensemble) float64 0.0 1.0 2.0 3.0 4.0 5.0 6.0 7.0 8.0 9.0 10.0\n",
       "Data variables:\n",
       "    ups        (latitude, longitude) float32 nan nan nan nan ... nan nan nan nan\n",
       "    ldd        (latitude, longitude) float32 nan nan nan nan ... nan nan nan nan\n",
       "    rl2        (latitude, longitude) float32 nan nan nan nan ... nan nan nan nan\n",
       "    rl5        (latitude, longitude) float32 nan nan nan nan ... nan nan nan nan\n",
       "    rl20       (latitude, longitude) float32 nan nan nan nan ... nan nan nan nan\n",
       "    dis        (time, ensemble, latitude, longitude) float32 nan nan ... nan nan\n",
       "Attributes:\n",
       "    CDI:          Climate Data Interface version 1.9.6 (http://mpimet.mpg.de/...\n",
       "    history:      Fri Feb 14 21:35:09 2020: cdo -f nc4 -z zip copy tmp.nc /vo...\n",
       "    Conventions:  CF-1.6\n",
       "    CDO:          Climate Data Operators version 1.9.6 (http://mpimet.mpg.de/..."
      ]
     },
     "execution_count": 8,
     "metadata": {},
     "output_type": "execute_result"
    }
   ],
   "source": [
    "eps_masked = eps.where(elbe_basin_mask, drop=True)\n",
    "eps_masked"
   ]
  },
  {
   "cell_type": "code",
   "execution_count": 9,
   "metadata": {
    "ExecuteTime": {
     "end_time": "2020-02-19T16:12:52.981243Z",
     "start_time": "2020-02-19T16:12:51.617675Z"
    }
   },
   "outputs": [
    {
     "data": {
      "text/plain": [
       "<matplotlib.collections.QuadMesh at 0x7f3e2b2a64a8>"
      ]
     },
     "execution_count": 9,
     "metadata": {},
     "output_type": "execute_result"
    },
    {
     "data": {
      "image/png": "[encoded data removed]",
      "text/plain": [
       "<Figure size 432x288 with 2 Axes>"
      ]
     },
     "metadata": {
      "needs_background": "light"
     },
     "output_type": "display_data"
    }
   ],
   "source": [
    "eps_masked.isel(time=0, ensemble=2)['dis'].plot()"
   ]
  },
  {
   "cell_type": "code",
   "execution_count": 10,
   "metadata": {
    "ExecuteTime": {
     "end_time": "2020-02-19T16:13:36.152066Z",
     "start_time": "2020-02-19T16:13:36.084870Z"
    }
   },
   "outputs": [
    {
     "data": {
      "text/html": [
       "<pre>&lt;xarray.Dataset&gt;\n",
       "Dimensions:    (ensemble: 11, latitude: 83, longitude: 221, time: 31)\n",
       "Coordinates:\n",
       "  * time       (time) datetime64[ns] 2013-05-14 2013-05-15 ... 2013-06-13\n",
       "  * longitude  (longitude) float32 8.05 8.15 8.25 8.35 ... 29.85 29.95 30.05\n",
       "  * latitude   (latitude) float32 50.45 50.35 50.25 50.15 ... 42.45 42.35 42.25\n",
       "  * ensemble   (ensemble) float64 0.0 1.0 2.0 3.0 4.0 5.0 6.0 7.0 8.0 9.0 10.0\n",
       "Data variables:\n",
       "    ups        (latitude, longitude) float32 nan nan nan nan ... nan nan nan nan\n",
       "    ldd        (latitude, longitude) float32 nan nan nan nan ... nan nan nan nan\n",
       "    rl2        (latitude, longitude) float32 nan nan nan nan ... nan nan nan nan\n",
       "    rl5        (latitude, longitude) float32 nan nan nan nan ... nan nan nan nan\n",
       "    rl20       (latitude, longitude) float32 nan nan nan nan ... nan nan nan nan\n",
       "    dis        (time, ensemble, latitude, longitude) float32 nan nan ... nan nan\n",
       "Attributes:\n",
       "    CDI:          Climate Data Interface version 1.9.6 (http://mpimet.mpg.de/...\n",
       "    history:      Fri Feb 14 21:35:09 2020: cdo -f nc4 -z zip copy tmp.nc /vo...\n",
       "    Conventions:  CF-1.6\n",
       "    CDO:          Climate Data Operators version 1.9.6 (http://mpimet.mpg.de/...</pre>"
      ],
      "text/plain": [
       "<xarray.Dataset>\n",
       "Dimensions:    (ensemble: 11, latitude: 83, longitude: 221, time: 31)\n",
       "Coordinates:\n",
       "  * time       (time) datetime64[ns] 2013-05-14 2013-05-15 ... 2013-06-13\n",
       "  * longitude  (longitude) float32 8.05 8.15 8.25 8.35 ... 29.85 29.95 30.05\n",
       "  * latitude   (latitude) float32 50.45 50.35 50.25 50.15 ... 42.45 42.35 42.25\n",
       "  * ensemble   (ensemble) float64 0.0 1.0 2.0 3.0 4.0 5.0 6.0 7.0 8.0 9.0 10.0\n",
       "Data variables:\n",
       "    ups        (latitude, longitude) float32 nan nan nan nan ... nan nan nan nan\n",
       "    ldd        (latitude, longitude) float32 nan nan nan nan ... nan nan nan nan\n",
       "    rl2        (latitude, longitude) float32 nan nan nan nan ... nan nan nan nan\n",
       "    rl5        (latitude, longitude) float32 nan nan nan nan ... nan nan nan nan\n",
       "    rl20       (latitude, longitude) float32 nan nan nan nan ... nan nan nan nan\n",
       "    dis        (time, ensemble, latitude, longitude) float32 nan nan ... nan nan\n",
       "Attributes:\n",
       "    CDI:          Climate Data Interface version 1.9.6 (http://mpimet.mpg.de/...\n",
       "    history:      Fri Feb 14 21:35:09 2020: cdo -f nc4 -z zip copy tmp.nc /vo...\n",
       "    Conventions:  CF-1.6\n",
       "    CDO:          Climate Data Operators version 1.9.6 (http://mpimet.mpg.de/..."
      ]
     },
     "execution_count": 10,
     "metadata": {},
     "output_type": "execute_result"
    }
   ],
   "source": [
    "eps_masked"
   ]
  },
  {
   "cell_type": "code",
   "execution_count": 11,
   "metadata": {
    "ExecuteTime": {
     "end_time": "2020-02-19T16:25:12.778488Z",
     "start_time": "2020-02-19T16:25:12.542038Z"
    }
   },
   "outputs": [
    {
     "data": {
      "text/html": [
       "<pre>&lt;xarray.DataArray &#x27;dis&#x27; (time: 31, ensemble: 11)&gt;\n",
       "array([[527.36786, 527.36786, 527.36786, 527.36786, 527.36786, 527.36786,\n",
       "        527.36786, 527.36786, 527.36786, 527.36786, 527.36786],\n",
       "       [525.788  , 526.1024 , 525.93036, 525.9581 , 525.93646, 526.058  ,\n",
       "        525.7082 , 525.8597 , 526.0795 , 525.9687 , 525.979  ],\n",
       "       [524.8728 , 526.29706, 526.86755, 525.5421 , 526.5622 , 526.3139 ,\n",
       "        525.849  , 526.2587 , 526.4347 , 526.05994, 526.5783 ],\n",
       "       [524.5033 , 526.529  , 528.83374, 525.6985 , 529.1095 , 526.79193,\n",
       "        527.1018 , 527.9277 , 527.06854, 526.3979 , 528.4648 ],\n",
       "       [525.3294 , 528.1334 , 530.9599 , 526.56525, 533.16315, 528.054  ,\n",
       "        528.6438 , 530.2963 , 530.29095, 527.173  , 531.75366],\n",
       "       [526.18445, 530.7487 , 533.9488 , 527.5127 , 536.6176 , 529.64996,\n",
       "        530.9859 , 533.4773 , 535.3143 , 528.23663, 535.6033 ],\n",
       "       [528.0136 , 533.54626, 537.63336, 529.3597 , 542.0456 , 532.86194,\n",
       "        535.68097, 538.0296 , 540.6995 , 530.26764, 541.48663],\n",
       "       [531.01575, 537.38135, 541.5197 , 532.78815, 548.1303 , 535.2022 ,\n",
       "        540.4514 , 542.4852 , 545.6545 , 532.8021 , 547.41064],\n",
       "       [534.35925, 541.2824 , 545.3497 , 539.35626, 553.4719 , 537.10645,\n",
       "        544.36945, 546.3911 , 548.63916, 534.99506, 551.68365],\n",
       "       [536.15686, 543.4057 , 547.167  , 547.3289 , 557.9129 , 538.61743,\n",
       "        549.88116, 549.31757, 553.197  , 536.3819 , 557.0013 ],\n",
       "       [536.06384, 544.32184, 549.6302 , 556.06964, 560.94403, 539.0436 ,\n",
       "        553.79034, 549.57465, 562.3809 , 548.1808 , 559.76355],\n",
       "       [535.2972 , 546.69995, 555.3598 , 562.2404 , 572.4602 , 538.7963 ,\n",
       "        555.84064, 547.62946, 571.7915 , 561.41504, 558.13293],\n",
       "       [536.70416, 549.5085 , 560.47266, 564.8398 , 582.0202 , 537.26825,\n",
       "        556.55634, 544.0295 , 572.08746, 560.5173 , 557.4752 ],\n",
       "       [535.8813 , 549.4126 , 563.75867, 563.9041 , 583.3226 , 534.46436,\n",
       "        556.54285, 539.57666, 567.7366 , 553.17554, 559.8582 ],\n",
       "       [531.64355, 546.27673, 568.5195 , 560.0589 , 580.1211 , 530.2628 ,\n",
       "        556.5597 , 535.6866 , 563.03156, 544.15753, 563.27924],\n",
       "       [526.9924 , 542.0074 , 573.6004 , 558.6935 , 575.3689 , 526.608  ,\n",
       "        556.7623 , 534.9686 , 559.0372 , 535.7451 , 569.8189 ],\n",
       "       [522.33624, 539.4774 , 576.7052 , 563.6736 , 573.56775, 526.4711 ,\n",
       "        556.22644, 536.4707 , 558.11554, 530.10565, 574.928  ],\n",
       "       [518.4087 , 539.91046, 577.7048 , 578.29816, 577.5345 , 530.7404 ,\n",
       "        556.4471 , 540.1103 , 562.38837, 527.4384 , 577.5457 ],\n",
       "       [516.2015 , 542.9571 , 579.657  , 591.7003 , 585.82697, 538.8373 ,\n",
       "        560.66235, 544.0948 , 570.31555, 528.0779 , 579.87506],\n",
       "       [515.12305, 549.40656, 583.5734 , 596.4667 , 597.10046, 544.59326,\n",
       "        571.7543 , 545.6765 , 578.48157, 533.918  , 583.29614],\n",
       "       [515.5854 , 558.56366, 588.4948 , 595.9178 , 605.5942 , 551.7892 ,\n",
       "        580.98175, 549.9943 , 585.10956, 546.51526, 589.2527 ],\n",
       "       [515.2495 , 568.0862 , 591.22784, 611.2224 , 609.0729 , 560.16235,\n",
       "        583.85376, 558.6111 , 587.962  , 555.71674, 593.03656],\n",
       "       [513.55225, 575.086  , 591.81805, 625.5212 , 609.9942 , 560.1764 ,\n",
       "        584.05884, 567.1332 , 585.5823 , 561.7597 , 595.84827],\n",
       "       [510.31564, 578.3779 , 590.382  , 631.1153 , 611.1224 , 554.3514 ,\n",
       "        587.07806, 577.8671 , 581.8247 , 568.5823 , 598.0715 ],\n",
       "       [508.253  , 583.62933, 597.3108 , 633.1466 , 626.9603 , 551.00555,\n",
       "        591.05786, 588.79504, 577.29596, 574.59326, 597.0995 ],\n",
       "       [504.73184, 580.6239 , 606.63763, 633.6573 , 659.6878 , 550.29553,\n",
       "        590.2079 , 594.6333 , 573.21466, 573.6522 , 595.7012 ],\n",
       "       [504.7679 , 568.0673 , 608.7574 , 632.8519 , 681.1766 , 561.7608 ,\n",
       "        587.1706 , 595.5051 , 573.4488 , 566.62805, 593.58685],\n",
       "       [504.23975, 554.49493, 609.06335, 633.9627 , 692.91925, 577.46344,\n",
       "        586.0752 , 595.36426, 571.13654, 561.345  , 591.391  ],\n",
       "       [499.44745, 542.6704 , 605.66705, 640.06104, 696.4485 , 583.2969 ,\n",
       "        589.48224, 596.12885, 568.03015, 557.29877, 590.85474],\n",
       "       [497.67172, 533.8266 , 599.9337 , 647.1712 , 694.6023 , 580.569  ,\n",
       "        597.7471 , 602.7205 , 565.30914, 556.23975, 589.6743 ],\n",
       "       [495.37183, 527.3618 , 596.4502 , 647.6783 , 693.44934, 578.3364 ,\n",
       "        616.09937, 614.71606, 562.3747 , 562.08044, 588.35547]],\n",
       "      dtype=float32)\n",
       "Coordinates:\n",
       "  * time      (time) datetime64[ns] 2013-05-14 2013-05-15 ... 2013-06-13\n",
       "  * ensemble  (ensemble) float64 0.0 1.0 2.0 3.0 4.0 5.0 6.0 7.0 8.0 9.0 10.0</pre>"
      ],
      "text/plain": [
       "<xarray.DataArray 'dis' (time: 31, ensemble: 11)>\n",
       "array([[527.36786, 527.36786, 527.36786, 527.36786, 527.36786, 527.36786,\n",
       "        527.36786, 527.36786, 527.36786, 527.36786, 527.36786],\n",
       "       [525.788  , 526.1024 , 525.93036, 525.9581 , 525.93646, 526.058  ,\n",
       "        525.7082 , 525.8597 , 526.0795 , 525.9687 , 525.979  ],\n",
       "       [524.8728 , 526.29706, 526.86755, 525.5421 , 526.5622 , 526.3139 ,\n",
       "        525.849  , 526.2587 , 526.4347 , 526.05994, 526.5783 ],\n",
       "       [524.5033 , 526.529  , 528.83374, 525.6985 , 529.1095 , 526.79193,\n",
       "        527.1018 , 527.9277 , 527.06854, 526.3979 , 528.4648 ],\n",
       "       [525.3294 , 528.1334 , 530.9599 , 526.56525, 533.16315, 528.054  ,\n",
       "        528.6438 , 530.2963 , 530.29095, 527.173  , 531.75366],\n",
       "       [526.18445, 530.7487 , 533.9488 , 527.5127 , 536.6176 , 529.64996,\n",
       "        530.9859 , 533.4773 , 535.3143 , 528.23663, 535.6033 ],\n",
       "       [528.0136 , 533.54626, 537.63336, 529.3597 , 542.0456 , 532.86194,\n",
       "        535.68097, 538.0296 , 540.6995 , 530.26764, 541.48663],\n",
       "       [531.01575, 537.38135, 541.5197 , 532.78815, 548.1303 , 535.2022 ,\n",
       "        540.4514 , 542.4852 , 545.6545 , 532.8021 , 547.41064],\n",
       "       [534.35925, 541.2824 , 545.3497 , 539.35626, 553.4719 , 537.10645,\n",
       "        544.36945, 546.3911 , 548.63916, 534.99506, 551.68365],\n",
       "       [536.15686, 543.4057 , 547.167  , 547.3289 , 557.9129 , 538.61743,\n",
       "        549.88116, 549.31757, 553.197  , 536.3819 , 557.0013 ],\n",
       "       [536.06384, 544.32184, 549.6302 , 556.06964, 560.94403, 539.0436 ,\n",
       "        553.79034, 549.57465, 562.3809 , 548.1808 , 559.76355],\n",
       "       [535.2972 , 546.69995, 555.3598 , 562.2404 , 572.4602 , 538.7963 ,\n",
       "        555.84064, 547.62946, 571.7915 , 561.41504, 558.13293],\n",
       "       [536.70416, 549.5085 , 560.47266, 564.8398 , 582.0202 , 537.26825,\n",
       "        556.55634, 544.0295 , 572.08746, 560.5173 , 557.4752 ],\n",
       "       [535.8813 , 549.4126 , 563.75867, 563.9041 , 583.3226 , 534.46436,\n",
       "        556.54285, 539.57666, 567.7366 , 553.17554, 559.8582 ],\n",
       "       [531.64355, 546.27673, 568.5195 , 560.0589 , 580.1211 , 530.2628 ,\n",
       "        556.5597 , 535.6866 , 563.03156, 544.15753, 563.27924],\n",
       "       [526.9924 , 542.0074 , 573.6004 , 558.6935 , 575.3689 , 526.608  ,\n",
       "        556.7623 , 534.9686 , 559.0372 , 535.7451 , 569.8189 ],\n",
       "       [522.33624, 539.4774 , 576.7052 , 563.6736 , 573.56775, 526.4711 ,\n",
       "        556.22644, 536.4707 , 558.11554, 530.10565, 574.928  ],\n",
       "       [518.4087 , 539.91046, 577.7048 , 578.29816, 577.5345 , 530.7404 ,\n",
       "        556.4471 , 540.1103 , 562.38837, 527.4384 , 577.5457 ],\n",
       "       [516.2015 , 542.9571 , 579.657  , 591.7003 , 585.82697, 538.8373 ,\n",
       "        560.66235, 544.0948 , 570.31555, 528.0779 , 579.87506],\n",
       "       [515.12305, 549.40656, 583.5734 , 596.4667 , 597.10046, 544.59326,\n",
       "        571.7543 , 545.6765 , 578.48157, 533.918  , 583.29614],\n",
       "       [515.5854 , 558.56366, 588.4948 , 595.9178 , 605.5942 , 551.7892 ,\n",
       "        580.98175, 549.9943 , 585.10956, 546.51526, 589.2527 ],\n",
       "       [515.2495 , 568.0862 , 591.22784, 611.2224 , 609.0729 , 560.16235,\n",
       "        583.85376, 558.6111 , 587.962  , 555.71674, 593.03656],\n",
       "       [513.55225, 575.086  , 591.81805, 625.5212 , 609.9942 , 560.1764 ,\n",
       "        584.05884, 567.1332 , 585.5823 , 561.7597 , 595.84827],\n",
       "       [510.31564, 578.3779 , 590.382  , 631.1153 , 611.1224 , 554.3514 ,\n",
       "        587.07806, 577.8671 , 581.8247 , 568.5823 , 598.0715 ],\n",
       "       [508.253  , 583.62933, 597.3108 , 633.1466 , 626.9603 , 551.00555,\n",
       "        591.05786, 588.79504, 577.29596, 574.59326, 597.0995 ],\n",
       "       [504.73184, 580.6239 , 606.63763, 633.6573 , 659.6878 , 550.29553,\n",
       "        590.2079 , 594.6333 , 573.21466, 573.6522 , 595.7012 ],\n",
       "       [504.7679 , 568.0673 , 608.7574 , 632.8519 , 681.1766 , 561.7608 ,\n",
       "        587.1706 , 595.5051 , 573.4488 , 566.62805, 593.58685],\n",
       "       [504.23975, 554.49493, 609.06335, 633.9627 , 692.91925, 577.46344,\n",
       "        586.0752 , 595.36426, 571.13654, 561.345  , 591.391  ],\n",
       "       [499.44745, 542.6704 , 605.66705, 640.06104, 696.4485 , 583.2969 ,\n",
       "        589.48224, 596.12885, 568.03015, 557.29877, 590.85474],\n",
       "       [497.67172, 533.8266 , 599.9337 , 647.1712 , 694.6023 , 580.569  ,\n",
       "        597.7471 , 602.7205 , 565.30914, 556.23975, 589.6743 ],\n",
       "       [495.37183, 527.3618 , 596.4502 , 647.6783 , 693.44934, 578.3364 ,\n",
       "        616.09937, 614.71606, 562.3747 , 562.08044, 588.35547]],\n",
       "      dtype=float32)\n",
       "Coordinates:\n",
       "  * time      (time) datetime64[ns] 2013-05-14 2013-05-15 ... 2013-06-13\n",
       "  * ensemble  (ensemble) float64 0.0 1.0 2.0 3.0 4.0 5.0 6.0 7.0 8.0 9.0 10.0"
      ]
     },
     "execution_count": 11,
     "metadata": {},
     "output_type": "execute_result"
    }
   ],
   "source": [
    "#instead of taking the mean you should take a specific point\n",
    "mean_eps_masked = eps_masked.mean(['latitude', 'longitude'])['dis']\n",
    "mean_eps_masked"
   ]
  },
  {
   "cell_type": "code",
   "execution_count": 14,
   "metadata": {
    "ExecuteTime": {
     "end_time": "2020-02-19T16:26:06.941160Z",
     "start_time": "2020-02-19T16:26:06.822069Z"
    }
   },
   "outputs": [
    {
     "data": {
      "text/html": [
       "<pre>&lt;xarray.Dataset&gt;\n",
       "Dimensions:  (time: 62)\n",
       "Coordinates:\n",
       "  * time     (time) datetime64[ns] 2013-05-13 2013-05-14 ... 2013-07-13\n",
       "Data variables:\n",
       "    dis24    (time) float32 681.8317 680.70575 678.7656 ... 662.1861 647.3868</pre>"
      ],
      "text/plain": [
       "<xarray.Dataset>\n",
       "Dimensions:  (time: 62)\n",
       "Coordinates:\n",
       "  * time     (time) datetime64[ns] 2013-05-13 2013-05-14 ... 2013-07-13\n",
       "Data variables:\n",
       "    dis24    (time) float32 681.8317 680.70575 678.7656 ... 662.1861 647.3868"
      ]
     },
     "execution_count": 14,
     "metadata": {},
     "output_type": "execute_result"
    }
   ],
   "source": [
    "glofas_reshaped = glofas.loc[dict(time=slice('2013-05-13','2013-07-13'))].mean(['latitude','longitude'])\n",
    "\n",
    "glofas_reshaped"
   ]
  },
  {
   "cell_type": "code",
   "execution_count": 15,
   "metadata": {
    "ExecuteTime": {
     "end_time": "2020-02-19T16:26:08.570632Z",
     "start_time": "2020-02-19T16:26:07.540799Z"
    }
   },
   "outputs": [
    {
     "data": {
      "text/plain": [
       "Text(0.5, 1.0, 'Comparison of LSTM Model with GloFAS 30-Day Ensemble Forecasts')"
      ]
     },
     "execution_count": 15,
     "metadata": {},
     "output_type": "execute_result"
    },
    {
     "data": {
      "image/png": "[encoded data removed]",
      "text/plain": [
       "<Figure size 1080x360 with 1 Axes>"
      ]
     },
     "metadata": {
      "needs_background": "light"
     },
     "output_type": "display_data"
    }
   ],
   "source": [
    "import matplotlib.pyplot as plt\n",
    "fig, ax = plt.subplots(figsize=(15, 5))\n",
    "color_scheme = ['g', 'cyan', 'magenta', 'k']\n",
    "\n",
    "\n",
    "for ensemble_index in range(len(mean_eps_masked.ensemble)):\n",
    "    mean_eps_masked.isel(ensemble=ensemble_index).plot(ax=ax, label=('Ensemble ' + str(ensemble_index)), lw=0.5, linestyle='--')\n",
    "    \n",
    "glofas_reshaped['dis24'].plot(ax=ax, label=('True Discharge'), lw=4, linestyle='-', color='blue')\n",
    "\n",
    "ax.set_ylabel('river discharge [m$^3$/s]')\n",
    "\n",
    "ax.legend(loc='upper right')                \n",
    "\n",
    "plt.title('Comparison of LSTM Model with GloFAS 30-Day Ensemble Forecasts')"
   ]
  },
  {
   "cell_type": "code",
   "execution_count": null,
   "metadata": {},
   "outputs": [],
   "source": []
  }
 ],
 "metadata": {
  "kernelspec": {
   "display_name": "Python 3",
   "language": "python",
   "name": "python3"
  },
  "language_info": {
   "codemirror_mode": {
    "name": "ipython",
    "version": 3
   },
   "file_extension": ".py",
   "mimetype": "text/x-python",
   "name": "python",
   "nbconvert_exporter": "python",
   "pygments_lexer": "ipython3",
   "version": "3.6.10"
  },
  "toc": {
   "base_numbering": 1,
   "nav_menu": {},
   "number_sections": true,
   "sideBar": true,
   "skip_h1_title": false,
   "title_cell": "Table of Contents",
   "title_sidebar": "Contents",
   "toc_cell": false,
   "toc_position": {},
   "toc_section_display": true,
   "toc_window_display": false
  }
 },
 "nbformat": 4,
 "nbformat_minor": 2
}
