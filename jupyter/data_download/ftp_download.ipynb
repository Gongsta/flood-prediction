{
 "cells": [
  {
   "cell_type": "code",
   "execution_count": 10,
   "metadata": {
    "ExecuteTime": {
     "end_time": "2020-02-02T16:14:14.370147Z",
     "start_time": "2020-02-02T16:14:13.104370Z"
    }
   },
   "outputs": [
    {
     "name": "stdout",
     "output_type": "stream",
     "text": [
      "drwxr-xr-x    2 15066      500                 5 Mar  3 15:52 .\n",
      "drwxr-xr-x   72 15066      500               101 Mar  3 12:07 ..\n",
      "-rwxr-xr-x    1 15066      500          21600256 Mar  3 15:52 rl_002.map\n",
      "-rwxr-xr-x    1 15066      500          21600256 Mar  3 15:52 rl_005.map\n",
      "-rwxr-xr-x    1 15066      500          21600256 Mar  3 15:52 rl_020.map\n"
     ]
    }
   ],
   "source": [
    "from ftplib import FTP\n",
    "ftp = FTP('ftp.ecmwf.int')\n",
    "ftp.login(\"safer\", \"neo2008\")\n",
    "ftp.cwd(\"for_StevenGong\")\n",
    "ftp.dir()\n"
   ]
  },
  {
   "cell_type": "code",
   "execution_count": 12,
   "metadata": {
    "ExecuteTime": {
     "end_time": "2020-02-02T16:16:42.912462Z",
     "start_time": "2020-02-02T16:14:15.432461Z"
    }
   },
   "outputs": [],
   "source": [
    "# import os\n",
    "\n",
    "# for i in range(1,13):\n",
    "#     if i < 10:\n",
    "#         i = '0' + str(i)\n",
    "        \n",
    "#     else:\n",
    "#         i = str(i)\n",
    "        \n",
    "#     filename = \"2017\" + i + \".tar\"\n",
    "    \n",
    "#     originalFileName = 'RETR glofas2.1_reforecast_ref2018_glofas2.1_era5wb_dis_points_noobs_newobs_stat6122_197901_201712_20190125_2017' + i + '.tar'\n",
    "#     print(filename)\n",
    "#     print(originalFileName)\n",
    "    \n",
    "#     local_filename = os.path.join(\"/mnt/bucket/stuarts_files/ensemble_forecasts/\", filename)\n",
    "#     with open(local_filename, 'wb') as fp:\n",
    "#         ftp.retrbinary(originalFileName, fp.write)\n",
    "\n",
    "originalFileName = 'RETR rl_020.map'\n",
    "filename = '20year.map'\n",
    "\n",
    "local_filename = os.path.join(\"/Volumes/portableHardDisk/data/thresholds/\", filename)\n",
    "with open(local_filename, 'wb') as fp:\n",
    "    ftp.retrbinary(originalFileName, fp.write)\n"
   ]
  },
  {
   "cell_type": "code",
   "execution_count": null,
   "metadata": {},
   "outputs": [],
   "source": [
    "#Convert to .nc by using the following command\n",
    "#gdal_translate -of NETCDF X.map X.nc\n"
   ]
  },
  {
   "cell_type": "code",
   "execution_count": 19,
   "metadata": {
    "ExecuteTime": {
     "end_time": "2020-02-02T16:18:49.398437Z",
     "start_time": "2020-02-02T16:16:42.916001Z"
    }
   },
   "outputs": [],
   "source": [
    "import tarfile\n",
    "\n",
    "for i in range(1,13):\n",
    "    if i < 10:\n",
    "        i = \"0\" + str(i)\n",
    "        \n",
    "    else:\n",
    "        i = str(i)\n",
    "    \n",
    "    fname = \"/mnt/bucket/stuarts_files/ensemble_forecasts/2017\" + i +\".tar\"\n",
    "\n",
    "    tar = tarfile.open(fname, \"r:\")\n",
    "    tar.extractall(path=\"/mnt/bucket/stuarts_files/ensemble_forecasts/\")\n",
    "    tar.close()"
   ]
  },
  {
   "cell_type": "code",
   "execution_count": 68,
   "metadata": {
    "ExecuteTime": {
     "end_time": "2020-02-03T03:00:16.121174Z",
     "start_time": "2020-02-03T03:00:12.125693Z"
    }
   },
   "outputs": [],
   "source": [
    "import xarray as xr\n",
    "\n",
    "sample2017 = xr.open_mfdataset(\"/mnt/bucket/stuarts_files/ensemble_forecasts/glofas2.1_*.nc\", combine=\"nested\", concat_dim=\"time\")\n"
   ]
  },
  {
   "cell_type": "code",
   "execution_count": 71,
   "metadata": {
    "ExecuteTime": {
     "end_time": "2020-02-03T03:00:36.766899Z",
     "start_time": "2020-02-03T03:00:36.737475Z"
    }
   },
   "outputs": [
    {
     "data": {
      "text/html": [
       "<pre>&lt;xarray.Dataset&gt;\n",
       "Dimensions:   (ensemble: 11, time: 3224, x: 6122)\n",
       "Coordinates:\n",
       "  * ensemble  (ensemble) float64 0.0 1.0 2.0 3.0 4.0 5.0 6.0 7.0 8.0 9.0 10.0\n",
       "  * time      (time) datetime64[ns] 2017-01-01 2017-01-02 ... 2018-01-26\n",
       "Dimensions without coordinates: x\n",
       "Data variables:\n",
       "    dis       (time, ensemble, x) float32 dask.array&lt;chunksize=(31, 11, 6122), meta=np.ndarray&gt;\n",
       "    gcol      (time, x) int32 dask.array&lt;chunksize=(31, 6122), meta=np.ndarray&gt;\n",
       "    glat      (time, x) float32 dask.array&lt;chunksize=(31, 6122), meta=np.ndarray&gt;\n",
       "    glon      (time, x) float32 dask.array&lt;chunksize=(31, 6122), meta=np.ndarray&gt;\n",
       "    grow      (time, x) int32 dask.array&lt;chunksize=(31, 6122), meta=np.ndarray&gt;\n",
       "    gups      (time, x) float32 dask.array&lt;chunksize=(31, 6122), meta=np.ndarray&gt;\n",
       "    lat       (time, x) float32 dask.array&lt;chunksize=(31, 6122), meta=np.ndarray&gt;\n",
       "    ldd       (time, x) int16 dask.array&lt;chunksize=(31, 6122), meta=np.ndarray&gt;\n",
       "    lon       (time, x) float32 dask.array&lt;chunksize=(31, 6122), meta=np.ndarray&gt;\n",
       "    rl2       (time, x) float32 dask.array&lt;chunksize=(31, 6122), meta=np.ndarray&gt;\n",
       "    rl20      (time, x) float32 dask.array&lt;chunksize=(31, 6122), meta=np.ndarray&gt;\n",
       "    rl5       (time, x) float32 dask.array&lt;chunksize=(31, 6122), meta=np.ndarray&gt;\n",
       "    ups       (time, x) float32 dask.array&lt;chunksize=(31, 6122), meta=np.ndarray&gt;\n",
       "Attributes:\n",
       "    CDI:          Climate Data Interface version 1.6.4 (http://code.zmaw.de/p...\n",
       "    Conventions:  CF-1.4\n",
       "    history:      Tue Jan 28 10:03:34 2020: ncks -x -v obsdis /vol/glofas/glo...\n",
       "    CDO:          Climate Data Operators version 1.6.4 (http://code.zmaw.de/p...\n",
       "    NCO:          netCDF Operators version 4.7.8 (Homepage = http://nco.sf.ne...</pre>"
      ],
      "text/plain": [
       "<xarray.Dataset>\n",
       "Dimensions:   (ensemble: 11, time: 3224, x: 6122)\n",
       "Coordinates:\n",
       "  * ensemble  (ensemble) float64 0.0 1.0 2.0 3.0 4.0 5.0 6.0 7.0 8.0 9.0 10.0\n",
       "  * time      (time) datetime64[ns] 2017-01-01 2017-01-02 ... 2018-01-26\n",
       "Dimensions without coordinates: x\n",
       "Data variables:\n",
       "    dis       (time, ensemble, x) float32 dask.array<chunksize=(31, 11, 6122), meta=np.ndarray>\n",
       "    gcol      (time, x) int32 dask.array<chunksize=(31, 6122), meta=np.ndarray>\n",
       "    glat      (time, x) float32 dask.array<chunksize=(31, 6122), meta=np.ndarray>\n",
       "    glon      (time, x) float32 dask.array<chunksize=(31, 6122), meta=np.ndarray>\n",
       "    grow      (time, x) int32 dask.array<chunksize=(31, 6122), meta=np.ndarray>\n",
       "    gups      (time, x) float32 dask.array<chunksize=(31, 6122), meta=np.ndarray>\n",
       "    lat       (time, x) float32 dask.array<chunksize=(31, 6122), meta=np.ndarray>\n",
       "    ldd       (time, x) int16 dask.array<chunksize=(31, 6122), meta=np.ndarray>\n",
       "    lon       (time, x) float32 dask.array<chunksize=(31, 6122), meta=np.ndarray>\n",
       "    rl2       (time, x) float32 dask.array<chunksize=(31, 6122), meta=np.ndarray>\n",
       "    rl20      (time, x) float32 dask.array<chunksize=(31, 6122), meta=np.ndarray>\n",
       "    rl5       (time, x) float32 dask.array<chunksize=(31, 6122), meta=np.ndarray>\n",
       "    ups       (time, x) float32 dask.array<chunksize=(31, 6122), meta=np.ndarray>\n",
       "Attributes:\n",
       "    CDI:          Climate Data Interface version 1.6.4 (http://code.zmaw.de/p...\n",
       "    Conventions:  CF-1.4\n",
       "    history:      Tue Jan 28 10:03:34 2020: ncks -x -v obsdis /vol/glofas/glo...\n",
       "    CDO:          Climate Data Operators version 1.6.4 (http://code.zmaw.de/p...\n",
       "    NCO:          netCDF Operators version 4.7.8 (Homepage = http://nco.sf.ne..."
      ]
     },
     "execution_count": 71,
     "metadata": {},
     "output_type": "execute_result"
    }
   ],
   "source": [
    "sample2017"
   ]
  },
  {
   "cell_type": "code",
   "execution_count": 74,
   "metadata": {
    "ExecuteTime": {
     "end_time": "2020-02-03T03:24:23.535405Z",
     "start_time": "2020-02-03T03:24:23.511608Z"
    }
   },
   "outputs": [],
   "source": [
    "sample = xr.open_dataset(\"/mnt/bucket/stuarts_files/ensemble_forecasts/glofas2.1_reforecast_ref2018_glofas2.1_era5wb_dis_points_noobs_2017121300_newobs_stat6122_197901_201712_20190125.nc\")"
   ]
  },
  {
   "cell_type": "code",
   "execution_count": 75,
   "metadata": {
    "ExecuteTime": {
     "end_time": "2020-02-03T03:24:27.407511Z",
     "start_time": "2020-02-03T03:24:26.555072Z"
    }
   },
   "outputs": [
    {
     "data": {
      "text/plain": [
       "[<matplotlib.lines.Line2D at 0x7f23c4244e80>]"
      ]
     },
     "execution_count": 75,
     "metadata": {},
     "output_type": "execute_result"
    },
    {
     "data": {
      "image/png": "[encoded data removed]",
      "text/plain": [
       "<Figure size 432x288 with 1 Axes>"
      ]
     },
     "metadata": {
      "needs_background": "light"
     },
     "output_type": "display_data"
    }
   ],
   "source": [
    "sample.mean('x').mean('ensemble').dis.plot()"
   ]
  },
  {
   "cell_type": "code",
   "execution_count": 76,
   "metadata": {
    "ExecuteTime": {
     "end_time": "2020-02-03T03:24:57.990654Z",
     "start_time": "2020-02-03T03:24:39.943358Z"
    }
   },
   "outputs": [
    {
     "data": {
      "text/plain": [
       "[<matplotlib.lines.Line2D at 0x7f23c4627278>]"
      ]
     },
     "execution_count": 76,
     "metadata": {},
     "output_type": "execute_result"
    },
    {
     "data": {
      "image/png": "[encoded data removed]",
      "text/plain": [
       "<Figure size 432x288 with 1 Axes>"
      ]
     },
     "metadata": {
      "needs_background": "light"
     },
     "output_type": "display_data"
    }
   ],
   "source": [
    "sample2017.mean('x').mean('ensemble').dis.plot()"
   ]
  },
  {
   "cell_type": "code",
   "execution_count": 35,
   "metadata": {
    "ExecuteTime": {
     "end_time": "2020-02-03T02:35:32.596566Z",
     "start_time": "2020-02-03T02:35:32.390706Z"
    }
   },
   "outputs": [
    {
     "name": "stderr",
     "output_type": "stream",
     "text": [
      "/root/miniconda3/envs/main/lib/python3.6/site-packages/pandas/plotting/_matplotlib/converter.py:103: FutureWarning: Using an implicitly registered datetime converter for a matplotlib plotting method. The converter was registered by pandas on import. Future versions of pandas will require you to explicitly register matplotlib converters.\n",
      "\n",
      "To register the converters:\n",
      "\t>>> from pandas.plotting import register_matplotlib_converters\n",
      "\t>>> register_matplotlib_converters()\n",
      "  warnings.warn(msg, FutureWarning)\n"
     ]
    },
    {
     "data": {
      "text/plain": [
       "[<matplotlib.lines.Line2D at 0x7f23dc19ee48>]"
      ]
     },
     "execution_count": 35,
     "metadata": {},
     "output_type": "execute_result"
    },
    {
     "data": {
      "image/png": "[encoded data removed]",
      "text/plain": [
       "<Figure size 432x288 with 1 Axes>"
      ]
     },
     "metadata": {
      "needs_background": "light"
     },
     "output_type": "display_data"
    }
   ],
   "source": [
    "sample.dis.isel(x=1).isel(ensemble=0).plot()"
   ]
  },
  {
   "cell_type": "code",
   "execution_count": null,
   "metadata": {},
   "outputs": [],
   "source": [
    "reshape_data = xr.DataArray(sample2017.dis.values, dims=(\"ensemble\",\"longitude\", \"latitude\", \"time\"), coords={'longitude': sample2017})"
   ]
  },
  {
   "cell_type": "code",
   "execution_count": 80,
   "metadata": {
    "ExecuteTime": {
     "end_time": "2020-02-03T03:33:11.976321Z",
     "start_time": "2020-02-03T03:33:01.246546Z"
    }
   },
   "outputs": [
    {
     "data": {
      "text/plain": [
       "(3224, 11, 6122)"
      ]
     },
     "execution_count": 80,
     "metadata": {},
     "output_type": "execute_result"
    }
   ],
   "source": [
    "sample2017.dis.values.shape\n",
    "#time, ensemble, points"
   ]
  },
  {
   "cell_type": "code",
   "execution_count": 88,
   "metadata": {
    "ExecuteTime": {
     "end_time": "2020-02-03T03:36:05.956909Z",
     "start_time": "2020-02-03T03:36:05.697958Z"
    }
   },
   "outputs": [
    {
     "data": {
      "text/plain": [
       "6122"
      ]
     },
     "execution_count": 88,
     "metadata": {},
     "output_type": "execute_result"
    }
   ],
   "source": [
    "len(sample2017.lon.values[0])"
   ]
  },
  {
   "cell_type": "code",
   "execution_count": 89,
   "metadata": {
    "ExecuteTime": {
     "end_time": "2020-02-03T03:36:15.818545Z",
     "start_time": "2020-02-03T03:36:15.570288Z"
    }
   },
   "outputs": [
    {
     "data": {
      "text/plain": [
       "6122"
      ]
     },
     "execution_count": 89,
     "metadata": {},
     "output_type": "execute_result"
    }
   ],
   "source": [
    "len(sample2017.lat.values[0])"
   ]
  },
  {
   "cell_type": "code",
   "execution_count": 92,
   "metadata": {
    "ExecuteTime": {
     "end_time": "2020-02-03T03:36:51.459782Z",
     "start_time": "2020-02-03T03:36:50.877532Z"
    }
   },
   "outputs": [
    {
     "data": {
      "text/plain": [
       "[<matplotlib.lines.Line2D at 0x7f23cc575630>]"
      ]
     },
     "execution_count": 92,
     "metadata": {},
     "output_type": "execute_result"
    },
    {
     "data": {
      "image/png": "[encoded data removed]",
      "text/plain": [
       "<Figure size 432x288 with 1 Axes>"
      ]
     },
     "metadata": {
      "needs_background": "light"
     },
     "output_type": "display_data"
    }
   ],
   "source": [
    "import matplotlib.pyplot as plt\n",
    "plt.plot(sample2017.lat.values[0])"
   ]
  },
  {
   "cell_type": "code",
   "execution_count": 101,
   "metadata": {
    "ExecuteTime": {
     "end_time": "2020-02-03T03:43:17.439939Z",
     "start_time": "2020-02-03T03:43:17.345250Z"
    }
   },
   "outputs": [
    {
     "data": {
      "text/html": [
       "<pre>&lt;xarray.Dataset&gt;\n",
       "Dimensions:   (time: 31, x: 6122)\n",
       "Coordinates:\n",
       "    ensemble  float64 0.0\n",
       "  * time      (time) datetime64[ns] 2017-12-13 2017-12-14 ... 2018-01-12\n",
       "Dimensions without coordinates: x\n",
       "Data variables:\n",
       "    dis       (time, x) float32 7050.5474 102.71362 ... 231.57571 158.26968\n",
       "    gcol      (x) int32 3067 3033 2940 2821 3160 ... 1048 1046 1044 1043 1041\n",
       "    glat      (x) float32 72.25 72.15 71.95 71.95 70.75 ... 2.95 2.45 2.25 2.05\n",
       "    glon      (x) float32 126.75 123.35 114.05 102.15 ... -75.55 -75.65 -75.85\n",
       "    grow      (x) int32 177 178 180 180 192 191 205 ... 848 866 870 875 877 879\n",
       "    gups      (x) float32 2443690.0 218622.0 86783.0 ... 12121.0 5937.0 3587.0\n",
       "    lat       (x) float32 72.37 72.12 71.98 71.98 ... 2.462211 2.232254 2.05368\n",
       "    ldd       (x) int16 7 7 7 6 6 7 6 6 6 6 8 8 6 ... 4 6 6 8 7 8 8 8 8 9 8 8 9\n",
       "    lon       (x) float32 126.8 123.22 114.057 ... -75.651276 -75.85188\n",
       "    rl2       (x) float32 24746.889 4884.5176 2767.5288 ... 857.55865 455.68985\n",
       "    rl20      (x) float32 39911.9 10427.521 6114.3057 ... 1424.4802 826.72424\n",
       "    rl5       (x) float32 31348.475 7297.481 4224.4375 ... 1104.3492 617.2074\n",
       "    ups       (x) float32 2460000.0 198000.0 78800.0 ... 11728.0 5408.0 3541.0\n",
       "Attributes:\n",
       "    CDI:          Climate Data Interface version 1.6.4 (http://code.zmaw.de/p...\n",
       "    Conventions:  CF-1.4\n",
       "    history:      Tue Jan 28 10:04:58 2020: ncks -x -v obsdis /vol/glofas/glo...\n",
       "    CDO:          Climate Data Operators version 1.6.4 (http://code.zmaw.de/p...\n",
       "    NCO:          netCDF Operators version 4.7.8 (Homepage = http://nco.sf.ne...</pre>"
      ],
      "text/plain": [
       "<xarray.Dataset>\n",
       "Dimensions:   (time: 31, x: 6122)\n",
       "Coordinates:\n",
       "    ensemble  float64 0.0\n",
       "  * time      (time) datetime64[ns] 2017-12-13 2017-12-14 ... 2018-01-12\n",
       "Dimensions without coordinates: x\n",
       "Data variables:\n",
       "    dis       (time, x) float32 7050.5474 102.71362 ... 231.57571 158.26968\n",
       "    gcol      (x) int32 3067 3033 2940 2821 3160 ... 1048 1046 1044 1043 1041\n",
       "    glat      (x) float32 72.25 72.15 71.95 71.95 70.75 ... 2.95 2.45 2.25 2.05\n",
       "    glon      (x) float32 126.75 123.35 114.05 102.15 ... -75.55 -75.65 -75.85\n",
       "    grow      (x) int32 177 178 180 180 192 191 205 ... 848 866 870 875 877 879\n",
       "    gups      (x) float32 2443690.0 218622.0 86783.0 ... 12121.0 5937.0 3587.0\n",
       "    lat       (x) float32 72.37 72.12 71.98 71.98 ... 2.462211 2.232254 2.05368\n",
       "    ldd       (x) int16 7 7 7 6 6 7 6 6 6 6 8 8 6 ... 4 6 6 8 7 8 8 8 8 9 8 8 9\n",
       "    lon       (x) float32 126.8 123.22 114.057 ... -75.651276 -75.85188\n",
       "    rl2       (x) float32 24746.889 4884.5176 2767.5288 ... 857.55865 455.68985\n",
       "    rl20      (x) float32 39911.9 10427.521 6114.3057 ... 1424.4802 826.72424\n",
       "    rl5       (x) float32 31348.475 7297.481 4224.4375 ... 1104.3492 617.2074\n",
       "    ups       (x) float32 2460000.0 198000.0 78800.0 ... 11728.0 5408.0 3541.0\n",
       "Attributes:\n",
       "    CDI:          Climate Data Interface version 1.6.4 (http://code.zmaw.de/p...\n",
       "    Conventions:  CF-1.4\n",
       "    history:      Tue Jan 28 10:04:58 2020: ncks -x -v obsdis /vol/glofas/glo...\n",
       "    CDO:          Climate Data Operators version 1.6.4 (http://code.zmaw.de/p...\n",
       "    NCO:          netCDF Operators version 4.7.8 (Homepage = http://nco.sf.ne..."
      ]
     },
     "execution_count": 101,
     "metadata": {},
     "output_type": "execute_result"
    }
   ],
   "source": [
    "ensemble1 = sample.isel(ensemble=0)\n",
    "ensemble1"
   ]
  },
  {
   "cell_type": "code",
   "execution_count": 102,
   "metadata": {
    "ExecuteTime": {
     "end_time": "2020-02-03T03:43:41.063955Z",
     "start_time": "2020-02-03T03:43:40.594556Z"
    }
   },
   "outputs": [
    {
     "data": {
      "text/plain": [
       "[<matplotlib.lines.Line2D at 0x7f23ac15b9b0>]"
      ]
     },
     "execution_count": 102,
     "metadata": {},
     "output_type": "execute_result"
    },
    {
     "data": {
      "image/png": "[encoded data removed]",
      "text/plain": [
       "<Figure size 432x288 with 1 Axes>"
      ]
     },
     "metadata": {
      "needs_background": "light"
     },
     "output_type": "display_data"
    }
   ],
   "source": [
    "plt.plot(ensemble1.lon)"
   ]
  },
  {
   "cell_type": "code",
   "execution_count": null,
   "metadata": {},
   "outputs": [],
   "source": []
  }
 ],
 "metadata": {
  "kernelspec": {
   "display_name": "Python 3",
   "language": "python",
   "name": "python3"
  },
  "language_info": {
   "codemirror_mode": {
    "name": "ipython",
    "version": 3
   },
   "file_extension": ".py",
   "mimetype": "text/x-python",
   "name": "python",
   "nbconvert_exporter": "python",
   "pygments_lexer": "ipython3",
   "version": "3.7.4"
  },
  "toc": {
   "base_numbering": 1,
   "nav_menu": {},
   "number_sections": true,
   "sideBar": true,
   "skip_h1_title": false,
   "title_cell": "Table of Contents",
   "title_sidebar": "Contents",
   "toc_cell": false,
   "toc_position": {},
   "toc_section_display": true,
   "toc_window_display": false
  }
 },
 "nbformat": 4,
 "nbformat_minor": 2
}
