{
 "cells": [
  {
   "cell_type": "code",
   "execution_count": 7,
   "metadata": {
    "ExecuteTime": {
     "end_time": "2020-02-19T04:39:00.289706Z",
     "start_time": "2020-02-19T04:39:00.286271Z"
    }
   },
   "outputs": [],
   "source": [
    "import sys\n",
    "sys.path.append(\"../\")"
   ]
  },
  {
   "cell_type": "code",
   "execution_count": 8,
   "metadata": {
    "ExecuteTime": {
     "end_time": "2020-02-19T04:39:00.652415Z",
     "start_time": "2020-02-19T04:39:00.648741Z"
    }
   },
   "outputs": [],
   "source": [
    "from functions.floodmodel_utils import get_basin_mask, get_river_mask, reshape_scalar_predictand, reshape_multiday_predictand\n",
    "import xarray as xr\n",
    "#Creating a Dask local cluster for parallel computing (making the computations later on much faster)\n",
    "from dask.distributed import Client, LocalCluster\n"
   ]
  },
  {
   "cell_type": "code",
   "execution_count": 9,
   "metadata": {
    "ExecuteTime": {
     "end_time": "2020-02-19T04:39:01.526107Z",
     "start_time": "2020-02-19T04:39:01.128752Z"
    }
   },
   "outputs": [],
   "source": [
    "#HYPERPARAMETERS\n",
    "days_intake_length = 90\n",
    "forecast_day = 30\n",
    "\n",
    "\n",
    "#LIBRARY IMPORTS\n",
    "import xarray as xr\n",
    "import matplotlib.pyplot as plt\n",
    "import numpy as np\n",
    "from dask.distributed import Client, LocalCluster\n",
    "\n",
    "\n",
    "#Connecting to a cluster to be able to run the code locally/on the cloud\n",
    "#cluster = LocalCluster()  # n_workers=10, threads_per_worker=1,\n",
    "client = Client(processes=False)\n"
   ]
  },
  {
   "cell_type": "code",
   "execution_count": 10,
   "metadata": {
    "ExecuteTime": {
     "end_time": "2020-02-19T04:39:01.568511Z",
     "start_time": "2020-02-19T04:39:01.556878Z"
    }
   },
   "outputs": [
    {
     "name": "stdout",
     "output_type": "stream",
     "text": [
      "{'dashboard': 8787}\n"
     ]
    }
   ],
   "source": [
    "#This will tell you where you dashboard will be so you can visualize your model being run\n",
    "print(client.scheduler_info()['services'])"
   ]
  },
  {
   "cell_type": "code",
   "execution_count": 43,
   "metadata": {
    "ExecuteTime": {
     "end_time": "2020-02-19T05:20:02.350660Z",
     "start_time": "2020-02-19T05:20:02.334183Z"
    }
   },
   "outputs": [],
   "source": [
    "#Loading the transformed dataset\n",
    "#glofas_loaded = xr.open_dataset(\"/tmp/flood_prediction/pipeline/data_download:upload/reshaped_glofas_2019.nc\")\n",
    "glofas_loaded = xr.open_dataset(\"./glofas_masked_elbe_1999-2005.nc\")"
   ]
  },
  {
   "cell_type": "code",
   "execution_count": 12,
   "metadata": {
    "ExecuteTime": {
     "end_time": "2020-02-19T04:39:48.491760Z",
     "start_time": "2020-02-19T04:39:04.343625Z"
    }
   },
   "outputs": [],
   "source": [
    "era5_loaded = xr.open_mfdataset(\"/mnt/bucket/stuarts_files/Elbe/reanalysis-era5-single-levels_convective_precipitation,land_sea_mask,large_scale_precipitation,runoff,slope_of_sub_gridscale_orography,soil_type,total_column_water_vapour,volumetric_soil_water_layer_1,volumetric_soil_water_layer_2_*.nc\", combine=\"by_coords\")"
   ]
  },
  {
   "cell_type": "code",
   "execution_count": 13,
   "metadata": {
    "ExecuteTime": {
     "end_time": "2020-02-19T04:39:48.515281Z",
     "start_time": "2020-02-19T04:39:48.494578Z"
    },
    "scrolled": true
   },
   "outputs": [
    {
     "data": {
      "text/html": [
       "<pre>&lt;xarray.Dataset&gt;\n",
       "Dimensions:    (latitude: 25, longitude: 33, time: 180367)\n",
       "Coordinates:\n",
       "  * latitude   (latitude) float32 54.0 53.75 53.5 53.25 ... 48.5 48.25 48.0\n",
       "  * longitude  (longitude) float32 9.0 9.25 9.5 9.75 ... 16.25 16.5 16.75 17.0\n",
       "  * time       (time) datetime64[ns] 1999-01-01 ... 2019-11-29T06:00:00\n",
       "Data variables:\n",
       "    cp         (time, latitude, longitude) float32 dask.array&lt;chunksize=(744, 25, 33), meta=np.ndarray&gt;\n",
       "    lsm        (time, latitude, longitude) float32 dask.array&lt;chunksize=(744, 25, 33), meta=np.ndarray&gt;\n",
       "    lsp        (time, latitude, longitude) float32 dask.array&lt;chunksize=(744, 25, 33), meta=np.ndarray&gt;\n",
       "    ro         (time, latitude, longitude) float32 dask.array&lt;chunksize=(744, 25, 33), meta=np.ndarray&gt;\n",
       "    slor       (time, latitude, longitude) float32 dask.array&lt;chunksize=(744, 25, 33), meta=np.ndarray&gt;\n",
       "    slt        (time, latitude, longitude) float32 dask.array&lt;chunksize=(744, 25, 33), meta=np.ndarray&gt;\n",
       "    tcwv       (time, latitude, longitude) float32 dask.array&lt;chunksize=(744, 25, 33), meta=np.ndarray&gt;\n",
       "    swvl1      (time, latitude, longitude) float32 dask.array&lt;chunksize=(744, 25, 33), meta=np.ndarray&gt;\n",
       "    swvl2      (time, latitude, longitude) float32 dask.array&lt;chunksize=(744, 25, 33), meta=np.ndarray&gt;\n",
       "Attributes:\n",
       "    Conventions:  CF-1.6\n",
       "    history:      2019-12-02 16:58:32 GMT by grib_to_netcdf-2.14.0: /opt/ecmw...</pre>"
      ],
      "text/plain": [
       "<xarray.Dataset>\n",
       "Dimensions:    (latitude: 25, longitude: 33, time: 180367)\n",
       "Coordinates:\n",
       "  * latitude   (latitude) float32 54.0 53.75 53.5 53.25 ... 48.5 48.25 48.0\n",
       "  * longitude  (longitude) float32 9.0 9.25 9.5 9.75 ... 16.25 16.5 16.75 17.0\n",
       "  * time       (time) datetime64[ns] 1999-01-01 ... 2019-11-29T06:00:00\n",
       "Data variables:\n",
       "    cp         (time, latitude, longitude) float32 dask.array<chunksize=(744, 25, 33), meta=np.ndarray>\n",
       "    lsm        (time, latitude, longitude) float32 dask.array<chunksize=(744, 25, 33), meta=np.ndarray>\n",
       "    lsp        (time, latitude, longitude) float32 dask.array<chunksize=(744, 25, 33), meta=np.ndarray>\n",
       "    ro         (time, latitude, longitude) float32 dask.array<chunksize=(744, 25, 33), meta=np.ndarray>\n",
       "    slor       (time, latitude, longitude) float32 dask.array<chunksize=(744, 25, 33), meta=np.ndarray>\n",
       "    slt        (time, latitude, longitude) float32 dask.array<chunksize=(744, 25, 33), meta=np.ndarray>\n",
       "    tcwv       (time, latitude, longitude) float32 dask.array<chunksize=(744, 25, 33), meta=np.ndarray>\n",
       "    swvl1      (time, latitude, longitude) float32 dask.array<chunksize=(744, 25, 33), meta=np.ndarray>\n",
       "    swvl2      (time, latitude, longitude) float32 dask.array<chunksize=(744, 25, 33), meta=np.ndarray>\n",
       "Attributes:\n",
       "    Conventions:  CF-1.6\n",
       "    history:      2019-12-02 16:58:32 GMT by grib_to_netcdf-2.14.0: /opt/ecmw..."
      ]
     },
     "execution_count": 13,
     "metadata": {},
     "output_type": "execute_result"
    }
   ],
   "source": [
    "era5_loaded"
   ]
  },
  {
   "cell_type": "code",
   "execution_count": 14,
   "metadata": {
    "ExecuteTime": {
     "end_time": "2020-02-19T04:39:48.520725Z",
     "start_time": "2020-02-19T04:39:48.517403Z"
    }
   },
   "outputs": [],
   "source": [
    "era5 = era5_loaded.copy()"
   ]
  },
  {
   "cell_type": "code",
   "execution_count": 44,
   "metadata": {
    "ExecuteTime": {
     "end_time": "2020-02-19T05:20:07.638326Z",
     "start_time": "2020-02-19T05:20:07.620142Z"
    }
   },
   "outputs": [
    {
     "data": {
      "text/html": [
       "<pre>&lt;xarray.Dataset&gt;\n",
       "Dimensions:    (latitude: 54, longitude: 71, time: 2557)\n",
       "Coordinates:\n",
       "  * latitude   (latitude) float64 53.85 53.75 53.65 53.55 ... 48.75 48.65 48.55\n",
       "  * longitude  (longitude) float64 9.25 9.35 9.45 9.55 ... 16.05 16.15 16.25\n",
       "  * time       (time) datetime64[ns] 1999-01-01 1999-01-02 ... 2005-12-31\n",
       "Data variables:\n",
       "    dis24      (time, latitude, longitude) float32 ...\n",
       "Attributes:\n",
       "    CDI:                       Climate Data Interface version 1.9.6 (http://m...\n",
       "    Conventions:               CF-1.6\n",
       "    history:                   Thu Oct 10 12:28:51 2019: cdo -seldate,1999-01...\n",
       "    cdo_openmp_thread_number:  8\n",
       "    NCO:                       netCDF Operators version 4.7.8 (Homepage = htt...\n",
       "    CDO:                       Climate Data Operators version 1.9.6 (http://m...</pre>"
      ],
      "text/plain": [
       "<xarray.Dataset>\n",
       "Dimensions:    (latitude: 54, longitude: 71, time: 2557)\n",
       "Coordinates:\n",
       "  * latitude   (latitude) float64 53.85 53.75 53.65 53.55 ... 48.75 48.65 48.55\n",
       "  * longitude  (longitude) float64 9.25 9.35 9.45 9.55 ... 16.05 16.15 16.25\n",
       "  * time       (time) datetime64[ns] 1999-01-01 1999-01-02 ... 2005-12-31\n",
       "Data variables:\n",
       "    dis24      (time, latitude, longitude) float32 ...\n",
       "Attributes:\n",
       "    CDI:                       Climate Data Interface version 1.9.6 (http://m...\n",
       "    Conventions:               CF-1.6\n",
       "    history:                   Thu Oct 10 12:28:51 2019: cdo -seldate,1999-01...\n",
       "    cdo_openmp_thread_number:  8\n",
       "    NCO:                       netCDF Operators version 4.7.8 (Homepage = htt...\n",
       "    CDO:                       Climate Data Operators version 1.9.6 (http://m..."
      ]
     },
     "execution_count": 44,
     "metadata": {},
     "output_type": "execute_result"
    }
   ],
   "source": [
    "glofas_loaded"
   ]
  },
  {
   "cell_type": "code",
   "execution_count": 47,
   "metadata": {
    "ExecuteTime": {
     "end_time": "2020-02-19T05:20:39.602742Z",
     "start_time": "2020-02-19T05:20:39.599732Z"
    }
   },
   "outputs": [],
   "source": [
    "y_orig = glofas_loaded\n",
    "#Making a copy because y will be transformed to represent the variation of discharge. The model will be predicting the variation of discharge, not the quantity of discharge itself\n",
    "y = y_orig\n",
    "\n",
    "#Era5 will be the predictor dataset\n"
   ]
  },
  {
   "cell_type": "code",
   "execution_count": 21,
   "metadata": {
    "ExecuteTime": {
     "end_time": "2020-02-19T04:40:50.612752Z",
     "start_time": "2020-02-19T04:40:50.609273Z"
    }
   },
   "outputs": [],
   "source": [
    "period_train = dict(time=slice(None, '2005'))\n",
    "period_valid = dict(time=slice('2006', '2011'))\n",
    "period_test = dict(time=slice('2012', '2016'))\n"
   ]
  },
  {
   "cell_type": "code",
   "execution_count": 25,
   "metadata": {
    "ExecuteTime": {
     "end_time": "2020-02-19T04:42:09.131115Z",
     "start_time": "2020-02-19T04:42:09.012253Z"
    }
   },
   "outputs": [],
   "source": [
    "elbe_basin_mask = get_basin_mask(glofas_loaded['dis24'].isel(time=0), 'Elbe')"
   ]
  },
  {
   "cell_type": "code",
   "execution_count": 26,
   "metadata": {
    "ExecuteTime": {
     "end_time": "2020-02-19T04:43:11.010439Z",
     "start_time": "2020-02-19T04:42:10.168668Z"
    }
   },
   "outputs": [
    {
     "name": "stderr",
     "output_type": "stream",
     "text": [
      "distributed.comm.inproc - WARNING - Closing dangling queue in <InProc  local=inproc://172.31.1.197/18502/8 remote=inproc://172.31.1.197/18502/1>\n",
      "distributed.comm.inproc - WARNING - Closing dangling queue in <InProc  local=inproc://172.31.1.197/18502/9 remote=inproc://172.31.1.197/18502/1>\n",
      "distributed.comm.inproc - WARNING - Closing dangling queue in <InProc  local=inproc://172.31.1.197/18502/10 remote=inproc://172.31.1.197/18502/1>\n",
      "distributed.comm.inproc - WARNING - Closing dangling queue in <InProc  local=inproc://172.31.1.197/18502/11 remote=inproc://172.31.1.197/18502/1>\n",
      "distributed.comm.inproc - WARNING - Closing dangling queue in <InProc  local=inproc://172.31.1.197/18502/12 remote=inproc://172.31.1.197/18502/1>\n",
      "distributed.comm.inproc - WARNING - Closing dangling queue in <InProc  local=inproc://172.31.1.197/18502/13 remote=inproc://172.31.1.197/18502/1>\n",
      "distributed.comm.inproc - WARNING - Closing dangling queue in <InProc  local=inproc://172.31.1.197/18502/14 remote=inproc://172.31.1.197/18502/1>\n",
      "distributed.comm.inproc - WARNING - Closing dangling queue in <InProc  local=inproc://172.31.1.197/18502/15 remote=inproc://172.31.1.197/18502/1>\n",
      "distributed.comm.inproc - WARNING - Closing dangling queue in <InProc  local=inproc://172.31.1.197/18502/16 remote=inproc://172.31.1.197/18502/1>\n",
      "distributed.comm.inproc - WARNING - Closing dangling queue in <InProc  local=inproc://172.31.1.197/18502/17 remote=inproc://172.31.1.197/18502/1>\n",
      "distributed.comm.inproc - WARNING - Closing dangling queue in <InProc  local=inproc://172.31.1.197/18502/18 remote=inproc://172.31.1.197/18502/1>\n",
      "distributed.comm.inproc - WARNING - Closing dangling queue in <InProc  local=inproc://172.31.1.197/18502/19 remote=inproc://172.31.1.197/18502/1>\n",
      "distributed.comm.inproc - WARNING - Closing dangling queue in <InProc  local=inproc://172.31.1.197/18502/20 remote=inproc://172.31.1.197/18502/1>\n",
      "distributed.comm.inproc - WARNING - Closing dangling queue in <InProc  local=inproc://172.31.1.197/18502/21 remote=inproc://172.31.1.197/18502/1>\n",
      "distributed.comm.inproc - WARNING - Closing dangling queue in <InProc  local=inproc://172.31.1.197/18502/22 remote=inproc://172.31.1.197/18502/1>\n",
      "distributed.comm.inproc - WARNING - Closing dangling queue in <InProc  local=inproc://172.31.1.197/18502/23 remote=inproc://172.31.1.197/18502/1>\n",
      "distributed.comm.inproc - WARNING - Closing dangling queue in <InProc  local=inproc://172.31.1.197/18502/24 remote=inproc://172.31.1.197/18502/1>\n",
      "distributed.comm.inproc - WARNING - Closing dangling queue in <InProc  local=inproc://172.31.1.197/18502/25 remote=inproc://172.31.1.197/18502/1>\n",
      "distributed.comm.inproc - WARNING - Closing dangling queue in <InProc  local=inproc://172.31.1.197/18502/26 remote=inproc://172.31.1.197/18502/1>\n",
      "distributed.comm.inproc - WARNING - Closing dangling queue in <InProc  local=inproc://172.31.1.197/18502/27 remote=inproc://172.31.1.197/18502/1>\n",
      "distributed.comm.inproc - WARNING - Closing dangling queue in <InProc  local=inproc://172.31.1.197/18502/28 remote=inproc://172.31.1.197/18502/1>\n",
      "distributed.comm.inproc - WARNING - Closing dangling queue in <InProc  local=inproc://172.31.1.197/18502/29 remote=inproc://172.31.1.197/18502/1>\n",
      "distributed.comm.inproc - WARNING - Closing dangling queue in <InProc  local=inproc://172.31.1.197/18502/30 remote=inproc://172.31.1.197/18502/1>\n",
      "distributed.comm.inproc - WARNING - Closing dangling queue in <InProc  local=inproc://172.31.1.197/18502/31 remote=inproc://172.31.1.197/18502/1>\n",
      "distributed.comm.inproc - WARNING - Closing dangling queue in <InProc  local=inproc://172.31.1.197/18502/32 remote=inproc://172.31.1.197/18502/1>\n",
      "distributed.comm.inproc - WARNING - Closing dangling queue in <InProc  local=inproc://172.31.1.197/18502/33 remote=inproc://172.31.1.197/18502/1>\n",
      "distributed.comm.inproc - WARNING - Closing dangling queue in <InProc  local=inproc://172.31.1.197/18502/34 remote=inproc://172.31.1.197/18502/1>\n",
      "distributed.comm.inproc - WARNING - Closing dangling queue in <InProc  local=inproc://172.31.1.197/18502/35 remote=inproc://172.31.1.197/18502/1>\n",
      "distributed.comm.inproc - WARNING - Closing dangling queue in <InProc  local=inproc://172.31.1.197/18502/36 remote=inproc://172.31.1.197/18502/1>\n",
      "distributed.comm.inproc - WARNING - Closing dangling queue in <InProc  local=inproc://172.31.1.197/18502/37 remote=inproc://172.31.1.197/18502/1>\n",
      "distributed.comm.inproc - WARNING - Closing dangling queue in <InProc  local=inproc://172.31.1.197/18502/38 remote=inproc://172.31.1.197/18502/1>\n",
      "distributed.comm.inproc - WARNING - Closing dangling queue in <InProc  local=inproc://172.31.1.197/18502/39 remote=inproc://172.31.1.197/18502/1>\n",
      "distributed.comm.inproc - WARNING - Closing dangling queue in <InProc  local=inproc://172.31.1.197/18502/40 remote=inproc://172.31.1.197/18502/1>\n",
      "distributed.comm.inproc - WARNING - Closing dangling queue in <InProc  local=inproc://172.31.1.197/18502/41 remote=inproc://172.31.1.197/18502/1>\n",
      "distributed.comm.inproc - WARNING - Closing dangling queue in <InProc  local=inproc://172.31.1.197/18502/42 remote=inproc://172.31.1.197/18502/1>\n",
      "distributed.comm.inproc - WARNING - Closing dangling queue in <InProc  local=inproc://172.31.1.197/18502/43 remote=inproc://172.31.1.197/18502/1>\n",
      "distributed.comm.inproc - WARNING - Closing dangling queue in <InProc  local=inproc://172.31.1.197/18502/44 remote=inproc://172.31.1.197/18502/1>\n",
      "distributed.comm.inproc - WARNING - Closing dangling queue in <InProc  local=inproc://172.31.1.197/18502/45 remote=inproc://172.31.1.197/18502/1>\n",
      "distributed.comm.inproc - WARNING - Closing dangling queue in <InProc  local=inproc://172.31.1.197/18502/46 remote=inproc://172.31.1.197/18502/1>\n",
      "distributed.comm.inproc - WARNING - Closing dangling queue in <InProc  local=inproc://172.31.1.197/18502/47 remote=inproc://172.31.1.197/18502/1>\n",
      "distributed.comm.inproc - WARNING - Closing dangling queue in <InProc  local=inproc://172.31.1.197/18502/48 remote=inproc://172.31.1.197/18502/1>\n"
     ]
    }
   ],
   "source": [
    "#Reshape to align in coordinates\n",
    "era5_masked = era5.loc[period_train].interp(latitude=y.latitude, longitude=y.longitude).where(elbe_basin_mask, drop=True)\n",
    "X = era5_masked\n",
    "\n",
    "\n",
    "#Downsampling our time from hourly to daily\n",
    "X = X.resample(time='1D').mean()\n"
   ]
  },
  {
   "cell_type": "code",
   "execution_count": 45,
   "metadata": {
    "ExecuteTime": {
     "end_time": "2020-02-19T05:20:18.071357Z",
     "start_time": "2020-02-19T05:20:18.049336Z"
    }
   },
   "outputs": [
    {
     "data": {
      "text/html": [
       "<pre>&lt;xarray.Dataset&gt;\n",
       "Dimensions:    (latitude: 54, longitude: 71, time: 2557)\n",
       "Coordinates:\n",
       "  * time       (time) datetime64[ns] 1999-01-01 1999-01-02 ... 2005-12-31\n",
       "  * latitude   (latitude) float64 53.85 53.75 53.65 53.55 ... 48.75 48.65 48.55\n",
       "  * longitude  (longitude) float64 9.25 9.35 9.45 9.55 ... 16.05 16.15 16.25\n",
       "Data variables:\n",
       "    cp         (time, latitude, longitude) float32 dask.array&lt;chunksize=(1, 54, 71), meta=np.ndarray&gt;\n",
       "    lsm        (time, latitude, longitude) float32 dask.array&lt;chunksize=(1, 54, 71), meta=np.ndarray&gt;\n",
       "    lsp        (time, latitude, longitude) float32 dask.array&lt;chunksize=(1, 54, 71), meta=np.ndarray&gt;\n",
       "    ro         (time, latitude, longitude) float32 dask.array&lt;chunksize=(1, 54, 71), meta=np.ndarray&gt;\n",
       "    slor       (time, latitude, longitude) float32 dask.array&lt;chunksize=(1, 54, 71), meta=np.ndarray&gt;\n",
       "    slt        (time, latitude, longitude) float32 dask.array&lt;chunksize=(1, 54, 71), meta=np.ndarray&gt;\n",
       "    tcwv       (time, latitude, longitude) float32 dask.array&lt;chunksize=(1, 54, 71), meta=np.ndarray&gt;\n",
       "    swvl1      (time, latitude, longitude) float32 dask.array&lt;chunksize=(1, 54, 71), meta=np.ndarray&gt;\n",
       "    swvl2      (time, latitude, longitude) float32 dask.array&lt;chunksize=(1, 54, 71), meta=np.ndarray&gt;</pre>"
      ],
      "text/plain": [
       "<xarray.Dataset>\n",
       "Dimensions:    (latitude: 54, longitude: 71, time: 2557)\n",
       "Coordinates:\n",
       "  * time       (time) datetime64[ns] 1999-01-01 1999-01-02 ... 2005-12-31\n",
       "  * latitude   (latitude) float64 53.85 53.75 53.65 53.55 ... 48.75 48.65 48.55\n",
       "  * longitude  (longitude) float64 9.25 9.35 9.45 9.55 ... 16.05 16.15 16.25\n",
       "Data variables:\n",
       "    cp         (time, latitude, longitude) float32 dask.array<chunksize=(1, 54, 71), meta=np.ndarray>\n",
       "    lsm        (time, latitude, longitude) float32 dask.array<chunksize=(1, 54, 71), meta=np.ndarray>\n",
       "    lsp        (time, latitude, longitude) float32 dask.array<chunksize=(1, 54, 71), meta=np.ndarray>\n",
       "    ro         (time, latitude, longitude) float32 dask.array<chunksize=(1, 54, 71), meta=np.ndarray>\n",
       "    slor       (time, latitude, longitude) float32 dask.array<chunksize=(1, 54, 71), meta=np.ndarray>\n",
       "    slt        (time, latitude, longitude) float32 dask.array<chunksize=(1, 54, 71), meta=np.ndarray>\n",
       "    tcwv       (time, latitude, longitude) float32 dask.array<chunksize=(1, 54, 71), meta=np.ndarray>\n",
       "    swvl1      (time, latitude, longitude) float32 dask.array<chunksize=(1, 54, 71), meta=np.ndarray>\n",
       "    swvl2      (time, latitude, longitude) float32 dask.array<chunksize=(1, 54, 71), meta=np.ndarray>"
      ]
     },
     "execution_count": 45,
     "metadata": {},
     "output_type": "execute_result"
    }
   ],
   "source": [
    "X"
   ]
  },
  {
   "cell_type": "code",
   "execution_count": 48,
   "metadata": {
    "ExecuteTime": {
     "end_time": "2020-02-19T05:20:45.554161Z",
     "start_time": "2020-02-19T05:20:45.537678Z"
    }
   },
   "outputs": [
    {
     "data": {
      "text/html": [
       "<pre>&lt;xarray.Dataset&gt;\n",
       "Dimensions:    (latitude: 54, longitude: 71, time: 2557)\n",
       "Coordinates:\n",
       "  * latitude   (latitude) float64 53.85 53.75 53.65 53.55 ... 48.75 48.65 48.55\n",
       "  * longitude  (longitude) float64 9.25 9.35 9.45 9.55 ... 16.05 16.15 16.25\n",
       "  * time       (time) datetime64[ns] 1999-01-01 1999-01-02 ... 2005-12-31\n",
       "Data variables:\n",
       "    dis24      (time, latitude, longitude) float32 ...\n",
       "Attributes:\n",
       "    CDI:                       Climate Data Interface version 1.9.6 (http://m...\n",
       "    Conventions:               CF-1.6\n",
       "    history:                   Thu Oct 10 12:28:51 2019: cdo -seldate,1999-01...\n",
       "    cdo_openmp_thread_number:  8\n",
       "    NCO:                       netCDF Operators version 4.7.8 (Homepage = htt...\n",
       "    CDO:                       Climate Data Operators version 1.9.6 (http://m...</pre>"
      ],
      "text/plain": [
       "<xarray.Dataset>\n",
       "Dimensions:    (latitude: 54, longitude: 71, time: 2557)\n",
       "Coordinates:\n",
       "  * latitude   (latitude) float64 53.85 53.75 53.65 53.55 ... 48.75 48.65 48.55\n",
       "  * longitude  (longitude) float64 9.25 9.35 9.45 9.55 ... 16.05 16.15 16.25\n",
       "  * time       (time) datetime64[ns] 1999-01-01 1999-01-02 ... 2005-12-31\n",
       "Data variables:\n",
       "    dis24      (time, latitude, longitude) float32 ...\n",
       "Attributes:\n",
       "    CDI:                       Climate Data Interface version 1.9.6 (http://m...\n",
       "    Conventions:               CF-1.6\n",
       "    history:                   Thu Oct 10 12:28:51 2019: cdo -seldate,1999-01...\n",
       "    cdo_openmp_thread_number:  8\n",
       "    NCO:                       netCDF Operators version 4.7.8 (Homepage = htt...\n",
       "    CDO:                       Climate Data Operators version 1.9.6 (http://m..."
      ]
     },
     "execution_count": 48,
     "metadata": {},
     "output_type": "execute_result"
    }
   ],
   "source": [
    "y"
   ]
  },
  {
   "cell_type": "code",
   "execution_count": null,
   "metadata": {
    "ExecuteTime": {
     "start_time": "2020-02-18T21:48:18.933Z"
    }
   },
   "outputs": [],
   "source": [
    "# #Reshape to align in time\n",
    "# from tqdm import tqdm\n",
    "# for i in tqdm(range(0, len(X.latitude))):\n",
    "\n",
    "#     for j in range(0, len(X.longitude)):\n",
    "        \n",
    "#         if i==0 and j==0:\n",
    "#             Xda = X.isel(latitude=i, longitude=j).to_array(dim='features').T\n",
    "# #             yda = y.isel(latitude=i, longitude=j).to_array(dim='features').T\n",
    "            \n",
    "#         else:\n",
    "#             XdaNew = X.isel(latitude=i, longitude=j).to_array(dim='features').T\n",
    "# #             ydaNew = y.isel(latitude=i, longitude=j).to_array(dim='features').T\n",
    "\n",
    "#             Xda = xr.concat([Xda, XdaNew], 'points')\n",
    "# #             yda = xr.concat([yda, ydaNew], 'points')\n",
    "            \n",
    "\n"
   ]
  },
  {
   "cell_type": "code",
   "execution_count": 49,
   "metadata": {
    "ExecuteTime": {
     "end_time": "2020-02-19T05:20:52.510144Z",
     "start_time": "2020-02-19T05:20:51.774589Z"
    }
   },
   "outputs": [],
   "source": [
    "X_mean = X.mean(['latitude','longitude'])"
   ]
  },
  {
   "cell_type": "code",
   "execution_count": 50,
   "metadata": {
    "ExecuteTime": {
     "end_time": "2020-02-19T05:20:53.675923Z",
     "start_time": "2020-02-19T05:20:53.499817Z"
    }
   },
   "outputs": [],
   "source": [
    "y_mean = y.mean(['latitude','longitude'])"
   ]
  },
  {
   "cell_type": "code",
   "execution_count": 58,
   "metadata": {
    "ExecuteTime": {
     "end_time": "2020-02-19T05:28:24.548112Z",
     "start_time": "2020-02-19T05:28:24.429858Z"
    }
   },
   "outputs": [],
   "source": [
    "Xda = X_mean.to_array(dim='features').T\n",
    "yda = y_mean['dis24']"
   ]
  },
  {
   "cell_type": "code",
   "execution_count": 59,
   "metadata": {
    "ExecuteTime": {
     "end_time": "2020-02-19T05:28:26.204967Z",
     "start_time": "2020-02-19T05:28:26.010573Z"
    }
   },
   "outputs": [
    {
     "data": {
      "text/plain": [
       "[<matplotlib.lines.Line2D at 0x7f2c25ff3cc0>]"
      ]
     },
     "execution_count": 59,
     "metadata": {},
     "output_type": "execute_result"
    },
    {
     "data": {
      "image/png": "[encoded data removed]",
      "text/plain": [
       "<Figure size 432x288 with 1 Axes>"
      ]
     },
     "metadata": {
      "needs_background": "light"
     },
     "output_type": "display_data"
    }
   ],
   "source": [
    "yda.plot()"
   ]
  },
  {
   "cell_type": "code",
   "execution_count": 60,
   "metadata": {
    "ExecuteTime": {
     "end_time": "2020-02-19T05:28:27.662170Z",
     "start_time": "2020-02-19T05:28:27.605268Z"
    }
   },
   "outputs": [],
   "source": [
    "period_train = dict(time=slice(None, '2005'))\n",
    "period_valid = dict(time=slice('2006', '2011'))\n",
    "period_test = dict(time=slice('2012', '2016'))\n",
    "\n",
    "\n",
    "X_train, y_train = Xda.loc[period_train], yda.loc[period_train]\n",
    "X_valid, y_valid = Xda.loc[period_valid], yda.loc[period_valid]\n",
    "X_test, y_test = Xda.loc[period_test], yda.loc[period_test]\n"
   ]
  },
  {
   "cell_type": "code",
   "execution_count": 61,
   "metadata": {
    "ExecuteTime": {
     "end_time": "2020-02-19T05:28:28.370612Z",
     "start_time": "2020-02-19T05:28:28.356426Z"
    }
   },
   "outputs": [
    {
     "data": {
      "text/html": [
       "<pre>&lt;xarray.DataArray &#x27;stack-5b855bbe4201f8ca7c87ae637b2c80ac&#x27; (time: 2557, features: 9)&gt;\n",
       "dask.array&lt;transpose, shape=(2557, 9), dtype=float32, chunksize=(1, 1), chunktype=numpy.ndarray&gt;\n",
       "Coordinates:\n",
       "  * time      (time) datetime64[ns] 1999-01-01 1999-01-02 ... 2005-12-31\n",
       "  * features  (features) &lt;U5 &#x27;cp&#x27; &#x27;lsm&#x27; &#x27;lsp&#x27; &#x27;ro&#x27; ... &#x27;tcwv&#x27; &#x27;swvl1&#x27; &#x27;swvl2&#x27;</pre>"
      ],
      "text/plain": [
       "<xarray.DataArray 'stack-5b855bbe4201f8ca7c87ae637b2c80ac' (time: 2557, features: 9)>\n",
       "dask.array<transpose, shape=(2557, 9), dtype=float32, chunksize=(1, 1), chunktype=numpy.ndarray>\n",
       "Coordinates:\n",
       "  * time      (time) datetime64[ns] 1999-01-01 1999-01-02 ... 2005-12-31\n",
       "  * features  (features) <U5 'cp' 'lsm' 'lsp' 'ro' ... 'tcwv' 'swvl1' 'swvl2'"
      ]
     },
     "execution_count": 61,
     "metadata": {},
     "output_type": "execute_result"
    }
   ],
   "source": [
    "X_train"
   ]
  },
  {
   "cell_type": "code",
   "execution_count": 62,
   "metadata": {
    "ExecuteTime": {
     "end_time": "2020-02-19T05:37:46.192029Z",
     "start_time": "2020-02-19T05:28:42.332114Z"
    }
   },
   "outputs": [
    {
     "name": "stderr",
     "output_type": "stream",
     "text": [
      "/root/miniconda3/envs/main/lib/python3.6/site-packages/dask/array/numpy_compat.py:40: RuntimeWarning: invalid value encountered in true_divide\n",
      "  x = np.divide(x1, x2, out)\n",
      "/root/miniconda3/envs/main/lib/python3.6/site-packages/dask/array/numpy_compat.py:40: RuntimeWarning: invalid value encountered in true_divide\n",
      "  x = np.divide(x1, x2, out)\n",
      "/root/miniconda3/envs/main/lib/python3.6/site-packages/dask/array/numpy_compat.py:40: RuntimeWarning: invalid value encountered in true_divide\n",
      "  x = np.divide(x1, x2, out)\n",
      "distributed.utils_perf - WARNING - full garbage collections took 10% CPU time recently (threshold: 10%)\n",
      "distributed.utils_perf - WARNING - full garbage collections took 10% CPU time recently (threshold: 10%)\n"
     ]
    }
   ],
   "source": [
    "from sklearn.preprocessing import MinMaxScaler\n",
    "sc = MinMaxScaler(feature_range=(0,1))\n",
    "X_train_scaled = sc.fit_transform(X_train)\n",
    "# sc2 = MinMaxScaler(feature_range=(0,1))\n",
    "# y_train_scaled = sc2.fit_transform(y_train.values.reshape(-1,1))\n",
    "X_train = []\n",
    "y_train_array = []\n",
    "\n",
    "#Temporary fix\n",
    "y_train_scaled = y_train"
   ]
  },
  {
   "cell_type": "code",
   "execution_count": 71,
   "metadata": {
    "ExecuteTime": {
     "end_time": "2020-02-19T05:48:20.495012Z",
     "start_time": "2020-02-19T05:48:20.490538Z"
    }
   },
   "outputs": [
    {
     "data": {
      "text/plain": [
       "(2557,)"
      ]
     },
     "execution_count": 71,
     "metadata": {},
     "output_type": "execute_result"
    }
   ],
   "source": [
    "y_train_scaled.shape"
   ]
  },
  {
   "cell_type": "code",
   "execution_count": 115,
   "metadata": {
    "ExecuteTime": {
     "end_time": "2020-02-19T06:50:16.195924Z",
     "start_time": "2020-02-19T06:50:16.193045Z"
    }
   },
   "outputs": [],
   "source": [
    "X_train = []"
   ]
  },
  {
   "cell_type": "code",
   "execution_count": 116,
   "metadata": {
    "ExecuteTime": {
     "end_time": "2020-02-19T06:50:16.516913Z",
     "start_time": "2020-02-19T06:50:16.513236Z"
    }
   },
   "outputs": [],
   "source": [
    "y_train_array = []"
   ]
  },
  {
   "cell_type": "code",
   "execution_count": 117,
   "metadata": {
    "ExecuteTime": {
     "end_time": "2020-02-19T06:50:20.723461Z",
     "start_time": "2020-02-19T06:50:19.492580Z"
    }
   },
   "outputs": [],
   "source": [
    "#Iterating through each feature, shifting the time for each feature, and appending the time-shifted feature array to X_train for a total of 16 times\n",
    "for n in range(9):\n",
    "    feature_array = []\n",
    "\n",
    "    for i in range(days_intake_length, len(X_train_scaled)-forecast_day):\n",
    "        feature_array.append(X_train_scaled[i - days_intake_length:i, n])\n",
    "\n",
    "\n",
    "    X_train.append(feature_array)\n",
    "\n",
    "y_feature_array = []\n",
    "\n",
    "for i in range(days_intake_length, len(y_train_scaled)-forecast_day):\n",
    "    y_feature_array.append(y_train_scaled[i-days_intake_length:i])\n",
    "\n",
    "X_train.append(y_feature_array)\n",
    "\n"
   ]
  },
  {
   "cell_type": "code",
   "execution_count": 96,
   "metadata": {
    "ExecuteTime": {
     "end_time": "2020-02-19T06:38:29.353857Z",
     "start_time": "2020-02-19T06:36:20.964558Z"
    }
   },
   "outputs": [
    {
     "data": {
      "text/plain": [
       "(10, 2467, 90)"
      ]
     },
     "execution_count": 96,
     "metadata": {},
     "output_type": "execute_result"
    }
   ],
   "source": [
    "np.array(X_train).shape"
   ]
  },
  {
   "cell_type": "code",
   "execution_count": 118,
   "metadata": {
    "ExecuteTime": {
     "end_time": "2020-02-19T06:52:30.691692Z",
     "start_time": "2020-02-19T06:50:25.281528Z"
    }
   },
   "outputs": [
    {
     "data": {
      "text/plain": [
       "(2437, 90, 10)"
      ]
     },
     "execution_count": 118,
     "metadata": {},
     "output_type": "execute_result"
    }
   ],
   "source": [
    "\n",
    "#Creating the transformed y_train array which is shifted by 60 days\n",
    "for i in range(days_intake_length, len(y_train_scaled)-forecast_day):\n",
    "    y_train_array.append(y_train_scaled.values[i: i + forecast_day])\n",
    "\n",
    "#Transforming the list into numpy arrays\n",
    "X_train, y_train = np.array(X_train), np.array(y_train_array)\n",
    "\n",
    "X_train.shape\n",
    "# (17, 8862, 60)\n",
    "\n",
    "#Reshaping new_X_train to be supported as an input format for the LSTM\n",
    "X_train = np.reshape(X_train, (X_train.shape[1], X_train.shape[2], X_train.shape[0]))\n",
    "X_train.shape\n",
    "\n"
   ]
  },
  {
   "cell_type": "code",
   "execution_count": 119,
   "metadata": {
    "ExecuteTime": {
     "end_time": "2020-02-19T06:52:30.699094Z",
     "start_time": "2020-02-19T06:52:30.694213Z"
    }
   },
   "outputs": [
    {
     "data": {
      "text/plain": [
       "(2437, 30)"
      ]
     },
     "execution_count": 119,
     "metadata": {},
     "output_type": "execute_result"
    }
   ],
   "source": [
    "y_train.shape"
   ]
  },
  {
   "cell_type": "code",
   "execution_count": 120,
   "metadata": {
    "ExecuteTime": {
     "end_time": "2020-02-19T06:52:33.975504Z",
     "start_time": "2020-02-19T06:52:30.702030Z"
    }
   },
   "outputs": [],
   "source": [
    "#LSTM MODEL\n",
    "from keras.models import Sequential\n",
    "from keras.layers import Dense, LSTM\n",
    "from keras.layers.core import Dropout\n",
    "\n",
    "\n",
    "regressor = Sequential()\n",
    "\n",
    "regressor.add(LSTM(units=800, return_sequences= True, input_shape=(X_train.shape[1], X_train.shape[2]))) #(n_timesteps, n_features)#(n_sample, n_timesteps, n_features)\n",
    "regressor.add(Dropout(0.1))\n",
    "\n",
    "regressor.add(LSTM(units=800, return_sequences= True))\n",
    "regressor.add(Dropout(0.1))\n",
    "\n",
    "regressor.add(LSTM(units=800, return_sequences= True))\n",
    "regressor.add(Dropout(0.1))\n",
    "\n",
    "regressor.add(LSTM(units=800))\n",
    "regressor.add(Dropout(0.1))\n",
    "\n",
    "regressor.add(Dense(units=30))\n",
    "\n",
    "regressor.compile(optimizer='adam', loss='mean_squared_error')"
   ]
  },
  {
   "cell_type": "code",
   "execution_count": null,
   "metadata": {
    "ExecuteTime": {
     "start_time": "2020-02-19T06:50:57.918Z"
    }
   },
   "outputs": [
    {
     "name": "stdout",
     "output_type": "stream",
     "text": [
      "Epoch 1/100\n",
      "2437/2437 [==============================] - 562s 230ms/step - loss: 13064.9041\n",
      "Epoch 2/100\n",
      "2437/2437 [==============================] - 537s 221ms/step - loss: 7740.7262\n",
      "Epoch 3/100\n",
      "2437/2437 [==============================] - 522s 214ms/step - loss: 6547.4818\n",
      "Epoch 4/100\n",
      "2437/2437 [==============================] - 522s 214ms/step - loss: 6403.4210\n",
      "Epoch 5/100\n",
      "2437/2437 [==============================] - 522s 214ms/step - loss: 6397.6346\n",
      "Epoch 6/100\n",
      "2437/2437 [==============================] - 527s 216ms/step - loss: 6395.4849\n",
      "Epoch 7/100\n",
      "2437/2437 [==============================] - 528s 217ms/step - loss: 6391.8850\n",
      "Epoch 8/100\n",
      "2437/2437 [==============================] - 522s 214ms/step - loss: 6393.1031\n",
      "Epoch 9/100\n",
      "2437/2437 [==============================] - 530s 217ms/step - loss: 6396.7812\n",
      "Epoch 10/100\n",
      "2437/2437 [==============================] - 532s 218ms/step - loss: 6386.1113\n",
      "Epoch 11/100\n",
      "2437/2437 [==============================] - 532s 218ms/step - loss: 6391.0553\n",
      "Epoch 12/100\n",
      "2437/2437 [==============================] - 530s 218ms/step - loss: 6396.7454\n",
      "Epoch 13/100\n",
      "2437/2437 [==============================] - 533s 219ms/step - loss: 6388.2935\n",
      "Epoch 14/100\n",
      "2437/2437 [==============================] - 538s 221ms/step - loss: 6393.4796\n",
      "Epoch 15/100\n",
      "2437/2437 [==============================] - 534s 219ms/step - loss: 6387.5026\n",
      "Epoch 16/100\n",
      "2437/2437 [==============================] - 528s 217ms/step - loss: 6388.1896\n",
      "Epoch 17/100\n",
      "2437/2437 [==============================] - 528s 217ms/step - loss: 6394.9581\n",
      "Epoch 18/100\n",
      "2437/2437 [==============================] - 538s 221ms/step - loss: 6401.5689\n",
      "Epoch 19/100\n",
      "2437/2437 [==============================] - 528s 216ms/step - loss: 6386.2022\n",
      "Epoch 20/100\n",
      "2437/2437 [==============================] - 540s 221ms/step - loss: 6394.0987\n",
      "Epoch 21/100\n",
      "2437/2437 [==============================] - 542s 222ms/step - loss: 6392.5307\n",
      "Epoch 22/100\n",
      "2437/2437 [==============================] - 530s 217ms/step - loss: 6389.9193\n",
      "Epoch 23/100\n",
      "2437/2437 [==============================] - 526s 216ms/step - loss: 6390.0900\n",
      "Epoch 24/100\n",
      "2437/2437 [==============================] - 530s 218ms/step - loss: 6398.1640\n",
      "Epoch 25/100\n",
      "2437/2437 [==============================] - 527s 216ms/step - loss: 6388.1816\n",
      "Epoch 26/100\n",
      "2437/2437 [==============================] - 533s 219ms/step - loss: 6401.0881\n",
      "Epoch 27/100\n",
      "2437/2437 [==============================] - 522s 214ms/step - loss: 6389.8651\n",
      "Epoch 28/100\n",
      "2437/2437 [==============================] - 527s 216ms/step - loss: 6387.7346\n",
      "Epoch 29/100\n",
      "2437/2437 [==============================] - 537s 220ms/step - loss: 6389.1932\n",
      "Epoch 30/100\n",
      "2437/2437 [==============================] - 528s 217ms/step - loss: 6390.5477\n",
      "Epoch 31/100\n",
      "2437/2437 [==============================] - 528s 217ms/step - loss: 6405.2270\n",
      "Epoch 32/100\n",
      "2437/2437 [==============================] - 536s 220ms/step - loss: 6390.0620\n",
      "Epoch 33/100\n",
      "2437/2437 [==============================] - 525s 215ms/step - loss: 6395.9235\n",
      "Epoch 34/100\n",
      "2437/2437 [==============================] - 529s 217ms/step - loss: 6387.9742\n",
      "Epoch 35/100\n",
      "2437/2437 [==============================] - 535s 219ms/step - loss: 6392.8928\n",
      "Epoch 36/100\n",
      "2437/2437 [==============================] - 530s 217ms/step - loss: 6396.7727\n",
      "Epoch 37/100\n",
      "1248/2437 [==============>...............] - ETA: 4:17 - loss: 6197.2971"
     ]
    }
   ],
   "source": [
    "training_history = regressor.fit(X_train, y_train, epochs=100, batch_size=32)"
   ]
  },
  {
   "cell_type": "code",
   "execution_count": null,
   "metadata": {
    "ExecuteTime": {
     "start_time": "2020-02-19T06:53:48.058Z"
    }
   },
   "outputs": [],
   "source": [
    "#SAVING THE MODEL\n",
    "# serialize model to YML\n",
    "regressor_yaml = regressor.to_yaml()\n",
    "with open(\"./elbe_model.yaml\", \"w\") as yaml_file:\n",
    "    yaml_file.write(regressor_yaml)\n",
    "# serialize weights to HDF5\n",
    "regressor.save_weights(\"./elbe_model.h5\")\n",
    "#Seialize feature scaling weights"
   ]
  },
  {
   "cell_type": "code",
   "execution_count": 2,
   "metadata": {
    "ExecuteTime": {
     "end_time": "2020-02-19T03:55:14.781411Z",
     "start_time": "2020-02-19T03:55:14.662256Z"
    }
   },
   "outputs": [
    {
     "data": {
      "image/png": "[encoded data removed]",
      "text/plain": [
       "<IPython.core.display.Image object>"
      ]
     },
     "execution_count": 2,
     "metadata": {},
     "output_type": "execute_result"
    }
   ],
   "source": [
    "from keras.utils import plot_model\n",
    "import pydot\n",
    "\n",
    "plot_model(regressor, to_file='../images/Elbe/model.png', show_shapes=True)"
   ]
  },
  {
   "cell_type": "code",
   "execution_count": null,
   "metadata": {
    "ExecuteTime": {
     "start_time": "2020-02-19T06:53:57.646Z"
    }
   },
   "outputs": [],
   "source": [
    "#TODO: Add error bar from code\n",
    "#Visualizing the loss functions\n",
    "fig, ax = plt.subplots(figsize=(8, 4))\n",
    "ax.plot(training_history['loss'], label='loss')\n",
    "ax.plot(training_history['val_loss'], label='val_loss')\n",
    "plt.title('Learning curve')\n",
    "ax.set_ylabel('Loss')\n",
    "ax.set_xlabel('Epoch')\n",
    "plt.legend(['Training', 'Validation'])\n",
    "ax.set_yscale('log')"
   ]
  },
  {
   "cell_type": "code",
   "execution_count": null,
   "metadata": {},
   "outputs": [],
   "source": []
  }
 ],
 "metadata": {
  "kernelspec": {
   "display_name": "Python 3",
   "language": "python",
   "name": "python3"
  },
  "language_info": {
   "codemirror_mode": {
    "name": "ipython",
    "version": 3
   },
   "file_extension": ".py",
   "mimetype": "text/x-python",
   "name": "python",
   "nbconvert_exporter": "python",
   "pygments_lexer": "ipython3",
   "version": "3.6.10"
  },
  "toc": {
   "base_numbering": 1,
   "nav_menu": {},
   "number_sections": true,
   "sideBar": true,
   "skip_h1_title": false,
   "title_cell": "Table of Contents",
   "title_sidebar": "Contents",
   "toc_cell": false,
   "toc_position": {},
   "toc_section_display": true,
   "toc_window_display": false
  }
 },
 "nbformat": 4,
 "nbformat_minor": 2
}
