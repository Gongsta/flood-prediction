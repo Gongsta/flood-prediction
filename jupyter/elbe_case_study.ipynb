{
 "cells": [
  {
   "cell_type": "code",
   "execution_count": 1,
   "metadata": {
    "ExecuteTime": {
     "end_time": "2020-02-09T02:14:18.863095Z",
     "start_time": "2020-02-09T02:14:18.543838Z"
    }
   },
   "outputs": [],
   "source": [
    "import matplotlib.pyplot as plt"
   ]
  },
  {
   "cell_type": "code",
   "execution_count": null,
   "metadata": {},
   "outputs": [],
   "source": [
    "y_orig = "
   ]
  },
  {
   "cell_type": "code",
   "execution_count": null,
   "metadata": {},
   "outputs": [],
   "source": [
    "import sys\n",
    "sys.path.append(\"../../\")\n",
    "import numpy as np\n",
    "import datetime as dt\n",
    "\n",
    "import matplotlib as mpl\n",
    "import matplotlib.pyplot as plt\n",
    "from pandas.plotting import register_matplotlib_converters\n",
    "register_matplotlib_converters()\n",
    "import pandas as pd\n",
    "import seaborn as sns\n",
    "import xarray as xr\n",
    "import keras\n",
    "\n",
    "from python.aux.utils_floodmodel import add_time, generate_prediction_array, remove_outlier, multi_forecast_case_study\n",
    "from python.aux.plot import plot_multif_prediction\n",
    "\n",
    "\n",
    "fig, ax = plt.subplots(figsize=(15, 5))\n",
    "color_scheme = ['g', 'cyan', 'magenta', 'k']\n",
    "\n",
    "y_case_fin.to_pandas().plot(ax=ax, label='reanalysis', lw=4)\n",
    "run = 0\n",
    "for i in X_multifr_fin.num_of_forecast:\n",
    "    X_multif_fin.sel(num_of_forecast=i).to_pandas().T.plot(ax=ax,\n",
    "                                                           label='forecast',\n",
    "                                                           linewidth=2,\n",
    "                                                           color='firebrick')\n",
    "    X_multifr_fin.sel(num_of_forecast=i).to_pandas().T.plot(ax=ax,\n",
    "                                                            label='frerun',\n",
    "                                                            linewidth=0.9,\n",
    "                                                            linestyle='--',\n",
    "                                                            color=color_scheme[run])\n",
    "    run += 1\n",
    "ax.set_ylabel('river discharge [m$^3$/s]')\n",
    "\n",
    "from matplotlib.lines import Line2D\n",
    "\n",
    "custom_lines = [Line2D([0], [0], color='b', lw=4),\n",
    "                Line2D([0], [0], color='firebrick', lw=2),\n",
    "                Line2D([0], [0], color='g', linestyle='--'),\n",
    "                Line2D([0], [0], color='cyan', linestyle='--'),\n",
    "                Line2D([0], [0], color='magenta', linestyle='--'),\n",
    "                Line2D([0], [0], color='k', linestyle='--')]\n",
    "\n",
    "legendlabels = ['reanalysis', 'neural net', 'EFAS 05-18', 'EFAS 05-22', 'EFAS 05-25', 'EFAS 05-29']\n",
    "ax.legend(custom_lines, legendlabels, fontsize=11)\n",
    "\n",
    "plt.title('Setting: Time-Delay Neural Net: 64 hidden nodes, dropout 0.25');\n"
   ]
  },
  {
   "cell_type": "code",
   "execution_count": null,
   "metadata": {},
   "outputs": [],
   "source": [
    "#Plotting the validation predicted values\n",
    "#Since the current predicted y values are the difference of discharge, we will call the cumsum() function to revert to the original discharge values. We will need the first previous\n",
    "#day's value, i.e. 2005-12-31, but we will remove this value in the next line of code\n",
    "y_pred_valid = np.concatenate(([y_orig.sel(time='2005-12-31').values], y_pred_valid.reshape(-1))).cumsum()\n",
    "#We delete the value at the first index of the array since that value represents the value at time 2005-12-31, which we are not interested in.\n",
    "y_pred_valid = np.delete(y_pred_valid, 0)\n",
    "y_pred_valid_xr = xr.DataArray(y_pred_valid, dims=('time'), coords={'time': dataset_valid.time.values})\n",
    "y_pred_valid_xr.plot(label = 'Predicted discharge')\n",
    "\n",
    "#Plotting the real values\n",
    "y_valid = sc.inverse_transform(y_valid.reshape(-1,1))\n",
    "y_valid = np.concatenate(([y_orig.sel(time='2005-12-31').values], y_valid.reshape(-1))).cumsum()\n",
    "y_valid = np.delete(y_valid, 0)\n",
    "y_valid_xr = xr.DataArray(y_valid, dims=('time'), coords={'time': dataset_valid.time.values})\n",
    "y_valid_xr.plot(label='True discharge')\n",
    "plt.title('LSTM model prediction trained on time values from 1981-2005 with feature scaling')\n",
    "plt.legend(loc='upper left')\n",
    "#plt.savefig('./images/sampleanalysis/LSTM_difference_of_discharge_validationdata.png', bbox_inches='tight', dpi=600)\n",
    "\n"
   ]
  }
 ],
 "metadata": {
  "kernelspec": {
   "display_name": "Python 3",
   "language": "python",
   "name": "python3"
  },
  "language_info": {
   "codemirror_mode": {
    "name": "ipython",
    "version": 3
   },
   "file_extension": ".py",
   "mimetype": "text/x-python",
   "name": "python",
   "nbconvert_exporter": "python",
   "pygments_lexer": "ipython3",
   "version": "3.6.10"
  },
  "toc": {
   "base_numbering": 1,
   "nav_menu": {},
   "number_sections": true,
   "sideBar": true,
   "skip_h1_title": false,
   "title_cell": "Table of Contents",
   "title_sidebar": "Contents",
   "toc_cell": false,
   "toc_position": {},
   "toc_section_display": true,
   "toc_window_display": false
  }
 },
 "nbformat": 4,
 "nbformat_minor": 2
}
