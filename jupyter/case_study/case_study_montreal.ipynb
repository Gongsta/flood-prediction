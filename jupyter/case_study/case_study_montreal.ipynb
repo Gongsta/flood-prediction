{
 "cells": [
  {
   "cell_type": "code",
   "execution_count": 1,
   "metadata": {},
   "outputs": [],
   "source": [
    "import xarray as xr\n",
    "import sys\n",
    "sys.path.append(\"../../\")"
   ]
  },
  {
   "cell_type": "code",
   "execution_count": 2,
   "metadata": {},
   "outputs": [
    {
     "name": "stderr",
     "output_type": "stream",
     "text": [
      "/opt/miniconda3/envs/flood_prediction/lib/python3.7/site-packages/ipykernel_launcher.py:1: FutureWarning: In xarray version 0.15 the default behaviour of `open_mfdataset`\n",
      "will change. To retain the existing behavior, pass\n",
      "combine='nested'. To use future default behavior, pass\n",
      "combine='by_coords'. See\n",
      "http://xarray.pydata.org/en/stable/combining.html#combining-multi\n",
      "\n",
      "  \"\"\"Entry point for launching an IPython kernel.\n",
      "/opt/miniconda3/envs/flood_prediction/lib/python3.7/site-packages/xarray/backends/api.py:933: FutureWarning: The datasets supplied have global dimension coordinates. You may want\n",
      "to use the new `combine_by_coords` function (or the\n",
      "`combine='by_coords'` option to `open_mfdataset`) to order the datasets\n",
      "before concatenation. Alternatively, to continue concatenating based\n",
      "on the order the datasets are supplied in future, please use the new\n",
      "`combine_nested` function (or the `combine='nested'` option to\n",
      "open_mfdataset).\n",
      "  from_openmfds=True,\n"
     ]
    }
   ],
   "source": [
    "glofas = xr.open_mfdataset('../../data/glofas_sample/Elbe/glofas_masked_elbe_*.nc')"
   ]
  },
  {
   "cell_type": "code",
   "execution_count": 3,
   "metadata": {},
   "outputs": [],
   "source": [
    "from functions.floodmodel_utils import get_basin_mask, get_river_mask"
   ]
  },
  {
   "cell_type": "code",
   "execution_count": 4,
   "metadata": {},
   "outputs": [],
   "source": [
    "eps = xr.open_dataset('/Volumes/portableHardDisk/data/EPS/europeEPS201305/glofas2.1_2018_areagrid_for_StevenGong_in_Europe_2013051700.nc')"
   ]
  },
  {
   "cell_type": "code",
   "execution_count": 5,
   "metadata": {},
   "outputs": [],
   "source": [
    "era5 = xr.open_mfdataset(\"/Volumes/portableHardDisk/data/Elbe/reanalysis-era5-single-levels_convective_precipitation,land_sea_mask,large_scale_precipitation,runoff,slope_of_sub_gridscale_orography,soil_type,total_column_water_vapour,volumetric_soil_water_layer_1,volumetric_soil_water_layer_2_*.nc\", combine=\"by_coords\")"
   ]
  },
  {
   "cell_type": "code",
   "execution_count": 6,
   "metadata": {},
   "outputs": [
    {
     "data": {
      "text/html": [
       "<pre>&lt;xarray.Dataset&gt;\n",
       "Dimensions:    (ensemble: 11, latitude: 450, longitude: 750, time: 31)\n",
       "Coordinates:\n",
       "  * time       (time) datetime64[ns] 2013-05-17 2013-05-18 ... 2013-06-16\n",
       "  * longitude  (longitude) float32 -24.95 -24.85 -24.75 ... 49.75 49.85 49.95\n",
       "  * latitude   (latitude) float32 74.95 74.85 74.75 74.65 ... 30.25 30.15 30.05\n",
       "  * ensemble   (ensemble) float64 0.0 1.0 2.0 3.0 4.0 5.0 6.0 7.0 8.0 9.0 10.0\n",
       "Data variables:\n",
       "    ups        (latitude, longitude) float32 ...\n",
       "    ldd        (latitude, longitude) float32 ...\n",
       "    rl2        (latitude, longitude) float32 ...\n",
       "    rl5        (latitude, longitude) float32 ...\n",
       "    rl20       (latitude, longitude) float32 ...\n",
       "    dis        (time, ensemble, latitude, longitude) float32 ...\n",
       "Attributes:\n",
       "    CDI:          Climate Data Interface version 1.9.6 (http://mpimet.mpg.de/...\n",
       "    history:      Fri Feb 14 21:26:30 2020: cdo -f nc4 -z zip copy tmp.nc /vo...\n",
       "    Conventions:  CF-1.6\n",
       "    CDO:          Climate Data Operators version 1.9.6 (http://mpimet.mpg.de/...</pre>"
      ],
      "text/plain": [
       "<xarray.Dataset>\n",
       "Dimensions:    (ensemble: 11, latitude: 450, longitude: 750, time: 31)\n",
       "Coordinates:\n",
       "  * time       (time) datetime64[ns] 2013-05-17 2013-05-18 ... 2013-06-16\n",
       "  * longitude  (longitude) float32 -24.95 -24.85 -24.75 ... 49.75 49.85 49.95\n",
       "  * latitude   (latitude) float32 74.95 74.85 74.75 74.65 ... 30.25 30.15 30.05\n",
       "  * ensemble   (ensemble) float64 0.0 1.0 2.0 3.0 4.0 5.0 6.0 7.0 8.0 9.0 10.0\n",
       "Data variables:\n",
       "    ups        (latitude, longitude) float32 ...\n",
       "    ldd        (latitude, longitude) float32 ...\n",
       "    rl2        (latitude, longitude) float32 ...\n",
       "    rl5        (latitude, longitude) float32 ...\n",
       "    rl20       (latitude, longitude) float32 ...\n",
       "    dis        (time, ensemble, latitude, longitude) float32 ...\n",
       "Attributes:\n",
       "    CDI:          Climate Data Interface version 1.9.6 (http://mpimet.mpg.de/...\n",
       "    history:      Fri Feb 14 21:26:30 2020: cdo -f nc4 -z zip copy tmp.nc /vo...\n",
       "    Conventions:  CF-1.6\n",
       "    CDO:          Climate Data Operators version 1.9.6 (http://mpimet.mpg.de/..."
      ]
     },
     "execution_count": 6,
     "metadata": {},
     "output_type": "execute_result"
    }
   ],
   "source": [
    "eps = eps.rename({'lat': 'latitude'})\n",
    "eps = eps.rename({'lon': 'longitude'})\n",
    "\n",
    "eps"
   ]
  },
  {
   "cell_type": "code",
   "execution_count": null,
   "metadata": {},
   "outputs": [],
   "source": [
    "elbe_basin_mask = get_basin_mask(eps.isel(time=0, ensemble=0)['dis'], 'Elbe')"
   ]
  }
 ],
 "metadata": {
  "kernelspec": {
   "display_name": "Python [conda env:flood_prediction]",
   "language": "python",
   "name": "conda-env-flood_prediction-py"
  },
  "language_info": {
   "codemirror_mode": {
    "name": "ipython",
    "version": 3
   },
   "file_extension": ".py",
   "mimetype": "text/x-python",
   "name": "python",
   "nbconvert_exporter": "python",
   "pygments_lexer": "ipython3",
   "version": "3.7.6"
  }
 },
 "nbformat": 4,
 "nbformat_minor": 4
}
